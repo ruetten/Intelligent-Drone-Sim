{
 "cells": [
  {
   "cell_type": "code",
   "execution_count": 1,
   "metadata": {},
   "outputs": [],
   "source": [
    "import numpy as np\n",
    "import random\n",
    "import copy\n",
    "import math\n",
    "\n",
    "%matplotlib inline\n",
    "import matplotlib.pyplot as plt\n",
    "plt.style.use('seaborn-whitegrid')\n",
    "\n",
    "num_drones = 8\n",
    "drone_id = 0\n",
    "population = []"
   ]
  },
  {
   "cell_type": "code",
   "execution_count": 2,
   "metadata": {},
   "outputs": [],
   "source": [
    "class Drone:\n",
    "    id = 0\n",
    "    x = 0\n",
    "    y = 0\n",
    "    x_move = 0\n",
    "    y_move = 0\n",
    "    coverage = 3\n",
    "    rely_on = None\n",
    "    send_to = None\n",
    "    connected_to = []\n",
    "    is_dead = False\n",
    "    nn = None\n",
    "    \n",
    "    def __init__(self):\n",
    "        global drone_id\n",
    "        self.id = drone_id\n",
    "        drone_id += 1\n",
    "        self.connected_to = []\n",
    "        self.rely_on = None\n",
    "        self.send_to = None\n",
    "        self.nn = None\n",
    "        \n",
    "    def __repr__(self):\n",
    "        return str(self.id)\n",
    "    \n",
    "    def neural_init(self):\n",
    "        self.nn = NeuralNetwork(self.get_input_layer())\n",
    "    \n",
    "    def get_input_layer(self):\n",
    "        rely_on_sig = -1\n",
    "        #print(self, \"relies on\", self.rely_on)\n",
    "        if self.rely_on != None:\n",
    "            rely_on_sig = drone_sig_strength(self, self.rely_on)\n",
    "        \n",
    "        #print(self, \"sends to\", self.send_to)\n",
    "        send_to_sig = -1\n",
    "        if self.send_to != None:\n",
    "            send_to_sig = drone_sig_strength(self, self.send_to)\n",
    "        \n",
    "        in_layer = [self.x*5, self.y*5, rely_on_sig, send_to_sig, self.x_move, self.y_move]\n",
    "        #in_layer = [sigmoid(self.x*5), sigmoid(self.y*5), sigmoid(rely_on_sig), sigmoid(send_to_sig), self.x_move, self.y_move]\n",
    "        #out_layer_form = np.array([[0],[0],[0],[0]])\n",
    "        in_layer = np.array([in_layer])\n",
    "        #self.nn = NeuralNetwork(in_layer, out_layer_form)\n",
    "        return in_layer\n",
    "        \n",
    "    def neural_net_feedforward(self, input_layer):\n",
    "        #print(input_layer)\n",
    "        movement = self.nn.feedforward(input_layer)\n",
    "        #print(self, movement)\n",
    "        self.x_move = movement[0][0]\n",
    "        self.y_move = movement[0][1]"
   ]
  },
  {
   "cell_type": "code",
   "execution_count": 3,
   "metadata": {},
   "outputs": [],
   "source": [
    "#https://towardsdatascience.com/how-to-build-your-own-neural-network-from-scratch-in-python-68998a08e4f6 \n",
    "def sigmoid(x):\n",
    "    #print(x, '\\n')\n",
    "    #return 2*((1.0/(1+ np.exp(-0.5*(x-1)))-0.5))\n",
    "    return (np.sin(x)+1)*.5\n",
    "    #return ((np.tanh(.05*(x-50))+1)*.5)\n",
    "\n",
    "class NeuralNetwork:\n",
    "    def __init__(self, x):\n",
    "        self.input      = x\n",
    "        #print(self.input)\n",
    "        self.weights1   = np.random.rand(self.input.shape[1], 4)\n",
    "        #print(self.weights1)\n",
    "        self.weights2   = np.random.rand(4, 8)  \n",
    "        #print(self.weights2)\n",
    "        self.weights3   = np.random.rand(8, 2)  \n",
    "        #print(self.weights3)\n",
    "        \n",
    "        #self.output = np.zeros(y.shape)\n",
    "        \n",
    "    def feedforward(self, input_layer):\n",
    "        #For simplicity, biases are assumed to be zero\n",
    "        self.layer1 = sigmoid(np.dot(input_layer, self.weights1))\n",
    "        #print(self.layer1)\n",
    "        self.layer2 = sigmoid(np.dot(self.layer1, self.weights2))\n",
    "        #print(self.layer2)\n",
    "        self.output = sigmoid(np.dot(self.layer2, self.weights3))\n",
    "        #print(self.output)\n",
    "        return self.output"
   ]
  },
  {
   "cell_type": "code",
   "execution_count": 4,
   "metadata": {},
   "outputs": [],
   "source": [
    "def vertices_of_regpoly(n, r, map_size):\n",
    "    vertices = []\n",
    "    x = []\n",
    "    y = []\n",
    "    for i in range(0, n):\n",
    "        #x.append(math.floor(( map_size / 2) + r * math.cos(2 * math.pi * i / n)))\n",
    "        #y.append(math.floor(( map_size / 2) + r * math.sin(2 * math.pi * i / n)))\n",
    "        x.append(( map_size / 2) + r * math.cos(2 * math.pi * i / n))\n",
    "        y.append(( map_size / 2) + r * math.sin(2 * math.pi * i / n))\n",
    "    vertices.append(x)\n",
    "    vertices.append(y)\n",
    "    return vertices"
   ]
  },
  {
   "cell_type": "code",
   "execution_count": 5,
   "metadata": {},
   "outputs": [],
   "source": [
    "def set_init_drones(swarm):\n",
    "    xy = vertices_of_regpoly(num_drones, 2, swarm.the_map.size)\n",
    "    for i in range(0, len(swarm.drones)):\n",
    "        swarm.drones[i].x = xy[0][i]\n",
    "        swarm.drones[i].y = xy[1][i]"
   ]
  },
  {
   "cell_type": "code",
   "execution_count": 6,
   "metadata": {},
   "outputs": [],
   "source": [
    "class Swarm:\n",
    "    drones = []\n",
    "    connectedness = []\n",
    "    \n",
    "    def __init__(self, drones, map_size):\n",
    "        self.the_map = GeoMap(map_size)\n",
    "        self.drones = drones\n",
    "        global drone_id\n",
    "        drone_id = 0\n",
    "        set_init_drones(self)\n",
    "        self.assign_connectedness()\n",
    "        self.assign_drone_connect()\n",
    "        self.rssi_table = []\n",
    "        determine_architecture(self)\n",
    "        determine_neighbors(self)\n",
    "        for drone in self.drones:\n",
    "            drone.neural_init()\n",
    "            \n",
    "    \n",
    "    def assign_connectedness(self):\n",
    "        #Make the swarm's connectivity matrix\n",
    "        #This matrix is really only used for initial configuration\n",
    "        #~~~~~~~~~~~~~~~~~~~~~~~~~~~~~~~~~~~~~~~~~~~~~~~~~~~~~~~~~~\n",
    "        self.connectedness = np.zeros((len(self.drones),len(self.drones)))\n",
    "\n",
    "        #The upper traingle of a mtrix w/o diagonal is filled in with 1s\n",
    "        #the diagonal would mean drones are connected to themselves\n",
    "        #the lower triangle is just a reflection\n",
    "        #representation of the connections between drones\n",
    "        for i in range(0,len(self.drones)):\n",
    "            for j in range(0, i):\n",
    "                self.connectedness[j][i] = 1\n",
    "\n",
    "        # Ensure that each drone has at least one connection\n",
    "        for i in range(0,len(self.drones)):\n",
    "            possible_values = np.nonzero(self.connectedness[i])[0].tolist()\n",
    "            choice = random.choice(possible_values) if possible_values else -1\n",
    "            if choice != -1:\n",
    "                possible_values.remove(choice)\n",
    "            #Remaining choices have a possibility of not being connections (probability related to the number of drones)\n",
    "            for value in possible_values:\n",
    "                self.connectedness[i][value] = 0 if random.random() > 1.0/float(len(self.drones)) else 1\n",
    "\n",
    "        #reflect over diagonal axis of matrix to make symmetric matrix\n",
    "        for i in range(0,len(self.drones)):\n",
    "            for j in range(0, i):\n",
    "                self.connectedness[i][j] = self.connectedness[j][i]\n",
    "    \n",
    "    def assign_drone_connect(self):\n",
    "        #Assign list connectedness in drones\n",
    "        #~~~~~~~~~~~~~~~~~~~~~~~~~~~~~~~~~~~~~~~~~\n",
    "        for i in range(0,len(self.connectedness)):\n",
    "            for j in range(0, len(self.connectedness)):\n",
    "                if self.connectedness[i][j] == 1:\n",
    "                    self.drones[i].connected_to.append(self.drones[j])\n",
    "    "
   ]
  },
  {
   "cell_type": "code",
   "execution_count": 7,
   "metadata": {},
   "outputs": [],
   "source": [
    "def determine_fitness(swarm):\n",
    "    trues = 0\n",
    "    for x in range(0, len(swarm.the_map.search_points)):\n",
    "        for y in range(0, len(swarm.the_map.search_points[x])):\n",
    "              if swarm.the_map.search_points[x][y]:\n",
    "                trues += 1\n",
    "    return float(trues)/float(swarm.the_map.size)"
   ]
  },
  {
   "cell_type": "code",
   "execution_count": 8,
   "metadata": {},
   "outputs": [],
   "source": [
    "def determine_architecture(swarm):\n",
    "    coordinator = None\n",
    "    for drone in swarm.drones:\n",
    "        if coordinator == None:\n",
    "            coordinator = drone\n",
    "            rssi = 0\n",
    "        else:\n",
    "            rssi = drone_sig_strength(drone, coordinator)\n",
    "        init_rssi_table(drone, rssi, swarm.rssi_table)\n",
    "    sort_table_by_rssi(swarm.rssi_table)"
   ]
  },
  {
   "cell_type": "code",
   "execution_count": 9,
   "metadata": {},
   "outputs": [],
   "source": [
    "def init_rssi_table(node_check, rssi, rssi_table):\n",
    "    node = {}\n",
    "    node[\"node\"] = node_check\n",
    "    node[\"rssi\"] = rssi\n",
    "    rssi_table.append(node)"
   ]
  },
  {
   "cell_type": "code",
   "execution_count": 10,
   "metadata": {},
   "outputs": [],
   "source": [
    "def sort_table_by_rssi(rssi_table):\n",
    "    rssi_table.sort(key=lambda val: val[\"rssi\"])"
   ]
  },
  {
   "cell_type": "code",
   "execution_count": 11,
   "metadata": {},
   "outputs": [],
   "source": [
    "def determine_neighbors(swarm):\n",
    "    if len(swarm.rssi_table) > 1:\n",
    "        for index in range(0, len(swarm.rssi_table)):\n",
    "            node = swarm.rssi_table[index]['node']\n",
    "            if index == 0:\n",
    "                node.rely_on = None\n",
    "                node.send_to = swarm.rssi_table[index + 1]['node']\n",
    "            elif index == len(swarm.rssi_table) - 1:\n",
    "                node.rely_on = swarm.rssi_table[index - 1]['node']\n",
    "                node.send_to = None\n",
    "            else:\n",
    "                node.rely_on = swarm.rssi_table[index - 1]['node']\n",
    "                node.send_to = swarm.rssi_table[index + 1]['node']"
   ]
  },
  {
   "cell_type": "code",
   "execution_count": 12,
   "metadata": {},
   "outputs": [],
   "source": [
    "def create_starting_population(size, map_size):\n",
    "    population = []\n",
    "    \n",
    "    global num_nodes\n",
    "    for i in range(0,size):\n",
    "        population.append(create_new_member(num_drones, map_size))\n",
    "        \n",
    "    return population"
   ]
  },
  {
   "cell_type": "code",
   "execution_count": 13,
   "metadata": {},
   "outputs": [],
   "source": [
    "def create_new_member(num_drones, map_size):\n",
    "    drones = []\n",
    "    for i in range(0, num_drones):\n",
    "        drones.append(Drone())\n",
    "    member = Swarm(drones, map_size)\n",
    "    return member"
   ]
  },
  {
   "cell_type": "code",
   "execution_count": 14,
   "metadata": {},
   "outputs": [],
   "source": [
    "def plot_swarm(swarm):\n",
    "    fig, ax = plt.subplots() # note we must use plt.subplots, not plt.subplot\n",
    "    for drone in swarm.drones:\n",
    "        plt.plot(drone.x, drone.y, 'x', color='black')\n",
    "        #print(drone.x, drone.y)\n",
    "        circle1 = plt.Circle((drone.x, drone.y), drone.coverage, color = 'b', fill=False)        \n",
    "        ax.add_artist(circle1)\n",
    "\n",
    "    #fig.savefig('plotcircles.png')\n",
    "        \n",
    "    # Draws a visualization for the network connections    \n",
    "    for row in range(0, num_drones - 1):\n",
    "        for col in range(row + 1, num_drones):\n",
    "            if swarm.connectedness[row][col] == 1:\n",
    "                plt.plot([swarm.drones[row].x, swarm.drones[col].x], \n",
    "                         [swarm.drones[row].y, swarm.drones[col].y])"
   ]
  },
  {
   "cell_type": "code",
   "execution_count": 15,
   "metadata": {},
   "outputs": [],
   "source": [
    "def points_in_circle(x0, y0, radius):\n",
    "    x_ = np.arange(x0 - radius - 1, x0 + radius + 1, dtype=int)\n",
    "    y_ = np.arange(y0 - radius - 1, y0 + radius + 1, dtype=int)\n",
    "    x, y = np.where((x_[:,np.newaxis] - x0)**2 + (y_ - y0)**2 <= radius**2)\n",
    "    # x, y = np.where((np.hypot((x_-x0)[:,np.newaxis], y_-y0)<= radius)) # alternative implementation\n",
    "    for x, y in zip(x_[x], y_[y]):\n",
    "        yield x, y\n",
    "        plt.plot(x, y, '.', color='blue')"
   ]
  },
  {
   "cell_type": "code",
   "execution_count": 16,
   "metadata": {},
   "outputs": [],
   "source": [
    "class GeoMap:\n",
    "    search_points = []\n",
    "    searched_points = set()\n",
    "    def __init__(self, size):\n",
    "        self.size = size\n",
    "        self.populate_search_points()\n",
    "        \n",
    "    def draw_map(self):\n",
    "        plt.plot([0,0, self.size, self.size, 0], \n",
    "                 [0, self.size, self.size,0, 0])\n",
    "        self.disp_search_points()\n",
    "        #self.disp_searched_points()\n",
    "        \n",
    "    def disp_search_points(self):\n",
    "        for x in range(0, len(self.search_points)):\n",
    "            for y in range(0, len(self.search_points[x])):\n",
    "                if self.search_points[x][y]:\n",
    "                    plt.plot(x, y, '.', color='green')\n",
    "    \n",
    "    def disp_searched_points(self):\n",
    "        for point in self.searched_points:\n",
    "            plt.plot(point[0], point[1], '.', color='green')\n",
    "        \n",
    "    def populate_search_points(self):\n",
    "        for i in range(0, self.size + 2):\n",
    "            row = []\n",
    "            for j in range(0, self.size + 2):\n",
    "                row.append(False)\n",
    "            self.search_points.append(row)"
   ]
  },
  {
   "cell_type": "code",
   "execution_count": 17,
   "metadata": {},
   "outputs": [],
   "source": [
    "def drone_distance(drone1, drone2):\n",
    "    return abs(math.hypot(drone2.x - drone1.x, drone2.y - drone1.y))\n",
    "\n",
    "def drone_sig_strength(drone1, drone2):\n",
    "    #return 20*math.log10(1/math.pow(drone_distance(drone1, drone2),2))\n",
    "    #return 1/math.pow(drone_distance(drone1, drone2),2)\n",
    "    dist = drone_distance(drone1, drone2)\n",
    "    #print(dist)\n",
    "    try:\n",
    "        return  10*2*math.log10(dist) + 1\n",
    "    except ValueError:\n",
    "        print(dist)\n",
    "        return -1\n",
    "\n",
    "def swarm_sig_strength(swarm):\n",
    "    swarm_strength = []\n",
    "    \n",
    "    for i in range(0, num_drones):\n",
    "        for j in range(0, i):\n",
    "            if swarm.connectedness[i][j] == 1:\n",
    "                #print('Signal strength between drone ', i, ' and drone ', j, ': ', end='')\n",
    "                #print(drone_sig_strength(swarm.drones[i], swarm.drones[j]))\n",
    "                dist = drone_distance(swarm.drones[i], swarm.drones[j])\n",
    "                sig_strength = drone_sig_strength(swarm.drones[i], swarm.drones[j])\n",
    "                swarm_strength.append([[j, i], dist , sig_strength])\n",
    "    return swarm_strength"
   ]
  },
  {
   "cell_type": "code",
   "execution_count": 18,
   "metadata": {},
   "outputs": [],
   "source": [
    "def check_drone_coverage(swarm):\n",
    "    #Only check the points that are within the area that drones are searching\n",
    "    min_x = swarm.the_map.size + 1\n",
    "    max_x = 0\n",
    "    min_y = swarm.the_map.size + 1\n",
    "    max_y = 0\n",
    "    for drone in swarm.drones:\n",
    "        if drone.x < min_x:\n",
    "            min_x = drone.x\n",
    "        if drone.x > max_x:\n",
    "            max_x = drone.x\n",
    "        if drone.y < min_y:\n",
    "            min_y = drone.y\n",
    "        if drone.y > max_y:\n",
    "            max_y = drone.y\n",
    "    \n",
    "        #for circle_point in points_in_circle(drone.x, drone.y, drone.coverage):\n",
    "            #the_map.searched_points.add(circle_point)\n",
    "    \n",
    "    #Check if points are within drone coverage\n",
    "    for x in range(int(min_x - drone.coverage), int(max_x + drone.coverage) + 1):\n",
    "        for y in range(int(min_y - drone.coverage), int(max_y + drone.coverage) + 1):\n",
    "            for drone in swarm.drones:\n",
    "                dist = math.sqrt(math.pow(x-drone.x, 2) + math.pow(y-drone.y, 2))\n",
    "                if dist <= drone.coverage:\n",
    "                    if x >= 0 and x <= swarm.the_map.size and y >= 0 and y <= swarm.the_map.size:\n",
    "                        swarm.the_map.search_points[x][y] = True\n",
    "\n",
    "    #print(swarm_sig_strength(swarm))\n",
    "    #print(the_map.search_points)\n",
    "        "
   ]
  },
  {
   "cell_type": "code",
   "execution_count": 19,
   "metadata": {},
   "outputs": [],
   "source": [
    "def draw_scene(swarm):\n",
    "    plot_swarm(swarm)\n",
    "    swarm.the_map.draw_map()"
   ]
  },
  {
   "cell_type": "code",
   "execution_count": 20,
   "metadata": {},
   "outputs": [],
   "source": [
    "def init():\n",
    "    global population\n",
    "    population = create_starting_population(3, 100)\n",
    "    for swarm in population:\n",
    "        check_drone_coverage(swarm)\n",
    "        draw_scene(swarm)\n",
    "        \n",
    "    #for swarm in population:\n",
    "        #determine_architecture(swarm)\n",
    "        #determine_neighbors(swarm)"
   ]
  },
  {
   "cell_type": "code",
   "execution_count": 21,
   "metadata": {},
   "outputs": [],
   "source": [
    "def scatter():\n",
    "    for swarm in population:\n",
    "        for drone in swarm.drones:\n",
    "            for i in range(0, 1000):\n",
    "                drone.x += random.randint(-1, 1)\n",
    "                drone.y += random.randint(-1, 1)\n",
    "                #for circle_point in points_in_circle(drone.x, drone.y, drone.coverage):\n",
    "                    #print(circle_point)\n",
    "                    #the_map.searched_points.add(circle_point)\n",
    "                check_drone_coverage(swarm)\n",
    "                \n",
    "        draw_scene(swarm)\n",
    "        #print(sorted(the_map.searched_points))\n",
    "        #print(swarm_sig_strength(swarm))\n",
    "        \n",
    "        print(determine_fitness())"
   ]
  },
  {
   "cell_type": "code",
   "execution_count": 22,
   "metadata": {},
   "outputs": [],
   "source": [
    "def smart_scatter():\n",
    "    battery_life = 200\n",
    "    for i in range(0, battery_life):\n",
    "        for swarm in population:\n",
    "            for drone in swarm.drones: \n",
    "                if not drone.is_dead:\n",
    "                    if drone.x_move < 0.45:\n",
    "                        x_adj = -1\n",
    "                    elif drone.x_move >= 0.45 and drone.x_move < .55:\n",
    "                        x_adj = 0\n",
    "                    elif drone.x_move >= .55:\n",
    "                        x_adj = 1\n",
    "\n",
    "                    if drone.y_move < 0.45:\n",
    "                        y_adj = -1\n",
    "                    elif drone.y_move >= 0.45 and drone.y_move < .55:\n",
    "                        y_adj = 0\n",
    "                    elif drone.y_move >= .55:\n",
    "                        y_adj = 1\n",
    "\n",
    "                    drone.x += x_adj\n",
    "                    drone.y += y_adj\n",
    "                    #for circle_point in points_in_circle(drone.x, drone.y, drone.coverage):\n",
    "                        #print(circle_point)\n",
    "                        #the_map.searched_points.add(circle_point)\n",
    "                    check_drone_coverage(swarm)\n",
    "\n",
    "                    if drone.x < 0 or drone.x > swarm.the_map.size or drone.y < 0 or drone.y > swarm.the_map.size:\n",
    "                        drone.is_dead = True\n",
    "\n",
    "                    if drone.rely_on != None and drone_sig_strength(drone, drone.rely_on) > 30:\n",
    "                        drone.is_dead = True\n",
    "\n",
    "                    if drone.send_to != None and drone_sig_strength(drone, drone.send_to) > 30:\n",
    "                        drone.is_dead = True\n",
    "\n",
    "                    drone.neural_net_feedforward(drone.get_input_layer())\n",
    "                    \n",
    "    for swarm in population:\n",
    "        draw_scene(swarm)\n",
    "        #print(sorted(the_map.searched_points))\n",
    "        #print(swarm_sig_strength(swarm))\n",
    "\n",
    "        print(determine_fitness(swarm))"
   ]
  },
  {
   "cell_type": "code",
   "execution_count": 23,
   "metadata": {},
   "outputs": [],
   "source": [
    "def equalize_map():\n",
    "    plt.xlim(-the_map.size*.05, the_map.size + the_map.size*.05)\n",
    "    plt.ylim(-the_map.size*.05, the_map.size + the_map.size*.05)\n",
    "    plt.gca().set_aspect('equal', adjustable='box')"
   ]
  },
  {
   "cell_type": "code",
   "execution_count": 24,
   "metadata": {
    "scrolled": true
   },
   "outputs": [
    {
     "data": {
      "image/png": "[encoded data removed]",
      "text/plain": [
       "<Figure size 432x288 with 1 Axes>"
      ]
     },
     "metadata": {
      "needs_background": "light"
     },
     "output_type": "display_data"
    },
    {
     "data": {
      "image/png": "[encoded data removed]",
      "text/plain": [
       "<Figure size 432x288 with 1 Axes>"
      ]
     },
     "metadata": {
      "needs_background": "light"
     },
     "output_type": "display_data"
    },
    {
     "data": {
      "image/png": "[encoded data removed]",
      "text/plain": [
       "<Figure size 432x288 with 1 Axes>"
      ]
     },
     "metadata": {
      "needs_background": "light"
     },
     "output_type": "display_data"
    }
   ],
   "source": [
    "init()\n",
    "#equalize_map()"
   ]
  },
  {
   "cell_type": "code",
   "execution_count": 25,
   "metadata": {},
   "outputs": [
    {
     "name": "stdout",
     "output_type": "stream",
     "text": [
      "0.0\n",
      "0.0\n",
      "16.12\n",
      "16.12\n",
      "16.12\n"
     ]
    },
    {
     "data": {
      "image/png": "[encoded data removed]",
      "text/plain": [
       "<Figure size 432x288 with 1 Axes>"
      ]
     },
     "metadata": {
      "needs_background": "light"
     },
     "output_type": "display_data"
    },
    {
     "data": {
      "image/png": "[encoded data removed]",
      "text/plain": [
       "<Figure size 432x288 with 1 Axes>"
      ]
     },
     "metadata": {
      "needs_background": "light"
     },
     "output_type": "display_data"
    },
    {
     "data": {
      "image/png": "[encoded data removed]",
      "text/plain": [
       "<Figure size 432x288 with 1 Axes>"
      ]
     },
     "metadata": {
      "needs_background": "light"
     },
     "output_type": "display_data"
    }
   ],
   "source": [
    "smart_scatter()\n",
    "#equalize_map()"
   ]
  },
  {
   "cell_type": "code",
   "execution_count": 26,
   "metadata": {},
   "outputs": [
    {
     "name": "stdout",
     "output_type": "stream",
     "text": [
      "0 [[0.79537157 0.81398949 0.92288213 0.69979421]\n",
      " [0.04795032 0.37446152 0.03360429 0.12346023]\n",
      " [0.08156554 0.43254817 0.54419527 0.30768374]\n",
      " [0.21770856 0.37410488 0.03928834 0.03572528]\n",
      " [0.39332703 0.76567802 0.81946075 0.22189277]\n",
      " [0.64480717 0.55076142 0.4872686  0.18151773]]\n",
      "1 [[0.14504535 0.73438752 0.31741483 0.81391615]\n",
      " [0.62437548 0.03998916 0.56248682 0.20368019]\n",
      " [0.80250433 0.20746531 0.78983886 0.71928922]\n",
      " [0.65917199 0.47668204 0.76878678 0.95221547]\n",
      " [0.0569594  0.7470785  0.30578052 0.9595221 ]\n",
      " [0.6372378  0.95216868 0.19296017 0.17851118]]\n",
      "2 [[0.91263744 0.19442818 0.4356637  0.16746919]\n",
      " [0.80172282 0.30396347 0.10482426 0.62366874]\n",
      " [0.61819725 0.60573953 0.3691042  0.66186344]\n",
      " [0.35353218 0.47537053 0.58667395 0.49973734]\n",
      " [0.87305483 0.8953324  0.11527165 0.06107327]\n",
      " [0.02070272 0.13129604 0.39351332 0.8687948 ]]\n",
      "3 [[0.83487441 0.81691371 0.98549222 0.43412903]\n",
      " [0.74651311 0.16143422 0.76785287 0.45160094]\n",
      " [0.32687237 0.95788183 0.43036453 0.25343399]\n",
      " [0.10465124 0.16918004 0.95317161 0.84039258]\n",
      " [0.89968324 0.75699137 0.60512107 0.53954232]\n",
      " [0.73342521 0.66264163 0.47988978 0.37259534]]\n",
      "4 [[0.73538593 0.77277026 0.15571243 0.6489054 ]\n",
      " [0.89546512 0.99875165 0.66409288 0.93589865]\n",
      " [0.84379682 0.8262723  0.42820783 0.80046351]\n",
      " [0.91254039 0.89026246 0.76132222 0.60839203]\n",
      " [0.18033924 0.1111483  0.74827306 0.14539392]\n",
      " [0.28219655 0.20476324 0.14106001 0.84172614]]\n",
      "5 [[0.20109226 0.85877623 0.46306326 0.38869637]\n",
      " [0.04644484 0.48322895 0.44854284 0.35927996]\n",
      " [0.44422666 0.96304395 0.5724509  0.60339424]\n",
      " [0.7852449  0.87933673 0.07705247 0.04341439]\n",
      " [0.59880042 0.27057555 0.29835085 0.49320512]\n",
      " [0.7937634  0.97996334 0.93613738 0.26777866]]\n",
      "6 [[0.95911799 0.92232096 0.07452947 0.36764548]\n",
      " [0.70831549 0.29616161 0.69816154 0.68259217]\n",
      " [0.6093235  0.14192223 0.64969415 0.89741019]\n",
      " [0.70599066 0.71194793 0.95088992 0.08832252]\n",
      " [0.29727108 0.24114868 0.517086   0.34671865]\n",
      " [0.49741311 0.39361879 0.97566664 0.1902784 ]]\n",
      "7 [[0.4860663  0.42532813 0.49950232 0.3888288 ]\n",
      " [0.34684845 0.74892758 0.27822206 0.85697549]\n",
      " [0.94810613 0.4113749  0.49285448 0.37644899]\n",
      " [0.2691344  0.8297969  0.8067519  0.29597138]\n",
      " [0.63076336 0.2653509  0.77179434 0.35730791]\n",
      " [0.96897489 0.56056101 0.84308788 0.67108295]]\n",
      "0 [[0.69672366 0.11667797 0.9090248  0.28603177]\n",
      " [0.27730292 0.02386879 0.4980694  0.34249867]\n",
      " [0.52243085 0.05653497 0.05639265 0.80950879]\n",
      " [0.56633841 0.62030941 0.06364891 0.88245085]\n",
      " [0.62286997 0.52463757 0.75285351 0.56517921]\n",
      " [0.4246014  0.92550957 0.75228455 0.83288284]]\n",
      "1 [[0.01350175 0.94317266 0.36424538 0.74845604]\n",
      " [0.73373783 0.17032679 0.71538044 0.22689544]\n",
      " [0.23710058 0.59559726 0.55512041 0.86757804]\n",
      " [0.38837345 0.21249187 0.38004836 0.53999251]\n",
      " [0.25211814 0.87000277 0.94523174 0.95132107]\n",
      " [0.4104843  0.72514374 0.03258194 0.13920125]]\n",
      "2 [[0.47361507 0.32335439 0.22990543 0.75928311]\n",
      " [0.64619468 0.39284435 0.70031914 0.43575506]\n",
      " [0.59348926 0.22320291 0.56378647 0.70778127]\n",
      " [0.20772144 0.82539396 0.836755   0.87852409]\n",
      " [0.11589901 0.3888122  0.59158879 0.81488364]\n",
      " [0.68208251 0.56558422 0.43635493 0.62822595]]\n",
      "3 [[0.11149708 0.93078232 0.52672328 0.08438561]\n",
      " [0.90375279 0.80890973 0.37782066 0.95049767]\n",
      " [0.56540601 0.664362   0.96789067 0.77847602]\n",
      " [0.93837087 0.23173187 0.3350285  0.10247842]\n",
      " [0.21722077 0.06966017 0.37852883 0.69009886]\n",
      " [0.69860744 0.4893912  0.51466359 0.91858345]]\n",
      "4 [[0.1520269  0.99006782 0.8827154  0.4268028 ]\n",
      " [0.22802778 0.06508133 0.53319092 0.30156919]\n",
      " [0.62841643 0.34969912 0.34782151 0.49718331]\n",
      " [0.25993843 0.22942652 0.91088364 0.33294857]\n",
      " [0.4706283  0.84808508 0.66239086 0.54477407]\n",
      " [0.48154913 0.50855086 0.63104213 0.4604032 ]]\n",
      "5 [[0.41618707 0.64368669 0.96798241 0.66174524]\n",
      " [0.11455341 0.17860149 0.07485558 0.50581137]\n",
      " [0.51958486 0.5220903  0.7155231  0.29689207]\n",
      " [0.2240467  0.55427551 0.75174299 0.51820077]\n",
      " [0.40094448 0.55223165 0.31594313 0.60532905]\n",
      " [0.26533179 0.61557792 0.77976652 0.85634023]]\n",
      "6 [[0.41425539 0.13858454 0.69691294 0.03751998]\n",
      " [0.90854489 0.76680994 0.50165011 0.5969317 ]\n",
      " [0.12798153 0.23245744 0.25248835 0.36467763]\n",
      " [0.27915343 0.13891182 0.08996612 0.78544889]\n",
      " [0.37172594 0.81937614 0.19695495 0.34467737]\n",
      " [0.70185142 0.50956516 0.85873182 0.39094002]]\n",
      "7 [[0.5013729  0.49110976 0.36977425 0.61903512]\n",
      " [0.13105649 0.24347216 0.32088104 0.22936312]\n",
      " [0.76540545 0.28006449 0.09491508 0.86992855]\n",
      " [0.25387932 0.91315077 0.7457478  0.41064625]\n",
      " [0.67097796 0.26943548 0.89882782 0.09249191]\n",
      " [0.88931324 0.79063843 0.01931475 0.74867347]]\n",
      "0 [[0.99814977 0.21181448 0.40414546 0.8529357 ]\n",
      " [0.97569315 0.77488214 0.16802233 0.66156425]\n",
      " [0.24896989 0.0577087  0.32048141 0.18751913]\n",
      " [0.63434473 0.05519193 0.95831827 0.56805936]\n",
      " [0.89149321 0.85804065 0.44452705 0.71362801]\n",
      " [0.91057959 0.69883105 0.99666343 0.57632986]]\n",
      "1 [[0.50282838 0.19932008 0.19469725 0.43846912]\n",
      " [0.41465819 0.34726181 0.66283436 0.09366006]\n",
      " [0.30644254 0.34211975 0.24050727 0.83280906]\n",
      " [0.02707103 0.7164109  0.84118885 0.95975819]\n",
      " [0.95918173 0.91115112 0.05569067 0.27203408]\n",
      " [0.32172771 0.56778818 0.05220232 0.24491366]]\n",
      "2 [[0.41118735 0.04426691 0.29720113 0.88828847]\n",
      " [0.57653343 0.54913328 0.74314266 0.74280782]\n",
      " [0.24062595 0.09380236 0.74190507 0.0290736 ]\n",
      " [0.7959063  0.725499   0.41169709 0.6268234 ]\n",
      " [0.69973678 0.57668824 0.18412684 0.84756561]\n",
      " [0.88420918 0.00762889 0.04854881 0.27131982]]\n",
      "3 [[0.21223973 0.49631059 0.66914879 0.82941929]\n",
      " [0.64069627 0.23254236 0.43993272 0.23225359]\n",
      " [0.6592921  0.58665255 0.42561877 0.34392501]\n",
      " [0.82348702 0.31870578 0.8666779  0.24649678]\n",
      " [0.62309437 0.32801276 0.49579313 0.85534531]\n",
      " [0.77475178 0.47714507 0.99598804 0.77375757]]\n",
      "4 [[0.3315046  0.8146378  0.7973027  0.71362839]\n",
      " [0.41955867 0.174587   0.3170949  0.06043703]\n",
      " [0.49058319 0.90046712 0.55879697 0.69302941]\n",
      " [0.769853   0.48553132 0.03464549 0.07336656]\n",
      " [0.88938166 0.06964674 0.30267547 0.56956001]\n",
      " [0.18029716 0.44053503 0.13762409 0.75641325]]\n",
      "5 [[0.60574634 0.36302449 0.297931   0.27183775]\n",
      " [0.19900555 0.94534588 0.07996734 0.86060335]\n",
      " [0.32817878 0.79935782 0.65129242 0.70168349]\n",
      " [0.46794887 0.02818396 0.89010489 0.15374497]\n",
      " [0.04320228 0.86809876 0.26925353 0.15078867]\n",
      " [0.79647616 0.09432737 0.62450689 0.50702996]]\n",
      "6 [[0.6729745  0.63323289 0.9119751  0.12574008]\n",
      " [0.88630173 0.44384723 0.24911683 0.82516402]\n",
      " [0.97783505 0.66238034 0.76171763 0.58445677]\n",
      " [0.80175818 0.15139149 0.13636651 0.39260896]\n",
      " [0.92481416 0.65564658 0.29229447 0.59268298]\n",
      " [0.92663126 0.24265414 0.91151363 0.22013169]]\n",
      "7 [[0.28371823 0.93969066 0.52954214 0.64525326]\n",
      " [0.49569977 0.96494959 0.37971988 0.19105936]\n",
      " [0.11018461 0.07413805 0.42207069 0.17392647]\n",
      " [0.83709941 0.87689184 0.11221172 0.30016727]\n",
      " [0.25520771 0.0285195  0.96396057 0.05376633]\n",
      " [0.89669609 0.27490929 0.21611611 0.79778772]]\n"
     ]
    }
   ],
   "source": [
    "for swarm in population:\n",
    "    for drone in swarm.drones:\n",
    "        print(drone, drone.nn.weights1)"
   ]
  },
  {
   "cell_type": "code",
   "execution_count": null,
   "metadata": {},
   "outputs": [],
   "source": []
  }
 ],
 "metadata": {
  "kernelspec": {
   "display_name": "Python 3",
   "language": "python",
   "name": "python3"
  },
  "language_info": {
   "codemirror_mode": {
    "name": "ipython",
    "version": 3
   },
   "file_extension": ".py",
   "mimetype": "text/x-python",
   "name": "python",
   "nbconvert_exporter": "python",
   "pygments_lexer": "ipython3",
   "version": "3.7.3"
  }
 },
 "nbformat": 4,
 "nbformat_minor": 2
}
