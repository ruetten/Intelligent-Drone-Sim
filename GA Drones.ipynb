{
 "cells": [
  {
   "cell_type": "code",
   "execution_count": 1,
   "metadata": {},
   "outputs": [],
   "source": [
    "import numpy as np\n",
    "import random\n",
    "import copy\n",
    "import math\n",
    "import datetime\n",
    "\n",
    "%matplotlib inline\n",
    "import matplotlib.pyplot as plt\n",
    "plt.style.use('seaborn-whitegrid')\n",
    "\n",
    "fittest_swarm = None\n",
    "num_drones = 3\n",
    "drone_id = 0\n",
    "population = []\n",
    "map_length = 100\n",
    "map_width = 100\n",
    "generations = 1000\n",
    "battery_life = 3000\n",
    "members_per_generation = 4"
   ]
  },
  {
   "cell_type": "code",
   "execution_count": 2,
   "metadata": {},
   "outputs": [],
   "source": [
    "# Class to represent a drone.\n",
    "# id - drone's numerical ID\n",
    "# x, y - coordinates of where the drone is\n",
    "# x_move, y_move - the outputs of the neural network that control the direction the drones move\n",
    "# coverage - the radius of the circular search area that the drone covers\n",
    "# rely_on - the drone that self relies on for positioning. If the signal with this drone is too weak, self \"dies\"\n",
    "# send_to - the drone that relies on self for positioning\n",
    "# connected_to - list of drones that self is connected to\n",
    "# is_alive - \"alive\" (True) when self is close enough to rely_on for signal, \"dead\" (False) otherwise\n",
    "# nn - the neural network of this drone\n",
    "class Drone:\n",
    "    id = 0\n",
    "    x = 0\n",
    "    y = 0\n",
    "    x_move = 0\n",
    "    y_move = 0\n",
    "    unsearched_N = 0\n",
    "    unsearched_S = 0\n",
    "    unsearched_W = 0\n",
    "    unsearched_E = 0\n",
    "    coverage = 3\n",
    "    rely_on = None\n",
    "    send_to = None\n",
    "    connected_to = []\n",
    "    is_alive = True\n",
    "    nn = None\n",
    "    swarm = None # drone knows what swarm it belongs to\n",
    "    \n",
    "    # Initialize self variables\n",
    "    def __init__(self):\n",
    "        # Assign self id\n",
    "        global drone_id\n",
    "        self.id = drone_id\n",
    "        drone_id += 1\n",
    "        \n",
    "        # Instantiate other self vars\n",
    "        self.connected_to = []\n",
    "        self.rely_on = None\n",
    "        self.send_to = None\n",
    "        self.nn = None\n",
    "        self.swarm = None\n",
    "        \n",
    "        self.unsearched_N = 1\n",
    "        self.unsearched_S = 1\n",
    "        self.unsearched_W = 1\n",
    "        self.unsearched_E = 1\n",
    "        \n",
    "    # When printing drone object, it prints the drone's numerical id\n",
    "    def __repr__(self):\n",
    "        return str(self.id)\n",
    "    \n",
    "    # Create and initialize the neural network\n",
    "    def neural_init(self):\n",
    "        self.nn = NeuralNetwork(self.get_input_layer())\n",
    "    \n",
    "    # Interprets what the input layer for the neural network should be at the time the func is called\n",
    "    def get_input_layer(self):\n",
    "        # Gets the signal strength between important drone connections. -1 if connection doesn't exist\n",
    "        rely_on_sig = -1\n",
    "        #print(self, \"relies on\", self.rely_on)\n",
    "        if self.rely_on != None:\n",
    "            rely_on_sig = drone_sig_strength(self, self.rely_on)\n",
    "        \n",
    "        #print(self, \"sends to\", self.send_to)\n",
    "        send_to_sig = -1\n",
    "        if self.send_to != None:\n",
    "            send_to_sig = drone_sig_strength(self, self.send_to)\n",
    "        \n",
    "        self.sense_surroundings()\n",
    "        \n",
    "        # Assembles the input layer using variables.\n",
    "        in_layer = [self.x, self.y, rely_on_sig, send_to_sig, self.x_move, self.y_move, self.unsearched_N*50, self.unsearched_S*50, self.unsearched_E*50, self.unsearched_W*50]\n",
    "        #in_layer = [self.x, self.y, rely_on_sig, send_to_sig, self.x_move, self.y_move]\n",
    "        #in_layer = [sigmoid(self.x*5), sigmoid(self.y*5), sigmoid(rely_on_sig), sigmoid(send_to_sig), self.x_move, self.y_move]\n",
    "        #out_layer_form = np.array([[0],[0],[0],[0]])\n",
    "        in_layer = np.array([in_layer])\n",
    "        #self.nn = NeuralNetwork(in_layer, out_layer_form)\n",
    "        return in_layer\n",
    "    \n",
    "    # Feedforward the neural network. aka Find the output layer given an input_layer\n",
    "    # Get input layer from get_input_layer()\n",
    "    def neural_net_feedforward(self, input_layer):\n",
    "        #print(input_layer)\n",
    "        movement = self.nn.feedforward(input_layer)\n",
    "        #print(self, movement)\n",
    "        self.x_move = movement[0][0]\n",
    "        self.y_move = movement[0][1]\n",
    "        \n",
    "    def sense_surroundings(self):\n",
    "        sense = self.coverage + 1\n",
    "        if int(self.x) + sense <= self.swarm.the_map.length and not self.swarm.the_map.search_points[int(self.x) + sense][int(self.y)][0]:\n",
    "            self.unsearched_E = 1\n",
    "        else:\n",
    "            self.unsearched_E = 0\n",
    "            \n",
    "        if int(self.x) - sense >= 0 and not self.swarm.the_map.search_points[int(self.x) - sense][int(self.y)][0]:\n",
    "            self.unsearched_W = 1\n",
    "        else:\n",
    "            self.unsearched_W = 0\n",
    "            \n",
    "        if int(self.y) + sense <= self.swarm.the_map.width and not self.swarm.the_map.search_points[int(self.x)][int(self.y) + sense][0]:\n",
    "            self.unsearched_N = 1\n",
    "        else:\n",
    "            self.unsearched_N = 0\n",
    "            \n",
    "        if int(self.y) - sense >= 0 and not self.swarm.the_map.search_points[int(self.x)][int(self.y) - sense][0]:\n",
    "            self.unsearched_S = 1\n",
    "        else:\n",
    "            self.unsearched_S = 0"
   ]
  },
  {
   "cell_type": "code",
   "execution_count": 3,
   "metadata": {},
   "outputs": [],
   "source": [
    "# Function to turn any number into a number between 0 and 1\n",
    "# Use a sine function because other functions didn't have enough variation in the output\n",
    "# https://towardsdatascience.com/how-to-build-your-own-neural-network-from-scratch-in-python-68998a08e4f6 \n",
    "def sigmoid(x):\n",
    "    #print(x, '\\n')\n",
    "    #return 2*((1.0/(1+ np.exp(-0.5*(x-1)))-0.5))\n",
    "    return (np.sin(x)+1)*.5\n",
    "    #return ((np.tanh(.05*(x-50))+1)*.5)\n",
    "\n",
    "# Neural network class\n",
    "class NeuralNetwork:\n",
    "    # Weights between layers are randomly created\n",
    "    def __init__(self, x):\n",
    "        self.input      = x\n",
    "        # 4 layers, 6 -> 4 -> 8 -> 2\n",
    "        self.weights = [None] * 3\n",
    "        self.weights[0]   = np.random.rand(self.input.shape[1], 4)\n",
    "        self.weights[1]   = np.random.rand(4, 7)  \n",
    "        self.weights[2]   = np.random.rand(7, 2)  \n",
    "        \n",
    "        #self.output = np.zeros(y.shape)\n",
    "    \n",
    "    # Input layer is fedforward through the nn and output layer is calculated\n",
    "    def feedforward(self, input_layer):\n",
    "        self.hidden_layers = [None] * 2\n",
    "        #For simplicity, biases are assumed to be zero\n",
    "        self.hidden_layers[0] = sigmoid(np.dot(input_layer, self.weights[0]))\n",
    "        self.hidden_layers[1] = sigmoid(np.dot(self.hidden_layers[0], self.weights[1]))\n",
    "        self.output = sigmoid(np.dot(self.hidden_layers[1], self.weights[2]))\n",
    "        #print(self.output)\n",
    "        return self.output"
   ]
  },
  {
   "cell_type": "code",
   "execution_count": 4,
   "metadata": {},
   "outputs": [],
   "source": [
    "# used to get starting points for drones.\n",
    "# n - number of drones/points\n",
    "# r - radius of polygon/how far spread out they should be\n",
    "# map_size - the size of the map the points will be plotted on (to put tha points in the center)\n",
    "# returns - vertices, which is a 2 element long array. \n",
    "#    Element [0] is an array of all the x-component of points\n",
    "#    Element [1] is an array of all the y-component of points\n",
    "#    The same indices in each x and y list represent different components of the same point\n",
    "#    Example: point 2's x value is at x[2] and the y value is at y[2]\n",
    "def vertices_of_regpoly(n, r, map_length, map_width):\n",
    "    vertices = []\n",
    "    x = []\n",
    "    y = []\n",
    "    for i in range(0, n):\n",
    "        #x.append(( map_length / 2) + r * math.cos(2 * math.pi * i / n))\n",
    "        #y.append(( map_width / 2) + r * math.sin(2 * math.pi * i / n))\n",
    "        x.append(3 + r * math.cos(2 * math.pi * i / n))\n",
    "        y.append(3 + r * math.sin(2 * math.pi * i / n))\n",
    "    vertices.append(x)\n",
    "    vertices.append(y)\n",
    "    return vertices"
   ]
  },
  {
   "cell_type": "code",
   "execution_count": 5,
   "metadata": {},
   "outputs": [],
   "source": [
    "# Set each drone's initial locations to the drone's self.x and self.y values\n",
    "def set_init_drones(swarm):\n",
    "    xy = vertices_of_regpoly(num_drones, 2, swarm.the_map.length, swarm.the_map.width)\n",
    "    for i in range(0, len(swarm.drones)):\n",
    "        swarm.drones[i].x = xy[0][i]\n",
    "        swarm.drones[i].y = xy[1][i]\n",
    "        swarm.drones[i].x_move = 0\n",
    "        swarm.drones[i].y_move = 0\n",
    "        swarm.drones[i].is_alive = True\n",
    "        swarm.drones[i].swarm = swarm"
   ]
  },
  {
   "cell_type": "code",
   "execution_count": 6,
   "metadata": {},
   "outputs": [],
   "source": [
    "# The swarm class is a collection of drones\n",
    "# It is also the \"organism\" unit of the population list, used in the Genetic Algorithm component of the program\n",
    "# drones - list of drones in the population\n",
    "# connectedness - matrix representing how the drones are connected to each other\n",
    "class Swarm:\n",
    "    drones = []\n",
    "    connectedness = []\n",
    "    fitness = 0\n",
    "    battery_life = 0 # simulates a time limit to search an area\n",
    "    battery_left = 0\n",
    "    \n",
    "    # Initialize the swarm\n",
    "    def __init__(self, drones, map_length, map_width):\n",
    "        global battery_life\n",
    "        self.battery_life = battery_life\n",
    "        self.battery_left = self.battery_life\n",
    "        self.fitness = 0\n",
    "        self.the_map = GeoMap(map_length, map_width) # The map to search\n",
    "        self.drones = drones # the list of drones\n",
    "        global drone_id # Reset the drone id counter for every swarm \n",
    "        drone_id = 0\n",
    "        set_init_drones(self) # Set each drone's initial locations\n",
    "        self.assign_connectedness()\n",
    "        self.assign_drone_connect()\n",
    "        self.rssi_table = []\n",
    "        determine_architecture(self)\n",
    "        determine_neighbors(self)\n",
    "        for drone in self.drones:\n",
    "            drone.neural_init()\n",
    "    \n",
    "    def __repr__(self):\n",
    "        return str(self.fitness)\n",
    "    \n",
    "    def reset(self):\n",
    "        self.battery_left = self.battery_life\n",
    "        self.fitness = 0\n",
    "        self.the_map = GeoMap(map_length, map_width) # The map to search\n",
    "        set_init_drones(self) # Set each drone's initial locations\n",
    "            \n",
    "    # Randomly assign how the drones are connected to each other\n",
    "    def assign_connectedness(self):\n",
    "        #Make the swarm's connectivity matrix\n",
    "        #This matrix is really only used for initial configuration\n",
    "        #~~~~~~~~~~~~~~~~~~~~~~~~~~~~~~~~~~~~~~~~~~~~~~~~~~~~~~~~~~\n",
    "        self.connectedness = np.zeros((len(self.drones),len(self.drones)))\n",
    "\n",
    "        #The upper traingle of a mtrix w/o diagonal is filled in with 1s\n",
    "        #the diagonal would mean drones are connected to themselves\n",
    "        #the lower triangle is just a reflection\n",
    "        #representation of the connections between drones\n",
    "        for i in range(0,len(self.drones)):\n",
    "            for j in range(0, i):\n",
    "                self.connectedness[j][i] = 1\n",
    "\n",
    "        # Ensure that each drone has at least one connection\n",
    "        for i in range(0,len(self.drones)):\n",
    "            possible_values = np.nonzero(self.connectedness[i])[0].tolist()\n",
    "            choice = random.choice(possible_values) if possible_values else -1\n",
    "            if choice != -1:\n",
    "                possible_values.remove(choice)\n",
    "            #Remaining choices have a possibility of not being connections (probability related to the number of drones)\n",
    "            for value in possible_values:\n",
    "                self.connectedness[i][value] = 0 if random.random() > 1.0/float(len(self.drones)) else 1\n",
    "\n",
    "        #reflect over diagonal axis of matrix to make symmetric matrix\n",
    "        for i in range(0,len(self.drones)):\n",
    "            for j in range(0, i):\n",
    "                self.connectedness[i][j] = self.connectedness[j][i]\n",
    "    \n",
    "    # After the swarm's connectedness is determines, each drone is told which drones it is connected to\n",
    "    def assign_drone_connect(self):\n",
    "        #Assign list connectedness in drones\n",
    "        #~~~~~~~~~~~~~~~~~~~~~~~~~~~~~~~~~~~~~~~~~\n",
    "        for i in range(0,len(self.connectedness)):\n",
    "            for j in range(0, len(self.connectedness)):\n",
    "                if self.connectedness[i][j] == 1:\n",
    "                    self.drones[i].connected_to.append(self.drones[j])\n",
    "    \n",
    "    # Determine the fitness of the swarm for purposes of evolution\n",
    "    # Fitness is determined by how much of the map the swarm could cover in its battery life\n",
    "    #def determine_fitness(self):\n",
    "        #num_points_searched = 0\n",
    "        #for x in range(0, len(self.the_map.search_points)):\n",
    "            #for y in range(0, len(self.the_map.search_points[x])):\n",
    "                  #if self.the_map.search_points[x][y]:\n",
    "                    #num_points_searched += 1\n",
    "        #fitness = float(num_points_searched)/float(self.the_map.size)\n",
    "        #return fitness\n",
    "        #return float(num_points_searched)/float(self.the_map.size)\n",
    "    \n",
    "    def search_percentage(self):\n",
    "        return float(self.fitness)/float(self.the_map.get_total_points()) * 100"
   ]
  },
  {
   "cell_type": "code",
   "execution_count": 7,
   "metadata": {},
   "outputs": [],
   "source": [
    "# This map class represents a geographical area that must be searched by a  swarm\n",
    "# search_points - points in the map that will be checked if they have been searched or not. Represented by a matrix of booleans\n",
    "class GeoMap:\n",
    "    search_points = []\n",
    "    #searched_points = set() # NOT CURRENTLY USED\n",
    "    # Was explored as an alternative method to search points. Was just a list of points of where drones have been.\n",
    "    def __init__(self, length, width):\n",
    "        self.length = length\n",
    "        self.width = width\n",
    "        self.search_points = []\n",
    "        self.populate_search_points()\n",
    "    \n",
    "    # Create a visualization of the map border\n",
    "    def draw_map(self):\n",
    "        plt.plot([0, 0,          self.length, self.length, 0], \n",
    "                 [0, self.width, self.width,  0,           0])\n",
    "        self.disp_search_points()\n",
    "        #self.disp_searched_points()\n",
    "    \n",
    "    # Create a visualization of which points in search_points have been searched\n",
    "    def disp_search_points(self):\n",
    "        for x in range(0, len(self.search_points)):\n",
    "            for y in range(0, len(self.search_points[x])):\n",
    "                if self.search_points[x][y][0]:\n",
    "                    plt.plot(x, y, '.', color=self.search_points[x][y][1])\n",
    "    \n",
    "    # NOT CURRENTLY USED\n",
    "    #def disp_searched_points(self):\n",
    "        #for point in self.searched_points:\n",
    "            #plt.plot(point[0], point[1], '.', color='green')\n",
    "    \n",
    "    # Initialize the map of search points\n",
    "    def populate_search_points(self):\n",
    "        for i in range(0, self.length + 2):\n",
    "            row = []\n",
    "            for j in range(0, self.width + 2):\n",
    "                row.append([False, '#00FF00'])\n",
    "            self.search_points.append(row)\n",
    "            \n",
    "    def get_total_points(self):\n",
    "        return self.length * self.width"
   ]
  },
  {
   "cell_type": "code",
   "execution_count": 8,
   "metadata": {},
   "outputs": [],
   "source": [
    "# Determine the architecture of the swarm in terms of which drone relies on which for positioning and communication\n",
    "# Architecture is determined maximize the signal strength read between drones \n",
    "# (drones farther away from each other initially will not attempt to talk to each other directly)\n",
    "def determine_architecture(swarm):\n",
    "    coordinator = None\n",
    "    for drone in swarm.drones:\n",
    "        if coordinator == None:\n",
    "            coordinator = drone\n",
    "            rssi = 0\n",
    "        else:\n",
    "            rssi = drone_sig_strength(drone, coordinator)\n",
    "        init_rssi_table(drone, rssi, swarm.rssi_table)\n",
    "    sort_table_by_rssi(swarm.rssi_table)"
   ]
  },
  {
   "cell_type": "code",
   "execution_count": 9,
   "metadata": {},
   "outputs": [],
   "source": [
    "# Initialize the signal strength table\n",
    "def init_rssi_table(node_check, rssi, rssi_table):\n",
    "    node = {}\n",
    "    node[\"node\"] = node_check\n",
    "    node[\"rssi\"] = rssi\n",
    "    rssi_table.append(node)"
   ]
  },
  {
   "cell_type": "code",
   "execution_count": 10,
   "metadata": {},
   "outputs": [],
   "source": [
    "# Sort the signal strength table\n",
    "def sort_table_by_rssi(rssi_table):\n",
    "    rssi_table.sort(key=lambda val: val[\"rssi\"])"
   ]
  },
  {
   "cell_type": "code",
   "execution_count": 11,
   "metadata": {},
   "outputs": [],
   "source": [
    "# Drones determine who they should rely_on for communication and who they should send_to \n",
    "# This is determined based o nthe ordering of the sorted signal-strength-architecture table\n",
    "def determine_neighbors(swarm):\n",
    "    if len(swarm.rssi_table) > 1:\n",
    "        for index in range(0, len(swarm.rssi_table)):\n",
    "            node = swarm.rssi_table[index]['node']\n",
    "            if index == 0:\n",
    "                node.rely_on = None\n",
    "                node.send_to = swarm.rssi_table[index + 1]['node']\n",
    "            elif index == len(swarm.rssi_table) - 1:\n",
    "                node.rely_on = swarm.rssi_table[index - 1]['node']\n",
    "                node.send_to = None\n",
    "            else:\n",
    "                node.rely_on = swarm.rssi_table[index - 1]['node']\n",
    "                node.send_to = swarm.rssi_table[index + 1]['node']"
   ]
  },
  {
   "cell_type": "code",
   "execution_count": 12,
   "metadata": {},
   "outputs": [],
   "source": [
    "# Create a starting population (generation 1) for the genetic algorithm\n",
    "# size - how many members of the population should be created\n",
    "# map_size - the size of the map of the world that the population should be simulated in\n",
    "def create_starting_population(size, map_length, map_width):\n",
    "    population = []\n",
    "    \n",
    "    global num_nodes\n",
    "    for i in range(0,size):\n",
    "        population.append(create_new_member([], map_length, map_width))\n",
    "        \n",
    "    return population"
   ]
  },
  {
   "cell_type": "code",
   "execution_count": 13,
   "metadata": {},
   "outputs": [],
   "source": [
    "# Creates a new member of a population\n",
    "# drones - list of drones for the population-member (swarm) (if list empty, drones will be created)\n",
    "# map_size - the size of the map of the world that the population should be simulated in\n",
    "def create_new_member(drones, map_length, map_width):\n",
    "    if drones == []:\n",
    "        global num_drones\n",
    "        for i in range(0, num_drones):\n",
    "            drones.append(Drone())\n",
    "    member = Swarm(drones, map_length, map_width)\n",
    "    return member"
   ]
  },
  {
   "cell_type": "code",
   "execution_count": 14,
   "metadata": {},
   "outputs": [],
   "source": [
    "# Display a visualization of a swarm\n",
    "def plot_swarm(swarm):\n",
    "    fig, ax = plt.subplots() # note we must use plt.subplots, not plt.subplot\n",
    "    for drone in swarm.drones:\n",
    "        plt.plot(drone.x, drone.y, 'x', color='black')\n",
    "        #print(drone.x, drone.y)\n",
    "        circle1 = plt.Circle((drone.x, drone.y), drone.coverage, color = 'b', fill=False)        \n",
    "        ax.add_artist(circle1)\n",
    "\n",
    "    #fig.savefig('plotcircles.png')\n",
    "        \n",
    "    # Draws a visualization for the network connections    \n",
    "    for row in range(0, num_drones - 1):\n",
    "        for col in range(row + 1, num_drones):\n",
    "            if swarm.connectedness[row][col] == 1:\n",
    "                plt.plot([swarm.drones[row].x, swarm.drones[col].x], \n",
    "                         [swarm.drones[row].y, swarm.drones[col].y])"
   ]
  },
  {
   "cell_type": "code",
   "execution_count": 15,
   "metadata": {},
   "outputs": [],
   "source": [
    "# Returns all the integer points that are within a given circle\n",
    "# x0, y0 - the center of the circle\n",
    "# radius - the radius of the circle\n",
    "# NOT USED CURRENTLY\n",
    "def points_in_circle(x0, y0, radius):\n",
    "    x_ = np.arange(x0 - radius - 1, x0 + radius + 1, dtype=int)\n",
    "    y_ = np.arange(y0 - radius - 1, y0 + radius + 1, dtype=int)\n",
    "    x, y = np.where((x_[:,np.newaxis] - x0)**2 + (y_ - y0)**2 <= radius**2)\n",
    "    # x, y = np.where((np.hypot((x_-x0)[:,np.newaxis], y_-y0)<= radius)) # alternative implementation\n",
    "    for x, y in zip(x_[x], y_[y]):\n",
    "        yield x, y\n",
    "        plt.plot(x, y, '.', color='blue')"
   ]
  },
  {
   "cell_type": "code",
   "execution_count": 16,
   "metadata": {},
   "outputs": [],
   "source": [
    "# Determine the distance between two drones\n",
    "def drone_distance(drone1, drone2):\n",
    "    return abs(math.hypot(drone2.x - drone1.x, drone2.y - drone1.y))\n",
    "\n",
    "# Determine the signal strength between 2 drones using an RSSI formula\n",
    "def drone_sig_strength(drone1, drone2):\n",
    "    #return 20*math.log10(1/math.pow(drone_distance(drone1, drone2),2))\n",
    "    #return 1/math.pow(drone_distance(drone1, drone2),2)\n",
    "    dist = drone_distance(drone1, drone2)\n",
    "    #print(dist)\n",
    "    try:\n",
    "        return  10*2*math.log10(dist) + 1\n",
    "    except ValueError:\n",
    "        return 0\n",
    "\n",
    "# Determine the signal strength between all drones of an entire swarm\n",
    "def swarm_sig_strength(swarm):\n",
    "    swarm_strength = []\n",
    "    \n",
    "    for i in range(0, num_drones):\n",
    "        for j in range(0, i):\n",
    "            if swarm.connectedness[i][j] == 1:\n",
    "                #print('Signal strength between drone ', i, ' and drone ', j, ': ', end='')\n",
    "                #print(drone_sig_strength(swarm.drones[i], swarm.drones[j]))\n",
    "                dist = drone_distance(swarm.drones[i], swarm.drones[j])\n",
    "                sig_strength = drone_sig_strength(swarm.drones[i], swarm.drones[j])\n",
    "                swarm_strength.append([[j, i], dist , sig_strength])\n",
    "    return swarm_strength"
   ]
  },
  {
   "cell_type": "code",
   "execution_count": 17,
   "metadata": {},
   "outputs": [],
   "source": [
    "# Check how many points in GeoMap's search_points have been searched\n",
    "def check_drone_coverage(swarm):\n",
    "    #Only check the points that are within the area that drones have been\n",
    "    min_x = swarm.the_map.length + 1\n",
    "    max_x = 0\n",
    "    min_y = swarm.the_map.width + 1\n",
    "    max_y = 0\n",
    "    for drone in swarm.drones:\n",
    "        if drone.x < min_x:\n",
    "            min_x = drone.x\n",
    "        if drone.x > max_x:\n",
    "            max_x = drone.x\n",
    "        if drone.y < min_y:\n",
    "            min_y = drone.y\n",
    "        if drone.y > max_y:\n",
    "            max_y = drone.y\n",
    "    \n",
    "        #for circle_point in points_in_circle(drone.x, drone.y, drone.coverage):\n",
    "            #the_map.searched_points.add(circle_point)\n",
    "    \n",
    "    #Check if points are within drone coverage\n",
    "    for x in range(int(min_x - drone.coverage), int(max_x + drone.coverage) + 1):\n",
    "        for y in range(int(min_y - drone.coverage), int(max_y + drone.coverage) + 1):\n",
    "            for drone in swarm.drones:\n",
    "                dist = math.sqrt(math.pow(x-drone.x, 2) + math.pow(y-drone.y, 2))\n",
    "                if dist <= drone.coverage:\n",
    "                    if x >= 0 and x <= swarm.the_map.length and y >= 0 and y <= swarm.the_map.width:\n",
    "                        if not swarm.the_map.search_points[x][y][0]:\n",
    "                            swarm.fitness += 1\n",
    "                        swarm.the_map.search_points[x][y][0] = True\n",
    "                        color = math.floor((swarm.battery_left/swarm.battery_life) * 255)\n",
    "                        if color < 16:\n",
    "                            swarm.the_map.search_points[x][y][1] = '#000' + str(hex(color))[2:] + '00'\n",
    "                        else:\n",
    "                            swarm.the_map.search_points[x][y][1] = '#00' + str(hex(color))[2:] + '00'\n",
    "\n",
    "    #print(swarm_sig_strength(swarm))\n",
    "    #print(the_map.search_points)\n",
    "        "
   ]
  },
  {
   "cell_type": "code",
   "execution_count": 18,
   "metadata": {},
   "outputs": [],
   "source": [
    "def search_area_limits(swarm):\n",
    "    #Only check the points that are within the area that drones have been\n",
    "    min_x = swarm.the_map.size + 1\n",
    "    max_x = 0\n",
    "    min_y = swarm.the_map.size + 1\n",
    "    max_y = 0\n",
    "    for drone in swarm.drones:\n",
    "        if drone.x < min_x:\n",
    "            min_x = drone.x\n",
    "        if drone.x > max_x:\n",
    "            max_x = drone.x\n",
    "        if drone.y < min_y:\n",
    "            min_y = drone.y\n",
    "        if drone.y > max_y:\n",
    "            max_y = drone.y\n",
    "    return min_x, max_x, min_y, max_y"
   ]
  },
  {
   "cell_type": "code",
   "execution_count": 19,
   "metadata": {},
   "outputs": [],
   "source": [
    "def check_coverage_population():\n",
    "    for swarm in population:\n",
    "        check_drone_coverage(swarm)"
   ]
  },
  {
   "cell_type": "code",
   "execution_count": 20,
   "metadata": {},
   "outputs": [],
   "source": [
    "# Create a visualization of a swarm and the map it has searched\n",
    "# swarm - the swarm to display\n",
    "def draw_scene(swarm):\n",
    "    plot_swarm(swarm)\n",
    "    swarm.the_map.draw_map()\n",
    "    print(swarm.search_percentage(), '%')"
   ]
  },
  {
   "cell_type": "code",
   "execution_count": 21,
   "metadata": {},
   "outputs": [],
   "source": [
    "def plot_population():\n",
    "    for swarm in population:\n",
    "        draw_scene(swarm)\n",
    "        #print(sorted(the_map.searched_points))\n",
    "        #print(swarm_sig_strength(swarm))\n",
    "        #print(swarm.fitness)\n",
    "        #print(swarm.determine_fitness())"
   ]
  },
  {
   "cell_type": "code",
   "execution_count": 22,
   "metadata": {},
   "outputs": [],
   "source": [
    "# Initialization of the main program\n",
    "def init():\n",
    "    global population\n",
    "    global map_length\n",
    "    global map_width\n",
    "    global members_per_generation\n",
    "    population = create_starting_population(members_per_generation, map_length, map_width)\n",
    "    check_coverage_population()\n",
    "    #plot_population()\n",
    "    #for swarm in population:\n",
    "        #determine_architecture(swarm)\n",
    "        #determine_neighbors(swarm)"
   ]
  },
  {
   "cell_type": "code",
   "execution_count": 23,
   "metadata": {},
   "outputs": [],
   "source": [
    "# Drones randomly move around with no intelligence to attempt to search an area\n",
    "def scatter():\n",
    "    for swarm in population:\n",
    "        while swarm.battery_left > 0:\n",
    "            for drone in swarm.drones:\n",
    "                if drone.is_alive:\n",
    "                    x_adj = 0\n",
    "                    y_adj = 0\n",
    "                    x_adj += random.randint(-1, 1)\n",
    "                    y_adj += random.randint(-1, 1)\n",
    "                    #for circle_point in points_in_circle(drone.x, drone.y, drone.coverage):\n",
    "                        #print(circle_point)\n",
    "                        #the_map.searched_points.add(circle_point)\n",
    "                   \n",
    "                    #if drone.x < 0 or drone.x > swarm.the_map.size or drone.y < 0 or drone.y > swarm.the_map.size:\n",
    "                        #drone.is_alive = False\n",
    "                        \n",
    "                    # Move the drone based on the nn results\n",
    "                    if drone.x + x_adj >= 0 and drone.x + x_adj <= swarm.the_map.length:\n",
    "                        drone.x += x_adj\n",
    "                    if drone.y + y_adj >= 0 and drone.y + y_adj <= swarm.the_map.width:\n",
    "                        drone.y += y_adj\n",
    "\n",
    "                    check_drone_coverage(swarm)\n",
    "                    \n",
    "                    # If the drone strayed too far away from it's neighbor's, the drone is dead\n",
    "                    if drone.rely_on != None and drone_sig_strength(drone, drone.rely_on) > 30:\n",
    "                        drone.is_alive = False\n",
    "\n",
    "                    if drone.send_to != None and drone_sig_strength(drone, drone.send_to) > 30:\n",
    "                        drone.is_alive = False\n",
    "                        \n",
    "                    #for neighbor in drone.connected_to:\n",
    "                        #if drone_sig_strength(drone, neighbor) > 30:\n",
    "                            #drone.is_alive = False\n",
    "            swarm.battery_left -= 1 "
   ]
  },
  {
   "cell_type": "code",
   "execution_count": 24,
   "metadata": {},
   "outputs": [],
   "source": [
    "# Drones move around via neural network results to attempt to search an area\n",
    "def smart_scatter():\n",
    "    for swarm in population:\n",
    "        while swarm.battery_left > 0:\n",
    "            for drone in swarm.drones: \n",
    "                if drone.is_alive:\n",
    "                    # Interpret neural network results\n",
    "                    if drone.x_move < 0.33:\n",
    "                        x_adj = -1\n",
    "                    elif drone.x_move >= 0.33 and drone.x_move < .66:\n",
    "                        x_adj = 0\n",
    "                    elif drone.x_move >= .66:\n",
    "                        x_adj = 1\n",
    "\n",
    "                    if drone.y_move < 0.33:\n",
    "                        y_adj = -1\n",
    "                    elif drone.y_move >= 0.33 and drone.y_move < .66:\n",
    "                        y_adj = 0\n",
    "                    elif drone.y_move >= .66:\n",
    "                        y_adj = 1\n",
    "\n",
    "                    # Move the drone based on the nn results\n",
    "                    if drone.x + x_adj >= 0 and drone.x + x_adj <= swarm.the_map.length:\n",
    "                        drone.x += x_adj\n",
    "                    if drone.y + y_adj >= 0 and drone.y + y_adj <= swarm.the_map.width:\n",
    "                        drone.y += y_adj\n",
    "                    \n",
    "                    # Update the search_points to see if any more have been searched\n",
    "                    check_drone_coverage(swarm)\n",
    "                    #for circle_point in points_in_circle(drone.x, drone.y, drone.coverage):\n",
    "                        #print(circle_point)\n",
    "                        #the_map.searched_points.add(circle_point)\n",
    "\n",
    "                    # If the drone left the map, drone is dead\n",
    "                    #if drone.x < 0 or drone.x > swarm.the_map.size or drone.y < 0 or drone.y > swarm.the_map.size:\n",
    "                        #drone.is_alive = False\n",
    "\n",
    "                    # If the drone strayed too far away from it's neighbor's, the drone is dead\n",
    "                    if drone.rely_on != None and drone_sig_strength(drone, drone.rely_on) > 30:\n",
    "                        drone.is_alive = False\n",
    "\n",
    "                    if drone.send_to != None and drone_sig_strength(drone, drone.send_to) > 30:\n",
    "                        drone.is_alive = False\n",
    "                        \n",
    "                    #for neighbor in drone.connected_to:\n",
    "                        #if drone_sig_strength(drone, neighbor) > 30:\n",
    "                            #drone.is_alive = False\n",
    "\n",
    "                    drone.neural_net_feedforward(drone.get_input_layer())\n",
    "            swarm.battery_left -= 1 "
   ]
  },
  {
   "cell_type": "code",
   "execution_count": 25,
   "metadata": {},
   "outputs": [],
   "source": [
    "def hard_coded_search():\n",
    "    for swarm in population:\n",
    "            for drone in swarm.drones:\n",
    "                d = 1\n",
    "                batteryyy = map_length * map_width\n",
    "                while (batteryyy > 0):\n",
    "                    batteryyy -= 1\n",
    "                    if d == 1 and drone.x < map_length:\n",
    "                        drone.x += 1\n",
    "                    if d == 1 and drone.x == map_length:\n",
    "                        drone.y += 1\n",
    "                        d = -1\n",
    "                    if d == -1 and drone.y > 0:\n",
    "                        drone.x -= 1\n",
    "                    if d == -1 and drone.x == 0:\n",
    "                        drone.y += 1\n",
    "                        d = 1\n",
    "                    check_drone_coverage(swarm)\n",
    "\n",
    "            "
   ]
  },
  {
   "cell_type": "code",
   "execution_count": 26,
   "metadata": {},
   "outputs": [],
   "source": [
    "def kill_off_the_weak():\n",
    "    for unfortunate_soul in range(math.floor(len(population)/2), len(population)):\n",
    "        population.pop()"
   ]
  },
  {
   "cell_type": "code",
   "execution_count": 27,
   "metadata": {},
   "outputs": [],
   "source": [
    "def check_for_fittest():\n",
    "    global fittest_swarm\n",
    "    if fittest_swarm == None or population[0].fitness > fittest_swarm.fitness:\n",
    "        fittest_swarm = copy.deepcopy(population[0])\n",
    "        check_drone_coverage(fittest_swarm)\n",
    "        draw_scene(fittest_swarm)\n",
    "    #print(\"Fittest's fitness\", fittest_swarm.fitness)\n",
    "    \n",
    "        print(datetime.datetime.now() - start_time)\n",
    "        return True\n",
    "    else:\n",
    "        return False"
   ]
  },
  {
   "cell_type": "code",
   "execution_count": 28,
   "metadata": {},
   "outputs": [],
   "source": [
    "# GA function to mate/breed organisms of the population together\n",
    "# Done so by swapping drones with each other\n",
    "def mingle_the_genes():\n",
    "    global population\n",
    "    \n",
    "    # Assigning metaphorical sex. M/F assignment only metaphorical for separating groups\n",
    "    males = []\n",
    "    females = []\n",
    "    \n",
    "    random.shuffle(population)\n",
    "    for i in range(0, len(population), 2):\n",
    "        males.append(population[i])\n",
    "    for i in range(1, len(population), 2):\n",
    "        females.append(population[i])\n",
    "\n",
    "    if len(females) == 0:\n",
    "        asexually_reproduce()\n",
    "        \n",
    "    else:\n",
    "        for i in range(0, len(females)): #because females list will be shorter\n",
    "\n",
    "            splice_site = random.randint(1, len(females[i].drones))\n",
    "\n",
    "            males_front = males[i].drones[:splice_site]\n",
    "            males_end   = males[i].drones[splice_site:]\n",
    "            females_front = females[i].drones[:splice_site]\n",
    "            females_end   = females[i].drones[splice_site:]\n",
    "\n",
    "            offspring0_drones = copy.deepcopy(females_front + males_end)\n",
    "            offspring1_drones = copy.deepcopy(males_front + females_end)\n",
    "\n",
    "            population.append(create_new_member(offspring0_drones, map_length, map_width))\n",
    "            population.append(create_new_member(offspring1_drones, map_length, map_width))\n",
    "        "
   ]
  },
  {
   "cell_type": "code",
   "execution_count": 29,
   "metadata": {},
   "outputs": [],
   "source": [
    "#Reset swarm population\n",
    "def reset_population():\n",
    "    for swarm in population:\n",
    "        swarm.reset()"
   ]
  },
  {
   "cell_type": "code",
   "execution_count": 30,
   "metadata": {},
   "outputs": [],
   "source": [
    "def mutate_population():\n",
    "    global population\n",
    "    for swarm in population:\n",
    "        for drone in swarm.drones:\n",
    "            for layer in drone.nn.weights:\n",
    "                for node in layer:\n",
    "                    for weight in range(0, len(node)):\n",
    "                        chance = np.random.rand()\n",
    "                        if chance > 0.9:\n",
    "                            (node[weight]) += np.random.rand() * random.randint(-1, 1)\n",
    "                        #print(node[weight])\n",
    "                        #if weight < 0.5:\n",
    "                            #weight *= 0.5"
   ]
  },
  {
   "cell_type": "code",
   "execution_count": 31,
   "metadata": {},
   "outputs": [],
   "source": [
    "# Reproduces/refills population asexually\n",
    "def asexually_reproduce():\n",
    "    for swarm in range(0, len(population)):\n",
    "        swarm_copy = copy.deepcopy(population[swarm])\n",
    "        population.append(swarm_copy)"
   ]
  },
  {
   "cell_type": "code",
   "execution_count": 32,
   "metadata": {
    "scrolled": true
   },
   "outputs": [],
   "source": [
    "init()"
   ]
  },
  {
   "cell_type": "code",
   "execution_count": 33,
   "metadata": {},
   "outputs": [],
   "source": [
    "start_time = datetime.datetime.now()"
   ]
  },
  {
   "cell_type": "code",
   "execution_count": 34,
   "metadata": {},
   "outputs": [],
   "source": [
    "smart_scatter()\n",
    "#hard_coded_search()"
   ]
  },
  {
   "cell_type": "code",
   "execution_count": 35,
   "metadata": {},
   "outputs": [
    {
     "name": "stdout",
     "output_type": "stream",
     "text": [
      "2.86 %\n",
      "0.66 %\n",
      "0.5700000000000001 %\n",
      "3.37 %\n"
     ]
    },
    {
     "data": {
      "image/png": "[encoded data removed]",
      "text/plain": [
       "<Figure size 432x288 with 1 Axes>"
      ]
     },
     "metadata": {
      "needs_background": "light"
     },
     "output_type": "display_data"
    },
    {
     "data": {
      "image/png": "[encoded data removed]",
      "text/plain": [
       "<Figure size 432x288 with 1 Axes>"
      ]
     },
     "metadata": {
      "needs_background": "light"
     },
     "output_type": "display_data"
    },
    {
     "data": {
      "image/png": "[encoded data removed]",
      "text/plain": [
       "<Figure size 432x288 with 1 Axes>"
      ]
     },
     "metadata": {
      "needs_background": "light"
     },
     "output_type": "display_data"
    },
    {
     "data": {
      "image/png": "[encoded data removed]",
      "text/plain": [
       "<Figure size 432x288 with 1 Axes>"
      ]
     },
     "metadata": {
      "needs_background": "light"
     },
     "output_type": "display_data"
    }
   ],
   "source": [
    "plot_population()"
   ]
  },
  {
   "cell_type": "code",
   "execution_count": 36,
   "metadata": {},
   "outputs": [
    {
     "name": "stdout",
     "output_type": "stream",
     "text": [
      "3.37 %\n",
      "0:00:21.797679\n"
     ]
    },
    {
     "data": {
      "text/plain": [
       "True"
      ]
     },
     "execution_count": 36,
     "metadata": {},
     "output_type": "execute_result"
    },
    {
     "data": {
      "image/png": "[encoded data removed]",
      "text/plain": [
       "<Figure size 432x288 with 1 Axes>"
      ]
     },
     "metadata": {
      "needs_background": "light"
     },
     "output_type": "display_data"
    }
   ],
   "source": [
    "population.sort(key=lambda x: x.fitness, reverse=True)\n",
    "if members_per_generation > 1:\n",
    "    kill_off_the_weak()\n",
    "check_for_fittest()"
   ]
  },
  {
   "cell_type": "code",
   "execution_count": 37,
   "metadata": {},
   "outputs": [],
   "source": [
    "reset_population()\n",
    "if members_per_generation > 1:\n",
    "    #mingle_the_genes()\n",
    "    asexually_reproduce()"
   ]
  },
  {
   "cell_type": "code",
   "execution_count": 38,
   "metadata": {},
   "outputs": [],
   "source": [
    "mutate_population()"
   ]
  },
  {
   "cell_type": "code",
   "execution_count": 39,
   "metadata": {},
   "outputs": [],
   "source": [
    "#check_coverage_population()"
   ]
  },
  {
   "cell_type": "code",
   "execution_count": 40,
   "metadata": {},
   "outputs": [
    {
     "name": "stdout",
     "output_type": "stream",
     "text": [
      "0 [858, 336, 284, 236]\n",
      "8.58 %\n",
      "0:00:31.768998\n",
      "1 [916, 490, 363, 356]\n",
      "9.16 %\n",
      "0:00:33.262005\n",
      "2 [695, 602, 565, 509]\n",
      "3 [773, 713, 690, 675, 479]\n",
      "4 [895, 498, 455, 244, 61]\n",
      "5 [871, 850, 757, 739, 507]\n",
      "6 [822, 763, 531, 523, 504]\n",
      "7 [1104, 848, 776, 747, 516]\n",
      "11.04 %\n",
      "0:00:57.972925\n",
      "8 [1271, 1081, 722, 647]\n",
      "12.709999999999999 %\n",
      "0:01:07.271010\n",
      "9 [1306, 1271, 517, 463]\n",
      "13.059999999999999 %\n",
      "0:01:14.440825\n",
      "10 [1271, 1271, 1034, 1013]\n",
      "11 [1951, 1599, 1353, 1302, 1271]\n",
      "19.509999999999998 %\n",
      "0:01:30.339290\n",
      "12 [1972, 1522, 861, 657]\n",
      "19.72 %\n",
      "0:01:42.245515\n",
      "13 [1877, 1303, 680, 667]\n",
      "14 [1740, 1610, 1513, 732, 569]\n",
      "15 [2012, 1851, 1271, 1208, 445]\n",
      "20.119999999999997 %\n",
      "0:02:15.433718\n",
      "16 [2148, 1810, 1044, 680]\n",
      "21.48 %\n",
      "0:02:27.556283\n",
      "17 [2013, 1945, 1849, 1685]\n",
      "18 [1832, 1814, 1726, 1393, 680]\n",
      "19 [2051, 2017, 1289, 838, 642]\n",
      "20 [1923, 1514, 1483, 1261, 806]\n",
      "21 [2087, 1965, 1823, 1287, 689]\n",
      "22 [2131, 1792, 1638, 1175, 895]\n",
      "23 [1990, 1646, 1645, 1640, 959]\n",
      "24 [1761, 1228, 1195, 904, 783]\n",
      "25 [2199, 2089, 2017, 1775, 1475]\n",
      "21.990000000000002 %\n",
      "0:04:56.702238\n",
      "26 [2217, 1434, 1028, 792]\n",
      "22.17 %\n",
      "0:05:08.089770\n",
      "27 [1537, 1351, 1007, 418]\n",
      "28 [2057, 2053, 1724, 1530, 1210]\n",
      "29 [1875, 1774, 1327, 1137, 604]\n",
      "30 [1988, 1794, 1402, 1082, 844]\n",
      "31 [1748, 1532, 1458, 1022, 937]\n",
      "32 [2114, 2079, 1718, 1698, 1627]\n",
      "33 [1861, 1833, 1376, 850, 601]\n",
      "34 [2005, 1927, 1721, 1696, 1561]\n",
      "35 [1963, 1886, 1750, 1623, 827]\n",
      "36 [1436, 1412, 1169, 903, 625]\n",
      "37 [1933, 1765, 1228, 680, 373]\n",
      "38 [1927, 1077, 929, 805, 472]\n",
      "39 [2030, 1983, 1464, 1401, 485]\n",
      "40 [1883, 1867, 1860, 1271, 1104]\n",
      "41 [2076, 1724, 1667, 1338, 662]\n",
      "42 [1617, 1550, 1308, 732, 437]\n",
      "43 [1835, 1720, 923, 770, 617]\n",
      "44 [2036, 1589, 1519, 1454, 1397]\n",
      "45 [1832, 1722, 1585, 1567, 506]\n",
      "46 [2103, 1885, 1635, 1381, 822]\n",
      "47 [1948, 1903, 1895, 1821, 1502]\n",
      "48 [1445, 1395, 1210, 1062, 571]\n",
      "49 [1676, 1298, 1165, 1025, 702]\n",
      "50 [2036, 1636, 1350, 1134, 422]\n",
      "51 [2127, 2081, 1898, 1223, 516]\n",
      "52 [2144, 1923, 1533, 976, 808]\n",
      "53 [1821, 1490, 1006, 587, 494]\n",
      "54 [1938, 1690, 1574, 936, 683]\n",
      "55 [1904, 1630, 1143, 946, 740]\n",
      "56 [1647, 1531, 948, 903, 487]\n",
      "57 [1557, 1550, 1269, 847, 695]\n",
      "58 [1986, 1761, 1520, 1312, 863]\n",
      "59 [2147, 1751, 927, 791, 616]\n",
      "60 [2042, 1401, 1261, 1017, 703]\n",
      "61 [1773, 1356, 1242, 860, 596]\n",
      "62 [2098, 1944, 1578, 550, 549]\n",
      "63 [1852, 1335, 578, 543, 254]\n",
      "64 [1612, 1590, 1203, 842, 662]\n",
      "65 [1954, 1908, 1492, 645, 555]\n",
      "66 [1905, 1215, 818, 742, 642]\n",
      "67 [2104, 1221, 946, 871, 515]\n",
      "68 [1857, 1234, 804, 712, 639]\n",
      "69 [2052, 1645, 1413, 1379, 857]\n",
      "70 [1830, 1510, 1355, 1213, 440]\n",
      "71 [1641, 1319, 1079, 865, 748]\n",
      "72 [2163, 1756, 1489, 1111, 1073]\n",
      "73 [2210, 2121, 2076, 1325, 1237]\n",
      "74 [1980, 1794, 1329, 1221, 1149]\n",
      "75 [1734, 1695, 1650, 1590, 1448]\n",
      "76 [2104, 1574, 1390, 853, 766]\n",
      "77 [1906, 1865, 1827, 1460, 742]\n",
      "78 [2250, 1431, 1355, 996, 418]\n",
      "22.5 %\n",
      "0:16:15.264908\n",
      "79 [1343, 1333, 1131, 1093]\n",
      "80 [1956, 1895, 1766, 1505, 1328]\n",
      "81 [2112, 1784, 1418, 859, 630]\n",
      "82 [2068, 1693, 1630, 1202, 1123]\n",
      "83 [1856, 1735, 1560, 1500, 970]\n",
      "84 [2045, 1649, 1113, 964, 652]\n",
      "85 [2080, 1677, 1430, 1127, 606]\n",
      "86 [1952, 1850, 1782, 1634, 1560]\n",
      "87 [1879, 1768, 1761, 1448, 763]\n",
      "88 [1955, 1796, 1621, 1420, 685]\n",
      "89 [1787, 807, 668, 627, 604]\n",
      "90 [1938, 1842, 896, 628, 587]\n",
      "91 [2147, 2058, 1534, 1457, 686]\n",
      "92 [1646, 1630, 1613, 1578, 1413]\n",
      "93 [2078, 1619, 1479, 1289, 1012]\n",
      "94 [1957, 1275, 1120, 554, 550]\n",
      "95 [1940, 1887, 1305, 1252, 846]\n",
      "96 [2011, 1995, 1837, 1476, 769]\n",
      "97 [1733, 1629, 1596, 809, 630]\n",
      "98 [1870, 1829, 1605, 1416, 1030]\n",
      "99 [1919, 1854, 1748, 1155, 888]\n",
      "100 [2013, 1134, 1006, 819, 789]\n",
      "101 [2054, 2046, 1579, 1286, 590]\n",
      "102 [1973, 1884, 1678, 1421, 1180]\n",
      "103 [1836, 1560, 1560, 1159, 1141]\n",
      "104 [1771, 1756, 1378, 1091, 960]\n",
      "105 [1618, 1517, 1404, 1036, 997]\n",
      "106 [2141, 2006, 1570, 1532, 1399]\n",
      "107 [1835, 1753, 1748, 1612, 1236]\n",
      "108 [2057, 1752, 917, 724, 651]\n",
      "109 [2179, 1958, 1526, 875, 737]\n",
      "110 [2235, 2182, 1868, 1266, 921]\n",
      "111 [2020, 1797, 1661, 739, 685]\n",
      "112 [1754, 1748, 1747, 1380, 1375]\n",
      "113 [2064, 1738, 1533, 1527, 1152]\n",
      "114 [1442, 1181, 1065, 696, 603]\n",
      "115 [1795, 1570, 1524, 643, 612]\n",
      "116 [1942, 1794, 1355, 1117, 665]\n",
      "117 [1443, 1338, 1115, 1014, 554]\n",
      "118 [1576, 1209, 887, 847, 783]\n",
      "119 [2142, 1429, 1179, 791, 542]\n",
      "120 [1607, 1542, 1290, 731, 654]\n",
      "121 [1905, 1542, 1200, 1048, 555]\n",
      "122 [1351, 1289, 1270, 1216, 1138]\n",
      "123 [1748, 1524, 1179, 972, 585]\n",
      "124 [1965, 1884, 1282, 1061, 913]\n",
      "125 [2153, 1806, 1586, 1440, 1122]\n",
      "126 [2013, 1796, 1404, 877, 792]\n",
      "127 [1803, 1769, 1642, 1606, 812]\n",
      "128 [1947, 1915, 1813, 1512, 844]\n",
      "129 [2008, 1851, 1503, 1141, 978]\n",
      "130 [1831, 1607, 1498, 1302, 1225]\n",
      "131 [1756, 1512, 1361, 1087, 544]\n",
      "132 [1772, 1755, 1640, 1630, 823]\n",
      "133 [2252, 2097, 1590, 1512, 597]\n",
      "22.52 %\n",
      "0:29:26.381675\n",
      "134 [2158, 1943, 1885, 1715]\n",
      "135 [2125, 2006, 1643, 1339, 776]\n",
      "136 [1880, 1729, 1414, 1019, 728]\n",
      "137 [2062, 1940, 1773, 1190, 975]\n",
      "138 [1742, 1635, 1474, 691, 512]\n",
      "139 [2001, 1797, 1658, 1553, 1546]\n",
      "140 [1851, 1764, 1750, 1223, 1036]\n",
      "141 [2025, 1924, 1435, 1365, 517]\n",
      "142 [1421, 1316, 1035, 760, 621]\n",
      "143 [1823, 1417, 1263, 1225, 804]\n",
      "144 [1187, 1161, 1033, 1029, 880]\n",
      "145 [2214, 1386, 1141, 1003, 891]\n",
      "146 [1816, 1672, 1603, 1537, 1316]\n",
      "147 [1973, 1807, 1579, 1523, 1037]\n",
      "148 [1786, 1648, 1510, 1020, 863]\n",
      "149 [1615, 1459, 1255, 1082, 1044]\n",
      "150 [2029, 1850, 1539, 1238, 825]\n",
      "151 [2153, 1959, 1941, 1688, 675]\n",
      "152 [2036, 1991, 1823, 1332, 789]\n",
      "153 [2163, 1949, 1888, 1649, 1341]\n",
      "154 [2000, 1988, 1861, 969, 932]\n",
      "155 [2199, 1787, 1689, 1161, 1047]\n",
      "156 [1732, 1640, 1546, 812, 758]\n",
      "157 [1601, 1418, 1283, 1061, 988]\n",
      "158 [1887, 1458, 1321, 1115, 535]\n",
      "159 [2100, 1773, 1659, 1498, 522]\n",
      "160 [1768, 1338, 1282, 1234, 1093]\n",
      "161 [1488, 1352, 1087, 715, 515]\n",
      "162 [2039, 1451, 1450, 1227, 851]\n",
      "163 [2012, 1487, 1120, 711, 679]\n",
      "164 [2081, 2031, 1841, 1349, 914]\n",
      "165 [2177, 1698, 1316, 800, 762]\n",
      "166 [2073, 1557, 1107, 981, 877]\n",
      "167 [1688, 1490, 1370, 1242, 686]\n",
      "168 [1608, 1534, 900, 890, 672]\n",
      "169 [1848, 1678, 1598, 1312, 1276]\n",
      "170 [1636, 1440, 973, 806, 615]\n",
      "171 [1616, 1364, 1296, 1116, 791]\n",
      "172 [1633, 925, 844, 760, 688]\n",
      "173 [1965, 1726, 1657, 1076, 720]\n",
      "174 [2079, 1710, 1639, 1348, 1056]\n",
      "175 [1869, 1770, 1691, 853, 653]\n",
      "176 [1865, 1646, 1281, 1180, 657]\n",
      "177 [2063, 2041, 1687, 1452, 1121]\n",
      "178 [2257, 1532, 1157, 754, 599]\n",
      "22.57 %\n",
      "0:41:36.878379\n",
      "179 [1653, 1409, 1219, 1084]\n",
      "180 [1973, 1735, 1727, 993, 313]\n",
      "181 [2205, 2183, 1936, 1703, 1674]\n",
      "182 [1841, 1400, 1315, 1039, 653]\n",
      "183 [1949, 1332, 756, 634, 489]\n",
      "184 [1556, 1374, 1274, 945, 922]\n",
      "185 [2107, 2013, 1934, 812, 766]\n",
      "186 [1874, 1676, 891, 454, 430]\n",
      "187 [1999, 1257, 1220, 764, 697]\n",
      "188 [2170, 2127, 2018, 767, 759]\n",
      "189 [1446, 1297, 1239, 1182, 527]\n",
      "190 [1689, 1504, 1503, 1169, 792]\n",
      "191 [1860, 1607, 1205, 1185, 1046]\n",
      "192 [2176, 1816, 1671, 1527, 1002]\n",
      "193 [2051, 1254, 1017, 1006, 945]\n",
      "194 [1645, 1472, 1401, 964, 829]\n",
      "195 [1766, 1430, 1329, 926, 711]\n",
      "196 [1807, 1544, 1536, 1076, 1009]\n",
      "197 [2212, 1515, 1369, 1012, 648]\n",
      "198 [1729, 1723, 1412, 1207, 877]\n",
      "199 [1998, 1856, 1459, 1432, 1249]\n",
      "200 [1833, 1744, 1421, 1288, 1016]\n",
      "201 [1888, 1604, 1323, 1178, 989]\n",
      "202 [1852, 1396, 1137, 1002, 550]\n",
      "203 [1819, 1797, 1387, 1288, 1188]\n",
      "204 [1814, 1466, 813, 811, 767]\n",
      "205 [2039, 1773, 1672, 1453, 1265]\n",
      "206 [1930, 1929, 1749, 937, 853]\n",
      "207 [1869, 1765, 1288, 983, 893]\n",
      "208 [2183, 1920, 1821, 1430, 867]\n",
      "209 [1817, 1555, 1208, 1137, 805]\n",
      "210 [2017, 1959, 1573, 1377, 999]\n",
      "211 [2024, 1855, 1810, 986, 456]\n",
      "212 [2166, 1695, 1233, 1086, 823]\n",
      "213 [1428, 1180, 1141, 1115, 1091]\n",
      "214 [2063, 1762, 1670, 1616, 1178]\n",
      "215 [1977, 1808, 1356, 968, 875]\n",
      "216 [2128, 1860, 1805, 870, 637]\n",
      "217 [1895, 1638, 1616, 1437, 826]\n",
      "218 [2064, 1897, 1725, 1192, 656]\n",
      "219 [2229, 2045, 1825, 1696, 1577]\n",
      "220 "
     ]
    },
    {
     "ename": "KeyboardInterrupt",
     "evalue": "",
     "output_type": "error",
     "traceback": [
      "\u001b[1;31m---------------------------------------------------------------------------\u001b[0m",
      "\u001b[1;31mKeyboardInterrupt\u001b[0m                         Traceback (most recent call last)",
      "\u001b[1;32m<ipython-input-40-4da2fb5bc0b2>\u001b[0m in \u001b[0;36m<module>\u001b[1;34m\u001b[0m\n\u001b[0;32m      1\u001b[0m \u001b[1;32mfor\u001b[0m \u001b[0mi\u001b[0m \u001b[1;32min\u001b[0m \u001b[0mrange\u001b[0m\u001b[1;33m(\u001b[0m\u001b[1;36m0\u001b[0m\u001b[1;33m,\u001b[0m \u001b[0mgenerations\u001b[0m\u001b[1;33m)\u001b[0m\u001b[1;33m:\u001b[0m\u001b[1;33m\u001b[0m\u001b[1;33m\u001b[0m\u001b[0m\n\u001b[0;32m      2\u001b[0m     \u001b[0mprint\u001b[0m\u001b[1;33m(\u001b[0m\u001b[0mi\u001b[0m\u001b[1;33m,\u001b[0m \u001b[0mend\u001b[0m\u001b[1;33m=\u001b[0m\u001b[1;34m\" \"\u001b[0m\u001b[1;33m)\u001b[0m\u001b[1;33m\u001b[0m\u001b[1;33m\u001b[0m\u001b[0m\n\u001b[1;32m----> 3\u001b[1;33m     \u001b[0msmart_scatter\u001b[0m\u001b[1;33m(\u001b[0m\u001b[1;33m)\u001b[0m\u001b[1;33m\u001b[0m\u001b[1;33m\u001b[0m\u001b[0m\n\u001b[0m\u001b[0;32m      4\u001b[0m     \u001b[1;31m#hard_coded_search()\u001b[0m\u001b[1;33m\u001b[0m\u001b[1;33m\u001b[0m\u001b[1;33m\u001b[0m\u001b[0m\n\u001b[0;32m      5\u001b[0m     \u001b[0mpopulation\u001b[0m\u001b[1;33m.\u001b[0m\u001b[0msort\u001b[0m\u001b[1;33m(\u001b[0m\u001b[0mkey\u001b[0m\u001b[1;33m=\u001b[0m\u001b[1;32mlambda\u001b[0m \u001b[0mx\u001b[0m\u001b[1;33m:\u001b[0m \u001b[0mx\u001b[0m\u001b[1;33m.\u001b[0m\u001b[0mfitness\u001b[0m\u001b[1;33m,\u001b[0m \u001b[0mreverse\u001b[0m\u001b[1;33m=\u001b[0m\u001b[1;32mTrue\u001b[0m\u001b[1;33m)\u001b[0m\u001b[1;33m\u001b[0m\u001b[1;33m\u001b[0m\u001b[0m\n",
      "\u001b[1;32m<ipython-input-24-313e4e022a08>\u001b[0m in \u001b[0;36msmart_scatter\u001b[1;34m()\u001b[0m\n\u001b[0;32m     47\u001b[0m                             \u001b[1;31m#drone.is_alive = False\u001b[0m\u001b[1;33m\u001b[0m\u001b[1;33m\u001b[0m\u001b[1;33m\u001b[0m\u001b[0m\n\u001b[0;32m     48\u001b[0m \u001b[1;33m\u001b[0m\u001b[0m\n\u001b[1;32m---> 49\u001b[1;33m                     \u001b[0mdrone\u001b[0m\u001b[1;33m.\u001b[0m\u001b[0mneural_net_feedforward\u001b[0m\u001b[1;33m(\u001b[0m\u001b[0mdrone\u001b[0m\u001b[1;33m.\u001b[0m\u001b[0mget_input_layer\u001b[0m\u001b[1;33m(\u001b[0m\u001b[1;33m)\u001b[0m\u001b[1;33m)\u001b[0m\u001b[1;33m\u001b[0m\u001b[1;33m\u001b[0m\u001b[0m\n\u001b[0m\u001b[0;32m     50\u001b[0m             \u001b[0mswarm\u001b[0m\u001b[1;33m.\u001b[0m\u001b[0mbattery_left\u001b[0m \u001b[1;33m-=\u001b[0m \u001b[1;36m1\u001b[0m\u001b[1;33m\u001b[0m\u001b[1;33m\u001b[0m\u001b[0m\n",
      "\u001b[1;32m<ipython-input-2-9bc669f19e90>\u001b[0m in \u001b[0;36mneural_net_feedforward\u001b[1;34m(self, input_layer)\u001b[0m\n\u001b[0;32m     82\u001b[0m     \u001b[1;32mdef\u001b[0m \u001b[0mneural_net_feedforward\u001b[0m\u001b[1;33m(\u001b[0m\u001b[0mself\u001b[0m\u001b[1;33m,\u001b[0m \u001b[0minput_layer\u001b[0m\u001b[1;33m)\u001b[0m\u001b[1;33m:\u001b[0m\u001b[1;33m\u001b[0m\u001b[1;33m\u001b[0m\u001b[0m\n\u001b[0;32m     83\u001b[0m         \u001b[1;31m#print(input_layer)\u001b[0m\u001b[1;33m\u001b[0m\u001b[1;33m\u001b[0m\u001b[1;33m\u001b[0m\u001b[0m\n\u001b[1;32m---> 84\u001b[1;33m         \u001b[0mmovement\u001b[0m \u001b[1;33m=\u001b[0m \u001b[0mself\u001b[0m\u001b[1;33m.\u001b[0m\u001b[0mnn\u001b[0m\u001b[1;33m.\u001b[0m\u001b[0mfeedforward\u001b[0m\u001b[1;33m(\u001b[0m\u001b[0minput_layer\u001b[0m\u001b[1;33m)\u001b[0m\u001b[1;33m\u001b[0m\u001b[1;33m\u001b[0m\u001b[0m\n\u001b[0m\u001b[0;32m     85\u001b[0m         \u001b[1;31m#print(self, movement)\u001b[0m\u001b[1;33m\u001b[0m\u001b[1;33m\u001b[0m\u001b[1;33m\u001b[0m\u001b[0m\n\u001b[0;32m     86\u001b[0m         \u001b[0mself\u001b[0m\u001b[1;33m.\u001b[0m\u001b[0mx_move\u001b[0m \u001b[1;33m=\u001b[0m \u001b[0mmovement\u001b[0m\u001b[1;33m[\u001b[0m\u001b[1;36m0\u001b[0m\u001b[1;33m]\u001b[0m\u001b[1;33m[\u001b[0m\u001b[1;36m0\u001b[0m\u001b[1;33m]\u001b[0m\u001b[1;33m\u001b[0m\u001b[1;33m\u001b[0m\u001b[0m\n",
      "\u001b[1;32m<ipython-input-3-7623a8c3c810>\u001b[0m in \u001b[0;36mfeedforward\u001b[1;34m(self, input_layer)\u001b[0m\n\u001b[0;32m     25\u001b[0m         \u001b[0mself\u001b[0m\u001b[1;33m.\u001b[0m\u001b[0mhidden_layers\u001b[0m \u001b[1;33m=\u001b[0m \u001b[1;33m[\u001b[0m\u001b[1;32mNone\u001b[0m\u001b[1;33m]\u001b[0m \u001b[1;33m*\u001b[0m \u001b[1;36m2\u001b[0m\u001b[1;33m\u001b[0m\u001b[1;33m\u001b[0m\u001b[0m\n\u001b[0;32m     26\u001b[0m         \u001b[1;31m#For simplicity, biases are assumed to be zero\u001b[0m\u001b[1;33m\u001b[0m\u001b[1;33m\u001b[0m\u001b[1;33m\u001b[0m\u001b[0m\n\u001b[1;32m---> 27\u001b[1;33m         \u001b[0mself\u001b[0m\u001b[1;33m.\u001b[0m\u001b[0mhidden_layers\u001b[0m\u001b[1;33m[\u001b[0m\u001b[1;36m0\u001b[0m\u001b[1;33m]\u001b[0m \u001b[1;33m=\u001b[0m \u001b[0msigmoid\u001b[0m\u001b[1;33m(\u001b[0m\u001b[0mnp\u001b[0m\u001b[1;33m.\u001b[0m\u001b[0mdot\u001b[0m\u001b[1;33m(\u001b[0m\u001b[0minput_layer\u001b[0m\u001b[1;33m,\u001b[0m \u001b[0mself\u001b[0m\u001b[1;33m.\u001b[0m\u001b[0mweights\u001b[0m\u001b[1;33m[\u001b[0m\u001b[1;36m0\u001b[0m\u001b[1;33m]\u001b[0m\u001b[1;33m)\u001b[0m\u001b[1;33m)\u001b[0m\u001b[1;33m\u001b[0m\u001b[1;33m\u001b[0m\u001b[0m\n\u001b[0m\u001b[0;32m     28\u001b[0m         \u001b[0mself\u001b[0m\u001b[1;33m.\u001b[0m\u001b[0mhidden_layers\u001b[0m\u001b[1;33m[\u001b[0m\u001b[1;36m1\u001b[0m\u001b[1;33m]\u001b[0m \u001b[1;33m=\u001b[0m \u001b[0msigmoid\u001b[0m\u001b[1;33m(\u001b[0m\u001b[0mnp\u001b[0m\u001b[1;33m.\u001b[0m\u001b[0mdot\u001b[0m\u001b[1;33m(\u001b[0m\u001b[0mself\u001b[0m\u001b[1;33m.\u001b[0m\u001b[0mhidden_layers\u001b[0m\u001b[1;33m[\u001b[0m\u001b[1;36m0\u001b[0m\u001b[1;33m]\u001b[0m\u001b[1;33m,\u001b[0m \u001b[0mself\u001b[0m\u001b[1;33m.\u001b[0m\u001b[0mweights\u001b[0m\u001b[1;33m[\u001b[0m\u001b[1;36m1\u001b[0m\u001b[1;33m]\u001b[0m\u001b[1;33m)\u001b[0m\u001b[1;33m)\u001b[0m\u001b[1;33m\u001b[0m\u001b[1;33m\u001b[0m\u001b[0m\n\u001b[0;32m     29\u001b[0m         \u001b[0mself\u001b[0m\u001b[1;33m.\u001b[0m\u001b[0moutput\u001b[0m \u001b[1;33m=\u001b[0m \u001b[0msigmoid\u001b[0m\u001b[1;33m(\u001b[0m\u001b[0mnp\u001b[0m\u001b[1;33m.\u001b[0m\u001b[0mdot\u001b[0m\u001b[1;33m(\u001b[0m\u001b[0mself\u001b[0m\u001b[1;33m.\u001b[0m\u001b[0mhidden_layers\u001b[0m\u001b[1;33m[\u001b[0m\u001b[1;36m1\u001b[0m\u001b[1;33m]\u001b[0m\u001b[1;33m,\u001b[0m \u001b[0mself\u001b[0m\u001b[1;33m.\u001b[0m\u001b[0mweights\u001b[0m\u001b[1;33m[\u001b[0m\u001b[1;36m2\u001b[0m\u001b[1;33m]\u001b[0m\u001b[1;33m)\u001b[0m\u001b[1;33m)\u001b[0m\u001b[1;33m\u001b[0m\u001b[1;33m\u001b[0m\u001b[0m\n",
      "\u001b[1;31mKeyboardInterrupt\u001b[0m: "
     ]
    },
    {
     "data": {
      "image/png": "[encoded data removed]",
      "text/plain": [
       "<Figure size 432x288 with 1 Axes>"
      ]
     },
     "metadata": {
      "needs_background": "light"
     },
     "output_type": "display_data"
    },
    {
     "data": {
      "image/png": "[encoded data removed]",
      "text/plain": [
       "<Figure size 432x288 with 1 Axes>"
      ]
     },
     "metadata": {
      "needs_background": "light"
     },
     "output_type": "display_data"
    },
    {
     "data": {
      "image/png": "[encoded data removed]",
      "text/plain": [
       "<Figure size 432x288 with 1 Axes>"
      ]
     },
     "metadata": {
      "needs_background": "light"
     },
     "output_type": "display_data"
    },
    {
     "data": {
      "image/png": "[encoded data removed]",
      "text/plain": [
       "<Figure size 432x288 with 1 Axes>"
      ]
     },
     "metadata": {
      "needs_background": "light"
     },
     "output_type": "display_data"
    },
    {
     "data": {
      "image/png": "[encoded data removed]",
      "text/plain": [
       "<Figure size 432x288 with 1 Axes>"
      ]
     },
     "metadata": {
      "needs_background": "light"
     },
     "output_type": "display_data"
    },
    {
     "data": {
      "image/png": "[encoded data removed]",
      "text/plain": [
       "<Figure size 432x288 with 1 Axes>"
      ]
     },
     "metadata": {
      "needs_background": "light"
     },
     "output_type": "display_data"
    },
    {
     "data": {
      "image/png": "[encoded data removed]",
      "text/plain": [
       "<Figure size 432x288 with 1 Axes>"
      ]
     },
     "metadata": {
      "needs_background": "light"
     },
     "output_type": "display_data"
    },
    {
     "data": {
      "image/png": "[encoded data removed]",
      "text/plain": [
       "<Figure size 432x288 with 1 Axes>"
      ]
     },
     "metadata": {
      "needs_background": "light"
     },
     "output_type": "display_data"
    },
    {
     "data": {
      "image/png": "[encoded data removed]",
      "text/plain": [
       "<Figure size 432x288 with 1 Axes>"
      ]
     },
     "metadata": {
      "needs_background": "light"
     },
     "output_type": "display_data"
    },
    {
     "data": {
      "image/png": "[encoded data removed]",
      "text/plain": [
       "<Figure size 432x288 with 1 Axes>"
      ]
     },
     "metadata": {
      "needs_background": "light"
     },
     "output_type": "display_data"
    },
    {
     "data": {
      "image/png": "[encoded data removed]",
      "text/plain": [
       "<Figure size 432x288 with 1 Axes>"
      ]
     },
     "metadata": {
      "needs_background": "light"
     },
     "output_type": "display_data"
    },
    {
     "data": {
      "image/png": "[encoded data removed]",
      "text/plain": [
       "<Figure size 432x288 with 1 Axes>"
      ]
     },
     "metadata": {
      "needs_background": "light"
     },
     "output_type": "display_data"
    },
    {
     "data": {
      "image/png": "[encoded data removed]",
      "text/plain": [
       "<Figure size 432x288 with 1 Axes>"
      ]
     },
     "metadata": {
      "needs_background": "light"
     },
     "output_type": "display_data"
    },
    {
     "data": {
      "image/png": "[encoded data removed]",
      "text/plain": [
       "<Figure size 432x288 with 1 Axes>"
      ]
     },
     "metadata": {
      "needs_background": "light"
     },
     "output_type": "display_data"
    }
   ],
   "source": [
    "for i in range(0, generations):\n",
    "    print(i, end=\" \")\n",
    "    smart_scatter()\n",
    "    #hard_coded_search()\n",
    "    population.sort(key=lambda x: x.fitness, reverse=True)\n",
    "    print(population)\n",
    "    kill_off_the_weak()\n",
    "    is_new_fittest = check_for_fittest()\n",
    "    #mingle_the_genes()\n",
    "    asexually_reproduce()\n",
    "    if not is_new_fittest:\n",
    "        population.append(copy.deepcopy(fittest_swarm))\n",
    "    reset_population()\n",
    "    mutate_population()\n",
    "    check_coverage_population()"
   ]
  },
  {
   "cell_type": "code",
   "execution_count": 41,
   "metadata": {},
   "outputs": [
    {
     "name": "stdout",
     "output_type": "stream",
     "text": [
      "0:51:58.384449\n"
     ]
    }
   ],
   "source": [
    "print(datetime.datetime.now() - start_time)"
   ]
  },
  {
   "cell_type": "code",
   "execution_count": 42,
   "metadata": {},
   "outputs": [
    {
     "name": "stdout",
     "output_type": "stream",
     "text": [
      "22.57 %\n"
     ]
    },
    {
     "data": {
      "image/png": "[encoded data removed]",
      "text/plain": [
       "<Figure size 432x288 with 1 Axes>"
      ]
     },
     "metadata": {
      "needs_background": "light"
     },
     "output_type": "display_data"
    }
   ],
   "source": [
    "#check_drone_coverage(fittest_swarm)\n",
    "draw_scene(fittest_swarm)"
   ]
  },
  {
   "cell_type": "code",
   "execution_count": null,
   "metadata": {},
   "outputs": [],
   "source": []
  },
  {
   "cell_type": "code",
   "execution_count": null,
   "metadata": {},
   "outputs": [],
   "source": []
  },
  {
   "cell_type": "code",
   "execution_count": null,
   "metadata": {},
   "outputs": [],
   "source": []
  }
 ],
 "metadata": {
  "kernelspec": {
   "display_name": "Python 3",
   "language": "python",
   "name": "python3"
  },
  "language_info": {
   "codemirror_mode": {
    "name": "ipython",
    "version": 3
   },
   "file_extension": ".py",
   "mimetype": "text/x-python",
   "name": "python",
   "nbconvert_exporter": "python",
   "pygments_lexer": "ipython3",
   "version": "3.7.3"
  }
 },
 "nbformat": 4,
 "nbformat_minor": 2
}
