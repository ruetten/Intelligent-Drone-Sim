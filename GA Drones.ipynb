{
 "cells": [
  {
   "cell_type": "code",
   "execution_count": 1,
   "metadata": {},
   "outputs": [],
   "source": [
    "import numpy as np\n",
    "import random\n",
    "import copy\n",
    "import math\n",
    "\n",
    "%matplotlib inline\n",
    "import matplotlib.pyplot as plt\n",
    "plt.style.use('seaborn-whitegrid')\n",
    "\n",
    "num_drones = 8\n",
    "drone_id = 0\n",
    "population = []"
   ]
  },
  {
   "cell_type": "code",
   "execution_count": 2,
   "metadata": {},
   "outputs": [],
   "source": [
    "class Drone:\n",
    "    id = 0\n",
    "    x = 0\n",
    "    y = 0\n",
    "    rely_on = []\n",
    "    def __init__(self):\n",
    "        global drone_id\n",
    "        self.id = drone_id\n",
    "        drone_id += 1\n",
    "        self.rely_on = []\n",
    "        "
   ]
  },
  {
   "cell_type": "code",
   "execution_count": 3,
   "metadata": {},
   "outputs": [],
   "source": [
    "def vertices_of_regpoly(n, r):\n",
    "    vertices = []\n",
    "    x = []\n",
    "    y = []\n",
    "    for i in range(0, n):\n",
    "        x.append(r * math.cos(2 * math.pi * i / n))\n",
    "        y.append(r * math.sin(2 * math.pi * i / n))\n",
    "    vertices.append(x)\n",
    "    vertices.append(y)\n",
    "    return vertices\n"
   ]
  },
  {
   "cell_type": "code",
   "execution_count": 4,
   "metadata": {},
   "outputs": [],
   "source": [
    "def set_init_drones(swarm):\n",
    "    xy = vertices_of_regpoly(num_drones, 1)\n",
    "    for i in range(0, len(swarm.drones)):\n",
    "        swarm.drones[i].x = xy[0][i]\n",
    "        swarm.drones[i].y = xy[1][i]"
   ]
  },
  {
   "cell_type": "code",
   "execution_count": 5,
   "metadata": {},
   "outputs": [],
   "source": [
    "class Swarm:\n",
    "    drones = []\n",
    "    connectedness = []\n",
    "    def __init__(self, drones):\n",
    "        self.drones = drones\n",
    "        self.connectedness = assign_connectedness(drones)\n",
    "        global drone_id\n",
    "        drone_id = 0\n",
    "        set_init_drones(self)\n",
    "        \n",
    "        \n",
    "def assign_connectedness(drones):\n",
    "    connectedness = np.zeros((len(drones),len(drones)))\n",
    "    \n",
    "    #The upper traingle of a mtrix w/o diagonal is filled in with 1s\n",
    "    #the diagonal would mean drones are connected to themselves\n",
    "    #the lower triangle is just a reflection\n",
    "    #representation of the connections between drones\n",
    "    for i in range(0,len(drones)):\n",
    "        for j in range(0, i):\n",
    "            connectedness[j][i] = 1 #if random.random() > 0.5 else 0\n",
    "            #connectedness[i][j] = connectedness[j][i]\n",
    "           \n",
    "    # Ensure that each drone has at least one connection\n",
    "    for i in range(0,len(drones)):\n",
    "        possible_values = np.nonzero(connectedness[i])[0].tolist()\n",
    "        choice = random.choice(possible_values) if possible_values else -1\n",
    "        if choice != -1:\n",
    "            possible_values.remove(choice)\n",
    "        #Remaining choices have a possibility of not being connections (probability related to the number of drones)\n",
    "        for value in possible_values:\n",
    "            connectedness[i][value] = 0 if random.random() > 1.0/float(len(drones)) else 1\n",
    "\n",
    "    #reflect over diagonal axis of matrix to make symmetric matrix\n",
    "    for i in range(0,len(drones)):\n",
    "        for j in range(0, i):\n",
    "            connectedness[i][j] = connectedness[j][i]\n",
    "    \n",
    "    for i in range(0,len(drones)):\n",
    "        for j in range(0, len(drones)):\n",
    "            if connectedness[i][j] == 1:\n",
    "                drones[i].rely_on.append(j)\n",
    "            \n",
    "    return connectedness\n",
    "            \n",
    "        "
   ]
  },
  {
   "cell_type": "code",
   "execution_count": 6,
   "metadata": {},
   "outputs": [],
   "source": [
    "def create_starting_population(size):\n",
    "    population = []\n",
    "    \n",
    "    global num_nodes\n",
    "    for i in range(0,size):\n",
    "        population.append(create_new_member(num_drones))\n",
    "        \n",
    "    return population"
   ]
  },
  {
   "cell_type": "code",
   "execution_count": 7,
   "metadata": {},
   "outputs": [],
   "source": [
    "def create_new_member(num_drones):\n",
    "    drones = []\n",
    "    for i in range(0, num_drones):\n",
    "        drones.append(Drone())\n",
    "    member = Swarm(drones)\n",
    "    return member"
   ]
  },
  {
   "cell_type": "code",
   "execution_count": 8,
   "metadata": {},
   "outputs": [],
   "source": [
    "def plot_swarm(swarm):\n",
    "    fig, ax = plt.subplots() # note we must use plt.subplots, not plt.subplot\n",
    "    for drone in swarm.drones:\n",
    "        plt.plot(drone.x, drone.y, 'x', color='black')\n",
    "        \n",
    "        circle1 = plt.Circle((drone.x, drone.y), 10, color = 'b', fill=False)        \n",
    "        ax.add_artist(circle1)\n",
    "\n",
    "    #fig.savefig('plotcircles.png')\n",
    "        \n",
    "    for row in range(0, num_drones - 1):\n",
    "        for col in range(row + 1, num_drones):\n",
    "            if swarm.connectedness[row][col] == 1:\n",
    "                plt.plot([swarm.drones[row].x, swarm.drones[col].x], \n",
    "                         [swarm.drones[row].y, swarm.drones[col].y])\n",
    "    set_map(100)\n",
    "    \n",
    "def set_map(map_size):\n",
    "    map_size /=2\n",
    "    plt.plot([-map_size,-map_size, map_size, map_size, -map_size], \n",
    "             [-map_size, map_size, map_size,-map_size, -map_size])\n",
    "    \n"
   ]
  },
  {
   "cell_type": "code",
   "execution_count": 9,
   "metadata": {},
   "outputs": [],
   "source": [
    "def drone_distance(drone1, drone2):\n",
    "    return math.hypot(drone2.x - drone1.x, drone2.y - drone1.y)"
   ]
  },
  {
   "cell_type": "code",
   "execution_count": 10,
   "metadata": {},
   "outputs": [],
   "source": [
    "def drone_sig_strength(drone_dist):\n",
    "    return 1/math.pow(drone_dist,2)"
   ]
  },
  {
   "cell_type": "code",
   "execution_count": 11,
   "metadata": {},
   "outputs": [],
   "source": [
    "def swarm_sig_strength(swarm):\n",
    "    swarm_strength = []\n",
    "    \n",
    "    for i in range(0, num_drones):\n",
    "        for j in range(0, i):\n",
    "            if swarm.connectedness[i][j] == 1:\n",
    "                #print('Signal strength between drone ', i, ' and drone ', j, ': ', end='')\n",
    "                #print(drone_sig_strength(swarm.drones[i], swarm.drones[j]))\n",
    "                dist = drone_distance(swarm.drones[i], swarm.drones[j])\n",
    "                swarm_strength.append([[j, i], dist , drone_sig_strength(dist)])\n",
    "    return swarm_strength"
   ]
  },
  {
   "cell_type": "code",
   "execution_count": 12,
   "metadata": {},
   "outputs": [
    {
     "name": "stdout",
     "output_type": "stream",
     "text": [
      "[[[0, 2], 1.414213562373095, 0.5000000000000001], [[1, 2], 0.7653668647301795, 1.707106781186548], [[0, 3], 1.8477590650225735, 0.2928932188134525], [[3, 4], 0.7653668647301795, 1.707106781186548], [[0, 5], 1.8477590650225737, 0.2928932188134524], [[3, 5], 1.414213562373095, 0.5000000000000001], [[4, 5], 0.7653668647301796, 1.7071067811865475], [[2, 7], 1.8477590650225737, 0.2928932188134524], [[4, 7], 1.8477590650225735, 0.2928932188134525], [[5, 7], 1.414213562373095, 0.5000000000000001], [[6, 7], 0.7653668647301796, 1.7071067811865475]]\n"
     ]
    },
    {
     "data": {
      "image/png": "[encoded data removed]",
      "text/plain": [
       "<Figure size 432x288 with 1 Axes>"
      ]
     },
     "metadata": {
      "needs_background": "light"
     },
     "output_type": "display_data"
    }
   ],
   "source": [
    "population = create_starting_population(1)\n",
    "for swarm in population:\n",
    "    plot_swarm(swarm)\n",
    "    \n",
    "    print(swarm_sig_strength(swarm))"
   ]
  },
  {
   "cell_type": "code",
   "execution_count": 13,
   "metadata": {},
   "outputs": [
    {
     "name": "stdout",
     "output_type": "stream",
     "text": [
      "[[[0, 2], 13.738805689909393, 0.005297879028773875], [[1, 2], 23.88907298623997, 0.0017522715322338762], [[0, 3], 25.668542728212536, 0.0015177406754446484], [[3, 4], 34.059034644931415, 0.0008620557069929795], [[0, 5], 41.090164802370644, 0.0005922761351590121], [[3, 5], 65.8394148602997, 0.0002306896313573598], [[4, 5], 85.0580553640268, 0.00013821943109284835], [[2, 7], 46.96615500123002, 0.00045334620636854273], [[4, 7], 65.88754603580797, 0.00023035271464784515], [[5, 7], 39.08910934358371, 0.0006544680500869391], [[6, 7], 71.8937668186142, 0.00019347173332008198]]\n"
     ]
    },
    {
     "data": {
      "image/png": "[encoded data removed]",
      "text/plain": [
       "<Figure size 432x288 with 1 Axes>"
      ]
     },
     "metadata": {
      "needs_background": "light"
     },
     "output_type": "display_data"
    }
   ],
   "source": [
    "for swarm in population:\n",
    "    for drone in swarm.drones:\n",
    "        for i in range(0, 3000):\n",
    "            drone.x += random.random() - .5\n",
    "            drone.y += random.random() - .5\n",
    "    plot_swarm(swarm)\n",
    "\n",
    "    print(swarm_sig_strength(swarm))"
   ]
  },
  {
   "cell_type": "code",
   "execution_count": null,
   "metadata": {
    "scrolled": true
   },
   "outputs": [],
   "source": []
  },
  {
   "cell_type": "code",
   "execution_count": null,
   "metadata": {},
   "outputs": [],
   "source": []
  },
  {
   "cell_type": "code",
   "execution_count": null,
   "metadata": {},
   "outputs": [],
   "source": []
  },
  {
   "cell_type": "code",
   "execution_count": null,
   "metadata": {},
   "outputs": [],
   "source": []
  },
  {
   "cell_type": "code",
   "execution_count": null,
   "metadata": {},
   "outputs": [],
   "source": []
  },
  {
   "cell_type": "code",
   "execution_count": null,
   "metadata": {},
   "outputs": [],
   "source": []
  }
 ],
 "metadata": {
  "kernelspec": {
   "display_name": "Python 3",
   "language": "python",
   "name": "python3"
  },
  "language_info": {
   "codemirror_mode": {
    "name": "ipython",
    "version": 3
   },
   "file_extension": ".py",
   "mimetype": "text/x-python",
   "name": "python",
   "nbconvert_exporter": "python",
   "pygments_lexer": "ipython3",
   "version": "3.7.3"
  }
 },
 "nbformat": 4,
 "nbformat_minor": 2
}
