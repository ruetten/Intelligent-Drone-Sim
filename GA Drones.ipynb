{
 "cells": [
  {
   "cell_type": "code",
   "execution_count": 1,
   "metadata": {},
   "outputs": [],
   "source": [
    "import numpy as np\n",
    "import random\n",
    "import copy\n",
    "import math\n",
    "\n",
    "%matplotlib inline\n",
    "import matplotlib.pyplot as plt\n",
    "plt.style.use('seaborn-whitegrid')\n",
    "\n",
    "num_drones = 4\n",
    "drone_id = 0\n",
    "population = []"
   ]
  },
  {
   "cell_type": "code",
   "execution_count": 2,
   "metadata": {},
   "outputs": [],
   "source": [
    "class Drone:\n",
    "    id = 0\n",
    "    x = 0\n",
    "    y = 0\n",
    "    x_move = 0\n",
    "    y_move = 0\n",
    "    coverage = 3\n",
    "    rely_on = None\n",
    "    send_to = None\n",
    "    connected_to = []\n",
    "    is_dead = False\n",
    "    \n",
    "    def __init__(self):\n",
    "        global drone_id\n",
    "        self.id = drone_id\n",
    "        drone_id += 1\n",
    "        self.connected_to = []\n",
    "        self.rely_on = None\n",
    "        self.send_to = None\n",
    "        \n",
    "    def __repr__(self):\n",
    "        return str(self.id)\n",
    "    \n",
    "    def neural_init(self):\n",
    "        self.nn = NeuralNetwork(self.get_input_layer())\n",
    "    \n",
    "    def get_input_layer(self):\n",
    "        rely_on_sig = -1\n",
    "        #print(self, \"relies on\", self.rely_on)\n",
    "        if self.rely_on != None:\n",
    "            rely_on_sig = drone_sig_strength(self, self.rely_on)\n",
    "        \n",
    "        #print(self, \"sends to\", self.send_to)\n",
    "        send_to_sig = -1\n",
    "        if self.send_to != None:\n",
    "            send_to_sig = drone_sig_strength(self, self.send_to)\n",
    "        \n",
    "        in_layer = [self.x*5, self.y*5, rely_on_sig, send_to_sig, self.x_move, self.y_move]\n",
    "        #out_layer_form = np.array([[0],[0],[0],[0]])\n",
    "        in_layer = np.array([in_layer])\n",
    "        #self.nn = NeuralNetwork(in_layer, out_layer_form)\n",
    "        return in_layer\n",
    "        \n",
    "    def neural_net_feedforward(self, input_layer):\n",
    "        #print(input_layer)\n",
    "        movement = self.nn.feedforward(input_layer)\n",
    "        #print(self, movement)\n",
    "        self.x_move = movement[0][0]\n",
    "        self.y_move = movement[0][1]"
   ]
  },
  {
   "cell_type": "code",
   "execution_count": 3,
   "metadata": {},
   "outputs": [],
   "source": [
    "#https://towardsdatascience.com/how-to-build-your-own-neural-network-from-scratch-in-python-68998a08e4f6 \n",
    "def sigmoid(x):\n",
    "    return 2*((1.0/(1+ np.exp(-0.5*(x-1)))-0.5))\n",
    "\n",
    "class NeuralNetwork:\n",
    "    def __init__(self, x):\n",
    "        self.input      = x\n",
    "        #print(self.input)\n",
    "        self.weights1   = np.random.rand(self.input.shape[1], 12)\n",
    "        #print(self.weights1)\n",
    "        self.weights2   = np.random.rand(12, 8)  \n",
    "        #print(self.weights2)\n",
    "        self.weights3   = np.random.rand(8, 2)  \n",
    "        #print(self.weights3)\n",
    "        \n",
    "        #self.output = np.zeros(y.shape)\n",
    "        \n",
    "    def feedforward(self, input_layer):\n",
    "        #For simplicity, biases are assumed to be zero\n",
    "        self.layer1 = sigmoid(np.dot(input_layer, self.weights1))\n",
    "        #print(self.layer1)\n",
    "        self.layer2 = sigmoid(np.dot(self.layer1, self.weights2))\n",
    "        #print(self.layer2)\n",
    "        self.output = sigmoid(np.dot(self.layer2, self.weights3))\n",
    "        #print(input_layer, self.output)\n",
    "        return self.output"
   ]
  },
  {
   "cell_type": "code",
   "execution_count": 4,
   "metadata": {},
   "outputs": [],
   "source": [
    "def vertices_of_regpoly(n, r):\n",
    "    vertices = []\n",
    "    x = []\n",
    "    y = []\n",
    "    for i in range(0, n):\n",
    "        #x.append(math.floor((the_map.size / 2) + r * math.cos(2 * math.pi * i / n)))\n",
    "        #y.append(math.floor((the_map.size / 2) + r * math.sin(2 * math.pi * i / n)))\n",
    "        x.append((the_map.size / 2) + r * math.cos(2 * math.pi * i / n))\n",
    "        y.append((the_map.size / 2) + r * math.sin(2 * math.pi * i / n))\n",
    "    vertices.append(x)\n",
    "    vertices.append(y)\n",
    "    return vertices"
   ]
  },
  {
   "cell_type": "code",
   "execution_count": 5,
   "metadata": {},
   "outputs": [],
   "source": [
    "def set_init_drones(swarm):\n",
    "    xy = vertices_of_regpoly(num_drones, 2)\n",
    "    for i in range(0, len(swarm.drones)):\n",
    "        swarm.drones[i].x = xy[0][i]\n",
    "        swarm.drones[i].y = xy[1][i]"
   ]
  },
  {
   "cell_type": "code",
   "execution_count": 6,
   "metadata": {},
   "outputs": [],
   "source": [
    "class Swarm:\n",
    "    drones = []\n",
    "    connectedness = []\n",
    "    \n",
    "    def __init__(self, drones):\n",
    "        self.drones = drones\n",
    "        global drone_id\n",
    "        drone_id = 0\n",
    "        set_init_drones(self)\n",
    "        self.assign_connectedness()\n",
    "        self.assign_drone_connect()\n",
    "        self.rssi_table = []\n",
    "        determine_architecture(self)\n",
    "        determine_neighbors(self)\n",
    "        for drone in self.drones:\n",
    "            drone.neural_init()\n",
    "            \n",
    "    \n",
    "    def assign_connectedness(self):\n",
    "        #Make the swarm's connectivity matrix\n",
    "        #This matrix is really only used for initial configuration\n",
    "        #~~~~~~~~~~~~~~~~~~~~~~~~~~~~~~~~~~~~~~~~~~~~~~~~~~~~~~~~~~\n",
    "        self.connectedness = np.zeros((len(self.drones),len(self.drones)))\n",
    "\n",
    "        #The upper traingle of a mtrix w/o diagonal is filled in with 1s\n",
    "        #the diagonal would mean drones are connected to themselves\n",
    "        #the lower triangle is just a reflection\n",
    "        #representation of the connections between drones\n",
    "        for i in range(0,len(self.drones)):\n",
    "            for j in range(0, i):\n",
    "                self.connectedness[j][i] = 1\n",
    "\n",
    "        # Ensure that each drone has at least one connection\n",
    "        for i in range(0,len(self.drones)):\n",
    "            possible_values = np.nonzero(self.connectedness[i])[0].tolist()\n",
    "            choice = random.choice(possible_values) if possible_values else -1\n",
    "            if choice != -1:\n",
    "                possible_values.remove(choice)\n",
    "            #Remaining choices have a possibility of not being connections (probability related to the number of drones)\n",
    "            for value in possible_values:\n",
    "                self.connectedness[i][value] = 0 if random.random() > 1.0/float(len(self.drones)) else 1\n",
    "\n",
    "        #reflect over diagonal axis of matrix to make symmetric matrix\n",
    "        for i in range(0,len(self.drones)):\n",
    "            for j in range(0, i):\n",
    "                self.connectedness[i][j] = self.connectedness[j][i]\n",
    "    \n",
    "    def assign_drone_connect(self):\n",
    "        #Assign list connectedness in drones\n",
    "        #~~~~~~~~~~~~~~~~~~~~~~~~~~~~~~~~~~~~~~~~~\n",
    "        for i in range(0,len(self.connectedness)):\n",
    "            for j in range(0, len(self.connectedness)):\n",
    "                if self.connectedness[i][j] == 1:\n",
    "                    self.drones[i].connected_to.append(self.drones[j])\n",
    "    "
   ]
  },
  {
   "cell_type": "code",
   "execution_count": 7,
   "metadata": {},
   "outputs": [],
   "source": [
    "def determine_fitness():\n",
    "    trues = 0\n",
    "    for x in range(0, len(the_map.search_points)):\n",
    "        for y in range(0, len(the_map.search_points[x])):\n",
    "              if the_map.search_points[x][y]:\n",
    "                trues += 1\n",
    "    return float(trues)/float(the_map.size)"
   ]
  },
  {
   "cell_type": "code",
   "execution_count": 8,
   "metadata": {},
   "outputs": [],
   "source": [
    "def determine_architecture(swarm):\n",
    "    coordinator = None\n",
    "    for drone in swarm.drones:\n",
    "        if coordinator == None:\n",
    "            coordinator = drone\n",
    "            rssi = 0\n",
    "        else:\n",
    "            rssi = drone_sig_strength(drone, coordinator)\n",
    "        init_rssi_table(drone, rssi, swarm.rssi_table)\n",
    "    sort_table_by_rssi(swarm.rssi_table)"
   ]
  },
  {
   "cell_type": "code",
   "execution_count": 9,
   "metadata": {},
   "outputs": [],
   "source": [
    "def init_rssi_table(node_check, rssi, rssi_table):\n",
    "    node = {}\n",
    "    node[\"node\"] = node_check\n",
    "    node[\"rssi\"] = rssi\n",
    "    rssi_table.append(node)"
   ]
  },
  {
   "cell_type": "code",
   "execution_count": 10,
   "metadata": {},
   "outputs": [],
   "source": [
    "def sort_table_by_rssi(rssi_table):\n",
    "    rssi_table.sort(key=lambda val: val[\"rssi\"])"
   ]
  },
  {
   "cell_type": "code",
   "execution_count": 11,
   "metadata": {},
   "outputs": [],
   "source": [
    "def determine_neighbors(swarm):\n",
    "    if len(swarm.rssi_table) > 1:\n",
    "        for index in range(0, len(swarm.rssi_table)):\n",
    "            node = swarm.rssi_table[index]['node']\n",
    "            if index == 0:\n",
    "                node.rely_on = None\n",
    "                node.send_to = swarm.rssi_table[index + 1]['node']\n",
    "            elif index == len(swarm.rssi_table) - 1:\n",
    "                node.rely_on = swarm.rssi_table[index - 1]['node']\n",
    "                node.send_to = None\n",
    "            else:\n",
    "                node.rely_on = swarm.rssi_table[index - 1]['node']\n",
    "                node.send_to = swarm.rssi_table[index + 1]['node']"
   ]
  },
  {
   "cell_type": "code",
   "execution_count": 12,
   "metadata": {},
   "outputs": [],
   "source": [
    "def create_starting_population(size):\n",
    "    population = []\n",
    "    \n",
    "    global num_nodes\n",
    "    for i in range(0,size):\n",
    "        population.append(create_new_member(num_drones))\n",
    "        \n",
    "    return population"
   ]
  },
  {
   "cell_type": "code",
   "execution_count": 13,
   "metadata": {},
   "outputs": [],
   "source": [
    "def create_new_member(num_drones):\n",
    "    drones = []\n",
    "    for i in range(0, num_drones):\n",
    "        drones.append(Drone())\n",
    "    member = Swarm(drones)\n",
    "    return member"
   ]
  },
  {
   "cell_type": "code",
   "execution_count": 14,
   "metadata": {},
   "outputs": [],
   "source": [
    "def plot_swarm(swarm):\n",
    "    fig, ax = plt.subplots() # note we must use plt.subplots, not plt.subplot\n",
    "    for drone in swarm.drones:\n",
    "        plt.plot(drone.x, drone.y, 'x', color='black')\n",
    "        #print(drone.x, drone.y)\n",
    "        circle1 = plt.Circle((drone.x, drone.y), drone.coverage, color = 'b', fill=False)        \n",
    "        ax.add_artist(circle1)\n",
    "\n",
    "    #fig.savefig('plotcircles.png')\n",
    "        \n",
    "    # Draws a visualization for the network connections    \n",
    "    for row in range(0, num_drones - 1):\n",
    "        for col in range(row + 1, num_drones):\n",
    "            if swarm.connectedness[row][col] == 1:\n",
    "                plt.plot([swarm.drones[row].x, swarm.drones[col].x], \n",
    "                         [swarm.drones[row].y, swarm.drones[col].y])"
   ]
  },
  {
   "cell_type": "code",
   "execution_count": 15,
   "metadata": {},
   "outputs": [],
   "source": [
    "def points_in_circle(x0, y0, radius):\n",
    "    x_ = np.arange(x0 - radius - 1, x0 + radius + 1, dtype=int)\n",
    "    y_ = np.arange(y0 - radius - 1, y0 + radius + 1, dtype=int)\n",
    "    x, y = np.where((x_[:,np.newaxis] - x0)**2 + (y_ - y0)**2 <= radius**2)\n",
    "    # x, y = np.where((np.hypot((x_-x0)[:,np.newaxis], y_-y0)<= radius)) # alternative implementation\n",
    "    for x, y in zip(x_[x], y_[y]):\n",
    "        yield x, y\n",
    "        plt.plot(x, y, '.', color='blue')"
   ]
  },
  {
   "cell_type": "code",
   "execution_count": 16,
   "metadata": {},
   "outputs": [],
   "source": [
    "class GeoMap:\n",
    "    search_points = []\n",
    "    searched_points = set()\n",
    "    def __init__(self, size):\n",
    "        self.size = size\n",
    "        self.populate_search_points()\n",
    "        \n",
    "    def draw_map(self):\n",
    "        plt.plot([0,0, self.size, self.size, 0], \n",
    "                 [0, self.size, self.size,0, 0])\n",
    "        self.disp_search_points()\n",
    "        #self.disp_searched_points()\n",
    "        \n",
    "    def disp_search_points(self):\n",
    "        for x in range(0, len(self.search_points)):\n",
    "            for y in range(0, len(self.search_points[x])):\n",
    "                if self.search_points[x][y]:\n",
    "                    plt.plot(x, y, '.', color='green')\n",
    "    \n",
    "    def disp_searched_points(self):\n",
    "        for point in self.searched_points:\n",
    "            plt.plot(point[0], point[1], '.', color='green')\n",
    "        \n",
    "    def populate_search_points(self):\n",
    "        for i in range(0, self.size + 2):\n",
    "            row = []\n",
    "            for j in range(0, self.size + 2):\n",
    "                row.append(False)\n",
    "            self.search_points.append(row)"
   ]
  },
  {
   "cell_type": "code",
   "execution_count": 17,
   "metadata": {},
   "outputs": [],
   "source": [
    "def drone_distance(drone1, drone2):\n",
    "    return math.hypot(drone2.x - drone1.x, drone2.y - drone1.y)\n",
    "\n",
    "def drone_sig_strength(drone1, drone2):\n",
    "    return 20*math.log10(1/math.pow(drone_distance(drone1, drone2),2))\n",
    "    #return 1/math.pow(drone_distance(drone1, drone2),2)\n",
    "    #return  10*2*math.log10(drone_distance(drone1, drone2)) + 1\n",
    "\n",
    "def swarm_sig_strength(swarm):\n",
    "    swarm_strength = []\n",
    "    \n",
    "    for i in range(0, num_drones):\n",
    "        for j in range(0, i):\n",
    "            if swarm.connectedness[i][j] == 1:\n",
    "                #print('Signal strength between drone ', i, ' and drone ', j, ': ', end='')\n",
    "                #print(drone_sig_strength(swarm.drones[i], swarm.drones[j]))\n",
    "                dist = drone_distance(swarm.drones[i], swarm.drones[j])\n",
    "                sig_strength = drone_sig_strength(swarm.drones[i], swarm.drones[j])\n",
    "                swarm_strength.append([[j, i], dist , sig_strength])\n",
    "    return swarm_strength"
   ]
  },
  {
   "cell_type": "code",
   "execution_count": 18,
   "metadata": {},
   "outputs": [],
   "source": [
    "def check_drone_coverage(swarm):\n",
    "    #Only check the points that are within the area that drones are searching\n",
    "    global the_map\n",
    "    min_x = the_map.size + 1\n",
    "    max_x = 0\n",
    "    min_y = the_map.size + 1\n",
    "    max_y = 0\n",
    "    for drone in swarm.drones:\n",
    "        if drone.x < min_x:\n",
    "            min_x = drone.x\n",
    "        if drone.x > max_x:\n",
    "            max_x = drone.x\n",
    "        if drone.y < min_y:\n",
    "            min_y = drone.y\n",
    "        if drone.y > max_y:\n",
    "            max_y = drone.y\n",
    "    \n",
    "        #for circle_point in points_in_circle(drone.x, drone.y, drone.coverage):\n",
    "            #the_map.searched_points.add(circle_point)\n",
    "    \n",
    "    #Check if points are within drone coverage\n",
    "    for x in range(int(min_x - drone.coverage), int(max_x + drone.coverage) + 1):\n",
    "        for y in range(int(min_y - drone.coverage), int(max_y + drone.coverage) + 1):\n",
    "            for drone in swarm.drones:\n",
    "                dist = math.sqrt(math.pow(x-drone.x, 2) + math.pow(y-drone.y, 2))\n",
    "                if dist <= drone.coverage:\n",
    "                    if x >= 0 and x <= the_map.size and y >= 0 and y <= the_map.size:\n",
    "                        the_map.search_points[x][y] = True\n",
    "\n",
    "    #print(swarm_sig_strength(swarm))\n",
    "    #print(the_map.search_points)\n",
    "        "
   ]
  },
  {
   "cell_type": "code",
   "execution_count": 19,
   "metadata": {},
   "outputs": [],
   "source": [
    "def draw_scene(swarm):\n",
    "    plot_swarm(swarm)\n",
    "    the_map.draw_map()"
   ]
  },
  {
   "cell_type": "code",
   "execution_count": 20,
   "metadata": {},
   "outputs": [],
   "source": [
    "def init():\n",
    "    global population\n",
    "    population = create_starting_population(1)\n",
    "    for swarm in population:\n",
    "        check_drone_coverage(swarm)\n",
    "        draw_scene(swarm)\n",
    "        \n",
    "    #for swarm in population:\n",
    "        #determine_architecture(swarm)\n",
    "        #determine_neighbors(swarm)"
   ]
  },
  {
   "cell_type": "code",
   "execution_count": 21,
   "metadata": {},
   "outputs": [],
   "source": [
    "def scatter():\n",
    "    for swarm in population:\n",
    "        for drone in swarm.drones:\n",
    "            for i in range(0, 1000):\n",
    "                drone.x += random.randint(-1, 1)\n",
    "                drone.y += random.randint(-1, 1)\n",
    "                #for circle_point in points_in_circle(drone.x, drone.y, drone.coverage):\n",
    "                    #print(circle_point)\n",
    "                    #the_map.searched_points.add(circle_point)\n",
    "                check_drone_coverage(swarm)\n",
    "                \n",
    "        draw_scene(swarm)\n",
    "        #print(sorted(the_map.searched_points))\n",
    "        #print(swarm_sig_strength(swarm))\n",
    "        \n",
    "        print(determine_fitness())"
   ]
  },
  {
   "cell_type": "code",
   "execution_count": 22,
   "metadata": {},
   "outputs": [],
   "source": [
    "def smart_scatter():\n",
    "    battery_life = 300\n",
    "    for i in range(0, battery_life):\n",
    "        for swarm in population:\n",
    "            for drone in swarm.drones: \n",
    "                if not drone.is_dead:\n",
    "                    if drone.x_move < 0.45:\n",
    "                        x_adj = -1\n",
    "                    elif drone.x_move >= 0.45 and drone.x_move < .55:\n",
    "                        x_adj = 0\n",
    "                    elif drone.x_move >= .55:\n",
    "                        x_adj = 1\n",
    "\n",
    "                    if drone.y_move < 0.45:\n",
    "                        y_adj = -1\n",
    "                    elif drone.y_move >= 0.45 and drone.y_move < .55:\n",
    "                        y_adj = 0\n",
    "                    elif drone.y_move >= .55:\n",
    "                        y_adj = 1\n",
    "\n",
    "                    drone.x += x_adj\n",
    "                    drone.y += y_adj\n",
    "                    #for circle_point in points_in_circle(drone.x, drone.y, drone.coverage):\n",
    "                        #print(circle_point)\n",
    "                        #the_map.searched_points.add(circle_point)\n",
    "                    check_drone_coverage(swarm)\n",
    "\n",
    "                    if drone.x < 0 or drone.x > the_map.size or drone.y < 0 or drone.y > the_map.size:\n",
    "                        drone.is_dead = True\n",
    "\n",
    "                    if drone.rely_on != None and drone_sig_strength(drone, drone.rely_on) > 30:\n",
    "                        drone.is_dead = True\n",
    "\n",
    "                    if drone.send_to != None and drone_sig_strength(drone, drone.send_to) > 30:\n",
    "                        drone.is_dead = True\n",
    "\n",
    "                    drone.neural_net_feedforward(drone.get_input_layer())\n",
    "\n",
    "    draw_scene(swarm)\n",
    "    #print(sorted(the_map.searched_points))\n",
    "    #print(swarm_sig_strength(swarm))\n",
    "\n",
    "    #print(determine_fitness())"
   ]
  },
  {
   "cell_type": "code",
   "execution_count": 23,
   "metadata": {},
   "outputs": [],
   "source": [
    "the_map = GeoMap(200)"
   ]
  },
  {
   "cell_type": "code",
   "execution_count": 24,
   "metadata": {},
   "outputs": [],
   "source": [
    "def equalize_map():\n",
    "    plt.xlim(-the_map.size*.05, the_map.size + the_map.size*.05)\n",
    "    plt.ylim(-the_map.size*.05, the_map.size + the_map.size*.05)\n",
    "    plt.gca().set_aspect('equal', adjustable='box')"
   ]
  },
  {
   "cell_type": "code",
   "execution_count": 25,
   "metadata": {
    "scrolled": true
   },
   "outputs": [
    {
     "data": {
      "image/png": "[encoded data removed]",
      "text/plain": [
       "<Figure size 432x288 with 1 Axes>"
      ]
     },
     "metadata": {
      "needs_background": "light"
     },
     "output_type": "display_data"
    }
   ],
   "source": [
    "init()\n",
    "equalize_map()"
   ]
  },
  {
   "cell_type": "code",
   "execution_count": 26,
   "metadata": {},
   "outputs": [
    {
     "ename": "ZeroDivisionError",
     "evalue": "float division by zero",
     "output_type": "error",
     "traceback": [
      "\u001b[0;31m---------------------------------------------------------------------------\u001b[0m",
      "\u001b[0;31mZeroDivisionError\u001b[0m                         Traceback (most recent call last)",
      "\u001b[0;32m<ipython-input-26-1336df987e8b>\u001b[0m in \u001b[0;36m<module>\u001b[0;34m\u001b[0m\n\u001b[0;32m----> 1\u001b[0;31m \u001b[0msmart_scatter\u001b[0m\u001b[0;34m(\u001b[0m\u001b[0;34m)\u001b[0m\u001b[0;34m\u001b[0m\u001b[0;34m\u001b[0m\u001b[0m\n\u001b[0m\u001b[1;32m      2\u001b[0m \u001b[0mequalize_map\u001b[0m\u001b[0;34m(\u001b[0m\u001b[0;34m)\u001b[0m\u001b[0;34m\u001b[0m\u001b[0;34m\u001b[0m\u001b[0m\n",
      "\u001b[0;32m<ipython-input-22-555c43334924>\u001b[0m in \u001b[0;36msmart_scatter\u001b[0;34m()\u001b[0m\n\u001b[1;32m     32\u001b[0m                         \u001b[0mdrone\u001b[0m\u001b[0;34m.\u001b[0m\u001b[0mis_dead\u001b[0m \u001b[0;34m=\u001b[0m \u001b[0;32mTrue\u001b[0m\u001b[0;34m\u001b[0m\u001b[0;34m\u001b[0m\u001b[0m\n\u001b[1;32m     33\u001b[0m \u001b[0;34m\u001b[0m\u001b[0m\n\u001b[0;32m---> 34\u001b[0;31m                     \u001b[0;32mif\u001b[0m \u001b[0mdrone\u001b[0m\u001b[0;34m.\u001b[0m\u001b[0msend_to\u001b[0m \u001b[0;34m!=\u001b[0m \u001b[0;32mNone\u001b[0m \u001b[0;32mand\u001b[0m \u001b[0mdrone_sig_strength\u001b[0m\u001b[0;34m(\u001b[0m\u001b[0mdrone\u001b[0m\u001b[0;34m,\u001b[0m \u001b[0mdrone\u001b[0m\u001b[0;34m.\u001b[0m\u001b[0msend_to\u001b[0m\u001b[0;34m)\u001b[0m \u001b[0;34m>\u001b[0m \u001b[0;36m30\u001b[0m\u001b[0;34m:\u001b[0m\u001b[0;34m\u001b[0m\u001b[0;34m\u001b[0m\u001b[0m\n\u001b[0m\u001b[1;32m     35\u001b[0m                         \u001b[0mdrone\u001b[0m\u001b[0;34m.\u001b[0m\u001b[0mis_dead\u001b[0m \u001b[0;34m=\u001b[0m \u001b[0;32mTrue\u001b[0m\u001b[0;34m\u001b[0m\u001b[0;34m\u001b[0m\u001b[0m\n\u001b[1;32m     36\u001b[0m \u001b[0;34m\u001b[0m\u001b[0m\n",
      "\u001b[0;32m<ipython-input-17-8f7e2ed329ee>\u001b[0m in \u001b[0;36mdrone_sig_strength\u001b[0;34m(drone1, drone2)\u001b[0m\n\u001b[1;32m      3\u001b[0m \u001b[0;34m\u001b[0m\u001b[0m\n\u001b[1;32m      4\u001b[0m \u001b[0;32mdef\u001b[0m \u001b[0mdrone_sig_strength\u001b[0m\u001b[0;34m(\u001b[0m\u001b[0mdrone1\u001b[0m\u001b[0;34m,\u001b[0m \u001b[0mdrone2\u001b[0m\u001b[0;34m)\u001b[0m\u001b[0;34m:\u001b[0m\u001b[0;34m\u001b[0m\u001b[0;34m\u001b[0m\u001b[0m\n\u001b[0;32m----> 5\u001b[0;31m     \u001b[0;32mreturn\u001b[0m \u001b[0;36m20\u001b[0m\u001b[0;34m*\u001b[0m\u001b[0mmath\u001b[0m\u001b[0;34m.\u001b[0m\u001b[0mlog10\u001b[0m\u001b[0;34m(\u001b[0m\u001b[0;36m1\u001b[0m\u001b[0;34m/\u001b[0m\u001b[0mmath\u001b[0m\u001b[0;34m.\u001b[0m\u001b[0mpow\u001b[0m\u001b[0;34m(\u001b[0m\u001b[0mdrone_distance\u001b[0m\u001b[0;34m(\u001b[0m\u001b[0mdrone1\u001b[0m\u001b[0;34m,\u001b[0m \u001b[0mdrone2\u001b[0m\u001b[0;34m)\u001b[0m\u001b[0;34m,\u001b[0m\u001b[0;36m2\u001b[0m\u001b[0;34m)\u001b[0m\u001b[0;34m)\u001b[0m\u001b[0;34m\u001b[0m\u001b[0;34m\u001b[0m\u001b[0m\n\u001b[0m\u001b[1;32m      6\u001b[0m     \u001b[0;31m#return 1/math.pow(drone_distance(drone1, drone2),2)\u001b[0m\u001b[0;34m\u001b[0m\u001b[0;34m\u001b[0m\u001b[0;34m\u001b[0m\u001b[0m\n\u001b[1;32m      7\u001b[0m     \u001b[0;31m#return  10*2*math.log10(drone_distance(drone1, drone2)) + 1\u001b[0m\u001b[0;34m\u001b[0m\u001b[0;34m\u001b[0m\u001b[0;34m\u001b[0m\u001b[0m\n",
      "\u001b[0;31mZeroDivisionError\u001b[0m: float division by zero"
     ]
    }
   ],
   "source": [
    "smart_scatter()\n",
    "equalize_map()"
   ]
  },
  {
   "cell_type": "code",
   "execution_count": null,
   "metadata": {},
   "outputs": [],
   "source": []
  },
  {
   "cell_type": "code",
   "execution_count": null,
   "metadata": {},
   "outputs": [],
   "source": []
  }
 ],
 "metadata": {
  "kernelspec": {
   "display_name": "Python 3",
   "language": "python",
   "name": "python3"
  },
  "language_info": {
   "codemirror_mode": {
    "name": "ipython",
    "version": 3
   },
   "file_extension": ".py",
   "mimetype": "text/x-python",
   "name": "python",
   "nbconvert_exporter": "python",
   "pygments_lexer": "ipython3",
   "version": "3.7.3"
  }
 },
 "nbformat": 4,
 "nbformat_minor": 2
}
