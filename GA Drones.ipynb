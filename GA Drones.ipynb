{
 "cells": [
  {
   "cell_type": "code",
   "execution_count": 1,
   "metadata": {},
   "outputs": [],
   "source": [
    "import numpy as np\n",
    "import random\n",
    "import copy\n",
    "import math\n",
    "\n",
    "%matplotlib inline\n",
    "import matplotlib.pyplot as plt\n",
    "plt.style.use('seaborn-whitegrid')\n",
    "\n",
    "num_drones = 2\n",
    "drone_id = 0\n",
    "population = []"
   ]
  },
  {
   "cell_type": "code",
   "execution_count": 2,
   "metadata": {},
   "outputs": [],
   "source": [
    "class Drone:\n",
    "    id = 0\n",
    "    x = 0\n",
    "    y = 0\n",
    "    coverage = 3\n",
    "    rely_on = None\n",
    "    send_to = None\n",
    "    connected_to = []\n",
    "    \n",
    "    def __init__(self):\n",
    "        global drone_id\n",
    "        self.id = drone_id\n",
    "        drone_id += 1\n",
    "        self.connected_to = []\n",
    "        self.rely_on = None\n",
    "        self.send_to = None\n",
    "        \n",
    "    def __repr__(self):\n",
    "        return str(self.id)\n",
    "    \n",
    "    def neural_net(self):\n",
    "        rely_on_sig = 1\n",
    "        print(self, \"relies on\", self.rely_on)\n",
    "        if self.rely_on != None:\n",
    "            rely_on_sig = drone_sig_strength(self, self.rely_on)\n",
    "        \n",
    "        print(self, \"sends to\", self.send_to)\n",
    "        send_to_sig = 1\n",
    "        if self.send_to != None:\n",
    "            send_to_sig = drone_sig_strength(self, self.send_to)\n",
    "        \n",
    "        in_layer = [self.x, self.y, rely_on_sig, send_to_sig]\n",
    "        out_layer_form = np.array([[0],[0],[0],[0]])\n",
    "        in_layer = np.array([in_layer])\n",
    "        nn = NeuralNetwork(in_layer, out_layer_form)\n",
    "        \n",
    "        nn.feedforward()\n",
    "        "
   ]
  },
  {
   "cell_type": "code",
   "execution_count": 3,
   "metadata": {},
   "outputs": [],
   "source": [
    "#https://towardsdatascience.com/how-to-build-your-own-neural-network-from-scratch-in-python-68998a08e4f6 \n",
    "def sigmoid(x):\n",
    "    return 2*((1.0/(1+ np.exp(-1*x)))-0.5)\n",
    "\n",
    "class NeuralNetwork:\n",
    "    def __init__(self, x, y):\n",
    "        self.input      = x\n",
    "        print(self.input)\n",
    "        self.weights1   = np.random.rand(self.input.shape[1], 3)\n",
    "        print(self.weights1)\n",
    "        self.weights2   = np.random.rand(3, 2)  \n",
    "        print(self.weights2)\n",
    "        \n",
    "        self.output = np.zeros(y.shape)\n",
    "        \n",
    "    def feedforward(self):\n",
    "        #For simplicity, biases are assumed to be zero\n",
    "        self.layer1 = sigmoid(np.dot(self.input, self.weights1))\n",
    "        ##print(self.output)"
   ]
  },
  {
   "cell_type": "code",
   "execution_count": 4,
   "metadata": {},
   "outputs": [],
   "source": [
    "def vertices_of_regpoly(n, r):\n",
    "    vertices = []\n",
    "    x = []\n",
    "    y = []\n",
    "    for i in range(0, n):\n",
    "        x.append((the_map.size / 2) + r * math.cos(2 * math.pi * i / n))\n",
    "        y.append((the_map.size / 2) + r * math.sin(2 * math.pi * i / n))\n",
    "    vertices.append(x)\n",
    "    vertices.append(y)\n",
    "    return vertices"
   ]
  },
  {
   "cell_type": "code",
   "execution_count": 5,
   "metadata": {},
   "outputs": [],
   "source": [
    "def set_init_drones(swarm):\n",
    "    xy = vertices_of_regpoly(num_drones, 2)\n",
    "    for i in range(0, len(swarm.drones)):\n",
    "        swarm.drones[i].x = xy[0][i]\n",
    "        swarm.drones[i].y = xy[1][i]"
   ]
  },
  {
   "cell_type": "code",
   "execution_count": 6,
   "metadata": {},
   "outputs": [],
   "source": [
    "class Swarm:\n",
    "    drones = []\n",
    "    connectedness = []\n",
    "    \n",
    "    def __init__(self, drones):\n",
    "        self.drones = drones\n",
    "        global drone_id\n",
    "        drone_id = 0\n",
    "        set_init_drones(self)\n",
    "        self.assign_connectedness()\n",
    "        self.assign_drone_connect()\n",
    "        self.rssi_table = []\n",
    "    \n",
    "    def assign_connectedness(self):\n",
    "        #Make the swarm's connectivity matrix\n",
    "        #This matrix is really only used for initial configuration\n",
    "        #~~~~~~~~~~~~~~~~~~~~~~~~~~~~~~~~~~~~~~~~~~~~~~~~~~~~~~~~~~\n",
    "        self.connectedness = np.zeros((len(self.drones),len(self.drones)))\n",
    "\n",
    "        #The upper traingle of a mtrix w/o diagonal is filled in with 1s\n",
    "        #the diagonal would mean drones are connected to themselves\n",
    "        #the lower triangle is just a reflection\n",
    "        #representation of the connections between drones\n",
    "        for i in range(0,len(self.drones)):\n",
    "            for j in range(0, i):\n",
    "                self.connectedness[j][i] = 1\n",
    "\n",
    "        # Ensure that each drone has at least one connection\n",
    "        for i in range(0,len(self.drones)):\n",
    "            possible_values = np.nonzero(self.connectedness[i])[0].tolist()\n",
    "            choice = random.choice(possible_values) if possible_values else -1\n",
    "            if choice != -1:\n",
    "                possible_values.remove(choice)\n",
    "            #Remaining choices have a possibility of not being connections (probability related to the number of drones)\n",
    "            for value in possible_values:\n",
    "                self.connectedness[i][value] = 0 if random.random() > 1.0/float(len(self.drones)) else 1\n",
    "\n",
    "        #reflect over diagonal axis of matrix to make symmetric matrix\n",
    "        for i in range(0,len(self.drones)):\n",
    "            for j in range(0, i):\n",
    "                self.connectedness[i][j] = self.connectedness[j][i]\n",
    "    \n",
    "    def assign_drone_connect(self):\n",
    "        #Assign list connectedness in drones\n",
    "        #~~~~~~~~~~~~~~~~~~~~~~~~~~~~~~~~~~~~~~~~~\n",
    "        for i in range(0,len(self.connectedness)):\n",
    "            for j in range(0, len(self.connectedness)):\n",
    "                if self.connectedness[i][j] == 1:\n",
    "                    self.drones[i].connected_to.append(self.drones[j])"
   ]
  },
  {
   "cell_type": "code",
   "execution_count": 7,
   "metadata": {},
   "outputs": [],
   "source": [
    "def determine_architecture(swarm):\n",
    "    coordinator = None\n",
    "    for drone in swarm.drones:\n",
    "        if coordinator == None:\n",
    "            coordinator = drone\n",
    "            rssi = 0\n",
    "        else:\n",
    "            rssi = drone_sig_strength(drone, coordinator)\n",
    "        init_rssi_table(drone, rssi, swarm.rssi_table)\n",
    "    sort_table_by_rssi(swarm.rssi_table)"
   ]
  },
  {
   "cell_type": "code",
   "execution_count": 8,
   "metadata": {},
   "outputs": [],
   "source": [
    "def init_rssi_table(node_check, rssi, rssi_table):\n",
    "    node = {}\n",
    "    node[\"node\"] = node_check\n",
    "    node[\"rssi\"] = rssi\n",
    "    rssi_table.append(node)"
   ]
  },
  {
   "cell_type": "code",
   "execution_count": 9,
   "metadata": {},
   "outputs": [],
   "source": [
    "def sort_table_by_rssi(rssi_table):\n",
    "    rssi_table.sort(key=lambda val: val[\"rssi\"])"
   ]
  },
  {
   "cell_type": "code",
   "execution_count": 10,
   "metadata": {},
   "outputs": [],
   "source": [
    "def determine_neighbors(swarm):\n",
    "    if len(swarm.rssi_table) > 1:\n",
    "        for index in range(0, len(swarm.rssi_table)):\n",
    "            node = swarm.rssi_table[index]['node']\n",
    "            if index == 0:\n",
    "                node.rely_on = None\n",
    "                node.send_to = swarm.rssi_table[index + 1]['node']\n",
    "            elif index == len(swarm.rssi_table) - 1:\n",
    "                node.rely_on = swarm.rssi_table[index - 1]['node']\n",
    "                node.send_to = None\n",
    "            else:\n",
    "                node.rely_on = swarm.rssi_table[index - 1]['node']\n",
    "                node.send_to = swarm.rssi_table[index + 1]['node']"
   ]
  },
  {
   "cell_type": "code",
   "execution_count": 11,
   "metadata": {},
   "outputs": [],
   "source": [
    "def create_starting_population(size):\n",
    "    population = []\n",
    "    \n",
    "    global num_nodes\n",
    "    for i in range(0,size):\n",
    "        population.append(create_new_member(num_drones))\n",
    "        \n",
    "    return population"
   ]
  },
  {
   "cell_type": "code",
   "execution_count": 12,
   "metadata": {},
   "outputs": [],
   "source": [
    "def create_new_member(num_drones):\n",
    "    drones = []\n",
    "    for i in range(0, num_drones):\n",
    "        drones.append(Drone())\n",
    "    member = Swarm(drones)\n",
    "    return member"
   ]
  },
  {
   "cell_type": "code",
   "execution_count": 13,
   "metadata": {},
   "outputs": [],
   "source": [
    "def plot_swarm(swarm):\n",
    "    fig, ax = plt.subplots() # note we must use plt.subplots, not plt.subplot\n",
    "    for drone in swarm.drones:\n",
    "        plt.plot(drone.x, drone.y, 'x', color='black')\n",
    "        \n",
    "        circle1 = plt.Circle((drone.x, drone.y), drone.coverage, color = 'b', fill=False)        \n",
    "        ax.add_artist(circle1)\n",
    "\n",
    "    #fig.savefig('plotcircles.png')\n",
    "        \n",
    "    # Draws a visualization for the network connections    \n",
    "    for row in range(0, num_drones - 1):\n",
    "        for col in range(row + 1, num_drones):\n",
    "            if swarm.connectedness[row][col] == 1:\n",
    "                plt.plot([swarm.drones[row].x, swarm.drones[col].x], \n",
    "                         [swarm.drones[row].y, swarm.drones[col].y])"
   ]
  },
  {
   "cell_type": "code",
   "execution_count": 14,
   "metadata": {},
   "outputs": [],
   "source": [
    "def draw_scene(swarm):\n",
    "    plot_swarm(swarm)\n",
    "    the_map.draw_map()"
   ]
  },
  {
   "cell_type": "code",
   "execution_count": 15,
   "metadata": {},
   "outputs": [],
   "source": [
    "class GeoMap:\n",
    "    search_points = []\n",
    "    def __init__(self, size):\n",
    "        self.size = size\n",
    "        self.populate_search_points()\n",
    "        \n",
    "    def draw_map(self):\n",
    "        plt.plot([0,0, self.size, self.size, 0], \n",
    "                 [0, self.size, self.size,0, 0])\n",
    "        self.disp_search_points()\n",
    "        \n",
    "    def disp_search_points(self):\n",
    "        for x in range(0, len(the_map.search_points)):\n",
    "            for y in range(0, len(the_map.search_points[x])):\n",
    "                if the_map.search_points[x][y]:\n",
    "                    plt.plot(x, y, '.', color='green')\n",
    "        \n",
    "    def populate_search_points(self):\n",
    "        for i in range(0, self.size + 2):\n",
    "            row = []\n",
    "            for j in range(0, self.size + 2):\n",
    "                row.append(False)\n",
    "            self.search_points.append(row)"
   ]
  },
  {
   "cell_type": "code",
   "execution_count": 16,
   "metadata": {},
   "outputs": [],
   "source": [
    "def drone_distance(drone1, drone2):\n",
    "    return math.hypot(drone2.x - drone1.x, drone2.y - drone1.y)\n",
    "\n",
    "def drone_sig_strength(drone1, drone2):\n",
    "    #return 20*math.log10(1/math.pow(drone_dist,2))\n",
    "    #return 1/math.pow(drone_dist,2)\n",
    "    return  10*2*math.log10(drone_distance(drone1, drone2)) + 1\n",
    "\n",
    "def swarm_sig_strength(swarm):\n",
    "    swarm_strength = []\n",
    "    \n",
    "    for i in range(0, num_drones):\n",
    "        for j in range(0, i):\n",
    "            if swarm.connectedness[i][j] == 1:\n",
    "                #print('Signal strength between drone ', i, ' and drone ', j, ': ', end='')\n",
    "                #print(drone_sig_strength(swarm.drones[i], swarm.drones[j]))\n",
    "                dist = drone_distance(swarm.drones[i], swarm.drones[j])\n",
    "                sig_strength = drone_sig_strength(swarm.drones[i], swarm.drones[j])\n",
    "                swarm_strength.append([[j, i], dist , sig_strength])\n",
    "    return swarm_strength"
   ]
  },
  {
   "cell_type": "code",
   "execution_count": 17,
   "metadata": {},
   "outputs": [],
   "source": [
    "def check_drone_coverage(swarm):\n",
    "    #Only check the points that are within the area that drones are searching\n",
    "    global the_map\n",
    "    min_x = the_map.size + 1\n",
    "    max_x = 0\n",
    "    min_y = the_map.size + 1\n",
    "    max_y = 0\n",
    "    for drone in swarm.drones:\n",
    "        if drone.x < min_x:\n",
    "            min_x = drone.x\n",
    "        if drone.x > max_x:\n",
    "            max_x = drone.x\n",
    "        if drone.y < min_y:\n",
    "            min_y = drone.y\n",
    "        if drone.y > max_y:\n",
    "            max_y = drone.y\n",
    "            \n",
    "    #Check if points are within drone coverage\n",
    "    for x in range(int(min_x - drone.coverage), int(max_x + drone.coverage) + 1):\n",
    "        for y in range(int(min_y - drone.coverage), int(max_y + drone.coverage) + 1):\n",
    "            for drone in swarm.drones:\n",
    "                dist = math.sqrt(math.pow(x-drone.x, 2) + math.pow(y-drone.y, 2))\n",
    "                if dist <= drone.coverage:\n",
    "                    if x >= 0 and x < the_map.size and y >= 0 and y < the_map.size:\n",
    "                        the_map.search_points[x][y] = True\n",
    "\n",
    "    #print(swarm_sig_strength(swarm))\n",
    "    #print(the_map.search_points)\n",
    "        "
   ]
  },
  {
   "cell_type": "code",
   "execution_count": 18,
   "metadata": {},
   "outputs": [],
   "source": [
    "def init():\n",
    "    global population\n",
    "    population = create_starting_population(1)\n",
    "    for swarm in population:\n",
    "        plot_swarm(swarm)\n",
    "        check_drone_coverage(swarm)\n",
    "        the_map.draw_map() \n",
    "        \n",
    "    for swarm in population:\n",
    "        determine_architecture(swarm)\n",
    "        determine_neighbors(swarm)\n",
    "        \n",
    "        "
   ]
  },
  {
   "cell_type": "code",
   "execution_count": 19,
   "metadata": {},
   "outputs": [],
   "source": [
    "def scatter():\n",
    "    for swarm in population:\n",
    "        for drone in swarm.drones:\n",
    "            for i in range(0, 1000):\n",
    "                drone.x += random.random() - .5\n",
    "                drone.y += random.random() - .5\n",
    "                check_drone_coverage(swarm)\n",
    "        draw_scene(swarm)\n",
    "        \n",
    "\n",
    "        print(swarm_sig_strength(swarm))"
   ]
  },
  {
   "cell_type": "code",
   "execution_count": 20,
   "metadata": {},
   "outputs": [],
   "source": [
    "the_map = GeoMap(50)"
   ]
  },
  {
   "cell_type": "code",
   "execution_count": 21,
   "metadata": {},
   "outputs": [],
   "source": [
    "def equalize_map():\n",
    "    plt.xlim(-the_map.size*.05, the_map.size + the_map.size*.05)\n",
    "    plt.ylim(-the_map.size*.05, the_map.size + the_map.size*.05)\n",
    "    plt.gca().set_aspect('equal', adjustable='box')"
   ]
  },
  {
   "cell_type": "code",
   "execution_count": 22,
   "metadata": {},
   "outputs": [
    {
     "data": {
      "image/png": "[encoded data removed]",
      "text/plain": [
       "<Figure size 432x288 with 1 Axes>"
      ]
     },
     "metadata": {
      "needs_background": "light"
     },
     "output_type": "display_data"
    }
   ],
   "source": [
    "init()\n",
    "\n",
    "equalize_map()"
   ]
  },
  {
   "cell_type": "code",
   "execution_count": 23,
   "metadata": {
    "scrolled": true
   },
   "outputs": [
    {
     "name": "stdout",
     "output_type": "stream",
     "text": [
      "[[[0, 1], 14.567708582408535, 24.26782490186882]]\n"
     ]
    },
    {
     "data": {
      "image/png": "[encoded data removed]",
      "text/plain": [
       "<Figure size 432x288 with 1 Axes>"
      ]
     },
     "metadata": {
      "needs_background": "light"
     },
     "output_type": "display_data"
    }
   ],
   "source": [
    "scatter()\n",
    "equalize_map()"
   ]
  },
  {
   "cell_type": "code",
   "execution_count": 24,
   "metadata": {},
   "outputs": [
    {
     "name": "stdout",
     "output_type": "stream",
     "text": [
      "0 relies on None\n",
      "0 sends to 1\n",
      "[[28.51336451 20.30851571  1.         24.2678249 ]]\n",
      "[[0.36200397 0.40110698 0.45198124]\n",
      " [0.07501651 0.0050844  0.71578262]\n",
      " [0.84081004 0.80879073 0.04258047]\n",
      " [0.021947   0.06872289 0.7589073 ]]\n",
      "[[0.58796682 0.18680437]\n",
      " [0.15500223 0.15901905]\n",
      " [0.733158   0.44504467]]\n",
      "[[0.99999637 0.99999836 1.        ]]\n",
      "[[0.62797304 0.37603499]]\n",
      "\n",
      "1 relies on 0\n",
      "1 sends to None\n",
      "[[24.10805231 34.19416866 24.2678249   1.        ]]\n",
      "[[0.98948304 0.12696061 0.43655821]\n",
      " [0.58296462 0.7344409  0.74887595]\n",
      " [0.38386624 0.61017751 0.52937701]\n",
      " [0.13739054 0.23279995 0.72185905]]\n",
      "[[0.75599991 0.62576654]\n",
      " [0.85952111 0.12411716]\n",
      " [0.55055886 0.96663835]]\n",
      "[[1. 1. 1.]]\n",
      "[[0.7943237  0.69536063]]\n",
      "\n"
     ]
    }
   ],
   "source": [
    "for swarm in population:\n",
    "    for drone in swarm.drones:\n",
    "        drone.neural_net()\n",
    "        print()\n"
   ]
  },
  {
   "cell_type": "code",
   "execution_count": null,
   "metadata": {},
   "outputs": [],
   "source": []
  },
  {
   "cell_type": "code",
   "execution_count": null,
   "metadata": {},
   "outputs": [],
   "source": []
  }
 ],
 "metadata": {
  "kernelspec": {
   "display_name": "Python 3",
   "language": "python",
   "name": "python3"
  },
  "language_info": {
   "codemirror_mode": {
    "name": "ipython",
    "version": 3
   },
   "file_extension": ".py",
   "mimetype": "text/x-python",
   "name": "python",
   "nbconvert_exporter": "python",
   "pygments_lexer": "ipython3",
   "version": "3.7.3"
  }
 },
 "nbformat": 4,
 "nbformat_minor": 2
}
