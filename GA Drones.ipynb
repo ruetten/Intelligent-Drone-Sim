{
 "cells": [
  {
   "cell_type": "code",
   "execution_count": 1,
   "metadata": {},
   "outputs": [],
   "source": [
    "import numpy as np\n",
    "import random\n",
    "import copy\n",
    "import math\n",
    "\n",
    "%matplotlib inline\n",
    "import matplotlib.pyplot as plt\n",
    "plt.style.use('seaborn-whitegrid')\n",
    "\n",
    "num_drones = 8\n",
    "drone_id = 0\n",
    "population = []\n",
    "the_map = None"
   ]
  },
  {
   "cell_type": "code",
   "execution_count": 2,
   "metadata": {},
   "outputs": [],
   "source": [
    "class Drone:\n",
    "    id = 0\n",
    "    x = 0\n",
    "    y = 0\n",
    "    rely_on = []\n",
    "    def __init__(self):\n",
    "        global drone_id\n",
    "        self.id = drone_id\n",
    "        drone_id += 1\n",
    "        self.rely_on = []\n",
    "        "
   ]
  },
  {
   "cell_type": "code",
   "execution_count": 3,
   "metadata": {},
   "outputs": [],
   "source": [
    "def vertices_of_regpoly(n, r):\n",
    "    vertices = []\n",
    "    x = []\n",
    "    y = []\n",
    "    for i in range(0, n):\n",
    "        x.append(r * math.cos(2 * math.pi * i / n))\n",
    "        y.append(r * math.sin(2 * math.pi * i / n))\n",
    "    vertices.append(x)\n",
    "    vertices.append(y)\n",
    "    return vertices"
   ]
  },
  {
   "cell_type": "code",
   "execution_count": 4,
   "metadata": {},
   "outputs": [],
   "source": [
    "def set_init_drones(swarm):\n",
    "    xy = vertices_of_regpoly(num_drones, 1)\n",
    "    for i in range(0, len(swarm.drones)):\n",
    "        swarm.drones[i].x = xy[0][i]\n",
    "        swarm.drones[i].y = xy[1][i]"
   ]
  },
  {
   "cell_type": "code",
   "execution_count": 5,
   "metadata": {},
   "outputs": [],
   "source": [
    "class Swarm:\n",
    "    drones = []\n",
    "    connectedness = []\n",
    "    def __init__(self, drones):\n",
    "        self.drones = drones\n",
    "        self.connectedness = assign_connectedness(drones)\n",
    "        global drone_id\n",
    "        drone_id = 0\n",
    "        set_init_drones(self)\n",
    "        \n",
    "  "
   ]
  },
  {
   "cell_type": "code",
   "execution_count": 6,
   "metadata": {},
   "outputs": [],
   "source": [
    "def assign_connectedness(drones):\n",
    "    connectedness = np.zeros((len(drones),len(drones)))\n",
    "    \n",
    "    #The upper traingle of a mtrix w/o diagonal is filled in with 1s\n",
    "    #the diagonal would mean drones are connected to themselves\n",
    "    #the lower triangle is just a reflection\n",
    "    #representation of the connections between drones\n",
    "    for i in range(0,len(drones)):\n",
    "        for j in range(0, i):\n",
    "            connectedness[j][i] = 1 #if random.random() > 0.5 else 0\n",
    "            #connectedness[i][j] = connectedness[j][i]\n",
    "           \n",
    "    # Ensure that each drone has at least one connection\n",
    "    for i in range(0,len(drones)):\n",
    "        possible_values = np.nonzero(connectedness[i])[0].tolist()\n",
    "        choice = random.choice(possible_values) if possible_values else -1\n",
    "        if choice != -1:\n",
    "            possible_values.remove(choice)\n",
    "        #Remaining choices have a possibility of not being connections (probability related to the number of drones)\n",
    "        for value in possible_values:\n",
    "            connectedness[i][value] = 0 if random.random() > 1.0/float(len(drones)) else 1\n",
    "\n",
    "    #reflect over diagonal axis of matrix to make symmetric matrix\n",
    "    for i in range(0,len(drones)):\n",
    "        for j in range(0, i):\n",
    "            connectedness[i][j] = connectedness[j][i]\n",
    "    \n",
    "    for i in range(0,len(drones)):\n",
    "        for j in range(0, len(drones)):\n",
    "            if connectedness[i][j] == 1:\n",
    "                drones[i].rely_on.append(j)\n",
    "            \n",
    "    return connectedness\n",
    "     "
   ]
  },
  {
   "cell_type": "code",
   "execution_count": 7,
   "metadata": {},
   "outputs": [],
   "source": [
    "def create_starting_population(size):\n",
    "    population = []\n",
    "    \n",
    "    global num_nodes\n",
    "    for i in range(0,size):\n",
    "        population.append(create_new_member(num_drones))\n",
    "        \n",
    "    return population"
   ]
  },
  {
   "cell_type": "code",
   "execution_count": 8,
   "metadata": {},
   "outputs": [],
   "source": [
    "def create_new_member(num_drones):\n",
    "    drones = []\n",
    "    for i in range(0, num_drones):\n",
    "        drones.append(Drone())\n",
    "    member = Swarm(drones)\n",
    "    return member"
   ]
  },
  {
   "cell_type": "code",
   "execution_count": 9,
   "metadata": {},
   "outputs": [],
   "source": [
    "def plot_swarm(swarm):\n",
    "    fig, ax = plt.subplots() # note we must use plt.subplots, not plt.subplot\n",
    "    for drone in swarm.drones:\n",
    "        plt.plot(drone.x, drone.y, 'x', color='black')\n",
    "        \n",
    "        circle1 = plt.Circle((drone.x, drone.y), 10, color = 'b', fill=False)        \n",
    "        ax.add_artist(circle1)\n",
    "\n",
    "    #fig.savefig('plotcircles.png')\n",
    "        \n",
    "    for row in range(0, num_drones - 1):\n",
    "        for col in range(row + 1, num_drones):\n",
    "            if swarm.connectedness[row][col] == 1:\n",
    "                plt.plot([swarm.drones[row].x, swarm.drones[col].x], \n",
    "                         [swarm.drones[row].y, swarm.drones[col].y])"
   ]
  },
  {
   "cell_type": "code",
   "execution_count": 120,
   "metadata": {},
   "outputs": [],
   "source": [
    "class GeoMap:\n",
    "    search_points = []\n",
    "    def __init__(self, size):\n",
    "        self.size = size\n",
    "        self.draw_map()\n",
    "        self.populate_search_points()\n",
    "        \n",
    "    def draw_map(self):\n",
    "        map_size = self.size / 2\n",
    "        plt.plot([-map_size,-map_size, map_size, map_size, -map_size], \n",
    "                 [-map_size, map_size, map_size,-map_size, -map_size])\n",
    "        \n",
    "    def populate_search_points(self):\n",
    "        for i in range(-int(self.size/2), int(self.size/2)):\n",
    "            for j in range(-int(self.size/2), int(self.size/2)):\n",
    "                self.search_points.append([i,j, False])"
   ]
  },
  {
   "cell_type": "code",
   "execution_count": 121,
   "metadata": {},
   "outputs": [],
   "source": [
    "def drone_distance(drone1, drone2):\n",
    "    return math.hypot(drone2.x - drone1.x, drone2.y - drone1.y)\n",
    "\n",
    "def drone_sig_strength(drone_dist):\n",
    "    return 1/math.pow(drone_dist,2)\n",
    "\n",
    "def swarm_sig_strength(swarm):\n",
    "    swarm_strength = []\n",
    "    \n",
    "    for i in range(0, num_drones):\n",
    "        for j in range(0, i):\n",
    "            if swarm.connectedness[i][j] == 1:\n",
    "                #print('Signal strength between drone ', i, ' and drone ', j, ': ', end='')\n",
    "                #print(drone_sig_strength(swarm.drones[i], swarm.drones[j]))\n",
    "                dist = drone_distance(swarm.drones[i], swarm.drones[j])\n",
    "                swarm_strength.append([[j, i], dist , drone_sig_strength(dist)])\n",
    "    return swarm_strength"
   ]
  },
  {
   "cell_type": "code",
   "execution_count": 122,
   "metadata": {},
   "outputs": [],
   "source": [
    "#https://towardsdatascience.com/how-to-build-your-own-neural-network-from-scratch-in-python-68998a08e4f6 \n",
    "def sigmoid(x):\n",
    "    return 2*((1.0/(1+ np.exp(-1*x)))-0.5)\n",
    "\n",
    "class NeuralNetwork:\n",
    "    def __init__(self, x, y):\n",
    "        self.input      = x\n",
    "        print(self.input)\n",
    "        self.weights1   = np.random.rand(self.input.shape[1], 3)\n",
    "        print(self.weights1)\n",
    "        self.weights2   = np.random.rand(3, 2)  \n",
    "        print(self.weights2)\n",
    "        \n",
    "        self.output = np.zeros(y.shape)\n",
    "        \n",
    "    def feedforward(self):\n",
    "        #For simplicity, biases are assumed to be zero\n",
    "        self.layer1 = sigmoid(np.dot(self.input, self.weights1))\n",
    "        print(self.layer1)\n",
    "        self.output = sigmoid(np.dot(self.layer1, self.weights2))\n",
    "        print(self.output)"
   ]
  },
  {
   "cell_type": "code",
   "execution_count": 123,
   "metadata": {},
   "outputs": [],
   "source": [
    "def init():\n",
    "    global population\n",
    "    population = create_starting_population(1)\n",
    "    for swarm in population:\n",
    "        plot_swarm(swarm)\n",
    "        global the_map\n",
    "        the_map = GeoMap(100)\n",
    "\n",
    "        print(swarm_sig_strength(swarm))\n",
    "        "
   ]
  },
  {
   "cell_type": "code",
   "execution_count": 124,
   "metadata": {},
   "outputs": [],
   "source": [
    "def scatter():\n",
    "    for swarm in population:\n",
    "        for drone in swarm.drones:\n",
    "            for i in range(0, 3000):\n",
    "                drone.x += random.random() - .5\n",
    "                drone.y += random.random() - .5\n",
    "        plot_swarm(swarm)\n",
    "        the_map.draw_map()\n",
    "        \n",
    "\n",
    "        print(swarm_sig_strength(swarm))"
   ]
  },
  {
   "cell_type": "code",
   "execution_count": 125,
   "metadata": {
    "scrolled": true
   },
   "outputs": [
    {
     "name": "stdout",
     "output_type": "stream",
     "text": [
      "[[[1, 2], 0.7653668647301795, 1.707106781186548], [[0, 3], 1.8477590650225735, 0.2928932188134525], [[0, 4], 2.0, 0.25], [[0, 5], 1.8477590650225737, 0.2928932188134524], [[1, 5], 2.0, 0.25], [[2, 5], 1.8477590650225735, 0.2928932188134525], [[4, 5], 0.7653668647301796, 1.7071067811865475], [[4, 6], 1.4142135623730951, 0.4999999999999999], [[2, 7], 1.8477590650225737, 0.2928932188134524], [[3, 7], 2.0, 0.25], [[5, 7], 1.414213562373095, 0.5000000000000001], [[6, 7], 0.7653668647301796, 1.7071067811865475]]\n"
     ]
    },
    {
     "data": {
      "image/png": "[encoded data removed]",
      "text/plain": [
       "<Figure size 432x288 with 1 Axes>"
      ]
     },
     "metadata": {
      "needs_background": "light"
     },
     "output_type": "display_data"
    }
   ],
   "source": [
    "init()"
   ]
  },
  {
   "cell_type": "code",
   "execution_count": 126,
   "metadata": {},
   "outputs": [
    {
     "name": "stdout",
     "output_type": "stream",
     "text": [
      "[[[1, 2], 36.82103005120173, 0.0007375783032685616], [[0, 3], 22.11772071887346, 0.002044180589725969], [[0, 4], 40.685316762952226, 0.0006041219238495396], [[0, 5], 58.40988041309578, 0.0002931077933066666], [[1, 5], 81.72856512133994, 0.00014971049679998695], [[2, 5], 63.46207607598403, 0.0002482969868418958], [[4, 5], 41.14307892000629, 0.0005907536620300802], [[4, 6], 28.193413554742307, 0.001258069623612479], [[2, 7], 24.907762204416418, 0.0016118721007418756], [[3, 7], 18.890074626525095, 0.0028024163153469845], [[5, 7], 38.90089721659528, 0.0006608163256970011], [[6, 7], 29.165600833582424, 0.001175596121773957]]\n"
     ]
    },
    {
     "data": {
      "image/png": "[encoded data removed]",
      "text/plain": [
       "<Figure size 432x288 with 1 Axes>"
      ]
     },
     "metadata": {
      "needs_background": "light"
     },
     "output_type": "display_data"
    }
   ],
   "source": [
    "scatter()"
   ]
  },
  {
   "cell_type": "code",
   "execution_count": 127,
   "metadata": {},
   "outputs": [
    {
     "name": "stdout",
     "output_type": "stream",
     "text": [
      "[[ -1   4  -2  30 -90]]\n",
      "[[0.08236552 0.93708088 0.38459756]\n",
      " [0.92448329 0.75500363 0.82917112]\n",
      " [0.30124923 0.79601001 0.89499461]\n",
      " [0.18817306 0.29696224 0.73411885]\n",
      " [0.53167319 0.21126382 0.33660875]]\n",
      "[[0.82618194 0.44255314]\n",
      " [0.71572768 0.11609051]\n",
      " [0.80457198 0.46236001]]\n"
     ]
    }
   ],
   "source": [
    "x = [-1 , 4 , -2, 30, -90]\n",
    "y = np.array([[0],[0],[0],[0]])\n",
    "input = np.array([x])\n",
    "nn = NeuralNetwork(input, y)\n"
   ]
  },
  {
   "cell_type": "code",
   "execution_count": 128,
   "metadata": {},
   "outputs": [
    {
     "name": "stdout",
     "output_type": "stream",
     "text": [
      "[[-1.         -0.99986643 -0.99839844]]\n",
      "[[-0.82508751 -0.47004168]]\n"
     ]
    }
   ],
   "source": [
    "nn.feedforward()"
   ]
  },
  {
   "cell_type": "code",
   "execution_count": null,
   "metadata": {},
   "outputs": [],
   "source": []
  },
  {
   "cell_type": "code",
   "execution_count": null,
   "metadata": {},
   "outputs": [],
   "source": []
  },
  {
   "cell_type": "code",
   "execution_count": null,
   "metadata": {},
   "outputs": [],
   "source": []
  }
 ],
 "metadata": {
  "kernelspec": {
   "display_name": "Python 3",
   "language": "python",
   "name": "python3"
  },
  "language_info": {
   "codemirror_mode": {
    "name": "ipython",
    "version": 3
   },
   "file_extension": ".py",
   "mimetype": "text/x-python",
   "name": "python",
   "nbconvert_exporter": "python",
   "pygments_lexer": "ipython3",
   "version": "3.7.3"
  }
 },
 "nbformat": 4,
 "nbformat_minor": 2
}
