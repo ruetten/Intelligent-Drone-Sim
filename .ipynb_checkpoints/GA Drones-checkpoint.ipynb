{
 "cells": [
  {
   "cell_type": "code",
   "execution_count": 1,
   "metadata": {},
   "outputs": [],
   "source": [
    "import numpy as np\n",
    "import random\n",
    "import copy\n",
    "import math\n",
    "import datetime\n",
    "\n",
    "%matplotlib inline\n",
    "import matplotlib.pyplot as plt\n",
    "plt.style.use('seaborn-whitegrid')\n",
    "\n",
    "fittest_swarm = None\n",
    "num_drones = 1\n",
    "drone_id = 0\n",
    "population = []\n",
    "map_length = 100\n",
    "map_width = 100\n",
    "generations = 1000\n",
    "battery_life = 10000\n",
    "members_per_generation = 5"
   ]
  },
  {
   "cell_type": "code",
   "execution_count": 2,
   "metadata": {},
   "outputs": [],
   "source": [
    "# Class to represent a drone.\n",
    "# id - drone's numerical ID\n",
    "# x, y - coordinates of where the drone is\n",
    "# x_move, y_move - the outputs of the neural network that control the direction the drones move\n",
    "# coverage - the radius of the circular search area that the drone covers\n",
    "# rely_on - the drone that self relies on for positioning. If the signal with this drone is too weak, self \"dies\"\n",
    "# send_to - the drone that relies on self for positioning\n",
    "# connected_to - list of drones that self is connected to\n",
    "# is_alive - \"alive\" (True) when self is close enough to rely_on for signal, \"dead\" (False) otherwise\n",
    "# nn - the neural network of this drone\n",
    "class Drone:\n",
    "    id = 0\n",
    "    x = 0\n",
    "    y = 0\n",
    "    x_move = 0\n",
    "    y_move = 0\n",
    "    unsearched_N = 0\n",
    "    unsearched_S = 0\n",
    "    unsearched_W = 0\n",
    "    unsearched_E = 0\n",
    "    coverage = 3\n",
    "    rely_on = None\n",
    "    send_to = None\n",
    "    connected_to = []\n",
    "    is_alive = True\n",
    "    nn = None\n",
    "    swarm = None # drone knows what swarm it belongs to\n",
    "    \n",
    "    # Initialize self variables\n",
    "    def __init__(self):\n",
    "        # Assign self id\n",
    "        global drone_id\n",
    "        self.id = drone_id\n",
    "        drone_id += 1\n",
    "        \n",
    "        # Instantiate other self vars\n",
    "        self.connected_to = []\n",
    "        self.rely_on = None\n",
    "        self.send_to = None\n",
    "        self.nn = None\n",
    "        self.swarm = None\n",
    "        \n",
    "        self.unsearched_N = 1\n",
    "        self.unsearched_S = 1\n",
    "        self.unsearched_W = 1\n",
    "        self.unsearched_E = 1\n",
    "        \n",
    "    # When printing drone object, it prints the drone's numerical id\n",
    "    def __repr__(self):\n",
    "        return str(self.id)\n",
    "    \n",
    "    # Create and initialize the neural network\n",
    "    def neural_init(self):\n",
    "        self.nn = NeuralNetwork(self.get_input_layer())\n",
    "    \n",
    "    # Interprets what the input layer for the neural network should be at the time the func is called\n",
    "    def get_input_layer(self):\n",
    "        # Gets the signal strength between important drone connections. -1 if connection doesn't exist\n",
    "        rely_on_sig = -1\n",
    "        #print(self, \"relies on\", self.rely_on)\n",
    "        if self.rely_on != None:\n",
    "            rely_on_sig = drone_sig_strength(self, self.rely_on)\n",
    "        \n",
    "        #print(self, \"sends to\", self.send_to)\n",
    "        send_to_sig = -1\n",
    "        if self.send_to != None:\n",
    "            send_to_sig = drone_sig_strength(self, self.send_to)\n",
    "        \n",
    "        self.sense_surroundings()\n",
    "        \n",
    "        # Assembles the input layer using variables.\n",
    "        in_layer = [self.x, self.y, rely_on_sig, send_to_sig, self.x_move, self.y_move, self.unsearched_N*50, self.unsearched_S*50, self.unsearched_E*50, self.unsearched_W*50]\n",
    "        #in_layer = [self.x, self.y, rely_on_sig, send_to_sig, self.x_move, self.y_move]\n",
    "        #in_layer = [sigmoid(self.x*5), sigmoid(self.y*5), sigmoid(rely_on_sig), sigmoid(send_to_sig), self.x_move, self.y_move]\n",
    "        #out_layer_form = np.array([[0],[0],[0],[0]])\n",
    "        in_layer = np.array([in_layer])\n",
    "        #self.nn = NeuralNetwork(in_layer, out_layer_form)\n",
    "        return in_layer\n",
    "    \n",
    "    # Feedforward the neural network. aka Find the output layer given an input_layer\n",
    "    # Get input layer from get_input_layer()\n",
    "    def neural_net_feedforward(self, input_layer):\n",
    "        #print(input_layer)\n",
    "        movement = self.nn.feedforward(input_layer)\n",
    "        #print(self, movement)\n",
    "        self.x_move = movement[0][0]\n",
    "        self.y_move = movement[0][1]\n",
    "        \n",
    "    def sense_surroundings(self):\n",
    "        sense = self.coverage + 1\n",
    "        if int(self.x) + sense <= self.swarm.the_map.length and not self.swarm.the_map.search_points[int(self.x) + sense][int(self.y)][0]:\n",
    "            self.unsearched_E = 1\n",
    "        else:\n",
    "            self.unsearched_E = 0\n",
    "            \n",
    "        if int(self.x) - sense >= 0 and not self.swarm.the_map.search_points[int(self.x) - sense][int(self.y)][0]:\n",
    "            self.unsearched_W = 1\n",
    "        else:\n",
    "            self.unsearched_W = 0\n",
    "            \n",
    "        if int(self.y) + sense <= self.swarm.the_map.width and not self.swarm.the_map.search_points[int(self.x)][int(self.y) + sense][0]:\n",
    "            self.unsearched_N = 1\n",
    "        else:\n",
    "            self.unsearched_N = 0\n",
    "            \n",
    "        if int(self.y) - sense >= 0 and not self.swarm.the_map.search_points[int(self.x)][int(self.y) - sense][0]:\n",
    "            self.unsearched_S = 1\n",
    "        else:\n",
    "            self.unsearched_S = 0"
   ]
  },
  {
   "cell_type": "code",
   "execution_count": 3,
   "metadata": {},
   "outputs": [],
   "source": [
    "# Function to turn any number into a number between 0 and 1\n",
    "# Use a sine function because other functions didn't have enough variation in the output\n",
    "# https://towardsdatascience.com/how-to-build-your-own-neural-network-from-scratch-in-python-68998a08e4f6 \n",
    "def sigmoid(x):\n",
    "    #print(x, '\\n')\n",
    "    #return 2*((1.0/(1+ np.exp(-0.5*(x-1)))-0.5))\n",
    "    return (np.sin(x)+1)*.5\n",
    "    #return ((np.tanh(.05*(x-50))+1)*.5)\n",
    "\n",
    "# Neural network class\n",
    "class NeuralNetwork:\n",
    "    # Weights between layers are randomly created\n",
    "    def __init__(self, x):\n",
    "        self.input      = x\n",
    "        # 4 layers, 6 -> 4 -> 8 -> 2\n",
    "        self.weights = [None] * 3\n",
    "        self.weights[0]   = np.random.rand(self.input.shape[1], 4)\n",
    "        self.weights[1]   = np.random.rand(4, 7)  \n",
    "        self.weights[2]   = np.random.rand(7, 2)  \n",
    "        \n",
    "        #self.output = np.zeros(y.shape)\n",
    "    \n",
    "    # Input layer is fedforward through the nn and output layer is calculated\n",
    "    def feedforward(self, input_layer):\n",
    "        self.hidden_layers = [None] * 2\n",
    "        #For simplicity, biases are assumed to be zero\n",
    "        self.hidden_layers[0] = sigmoid(np.dot(input_layer, self.weights[0]))\n",
    "        self.hidden_layers[1] = sigmoid(np.dot(self.hidden_layers[0], self.weights[1]))\n",
    "        self.output = sigmoid(np.dot(self.hidden_layers[1], self.weights[2]))\n",
    "        #print(self.output)\n",
    "        return self.output"
   ]
  },
  {
   "cell_type": "code",
   "execution_count": 4,
   "metadata": {},
   "outputs": [],
   "source": [
    "# used to get starting points for drones.\n",
    "# n - number of drones/points\n",
    "# r - radius of polygon/how far spread out they should be\n",
    "# map_size - the size of the map the points will be plotted on (to put tha points in the center)\n",
    "# returns - vertices, which is a 2 element long array. \n",
    "#    Element [0] is an array of all the x-component of points\n",
    "#    Element [1] is an array of all the y-component of points\n",
    "#    The same indices in each x and y list represent different components of the same point\n",
    "#    Example: point 2's x value is at x[2] and the y value is at y[2]\n",
    "def vertices_of_regpoly(n, r, map_length, map_width):\n",
    "    vertices = []\n",
    "    x = []\n",
    "    y = []\n",
    "    for i in range(0, n):\n",
    "        #x.append(( map_length / 2) + r * math.cos(2 * math.pi * i / n))\n",
    "        #y.append(( map_width / 2) + r * math.sin(2 * math.pi * i / n))\n",
    "        x.append(3 + r * math.cos(2 * math.pi * i / n))\n",
    "        y.append(3 + r * math.sin(2 * math.pi * i / n))\n",
    "    vertices.append(x)\n",
    "    vertices.append(y)\n",
    "    return vertices"
   ]
  },
  {
   "cell_type": "code",
   "execution_count": 5,
   "metadata": {},
   "outputs": [],
   "source": [
    "# Set each drone's initial locations to the drone's self.x and self.y values\n",
    "def set_init_drones(swarm):\n",
    "    xy = vertices_of_regpoly(num_drones, 2, swarm.the_map.length, swarm.the_map.width)\n",
    "    for i in range(0, len(swarm.drones)):\n",
    "        swarm.drones[i].x = xy[0][i]\n",
    "        swarm.drones[i].y = xy[1][i]\n",
    "        swarm.drones[i].x_move = 0\n",
    "        swarm.drones[i].y_move = 0\n",
    "        swarm.drones[i].is_alive = True\n",
    "        swarm.drones[i].swarm = swarm"
   ]
  },
  {
   "cell_type": "code",
   "execution_count": 6,
   "metadata": {},
   "outputs": [],
   "source": [
    "# The swarm class is a collection of drones\n",
    "# It is also the \"organism\" unit of the population list, used in the Genetic Algorithm component of the program\n",
    "# drones - list of drones in the population\n",
    "# connectedness - matrix representing how the drones are connected to each other\n",
    "class Swarm:\n",
    "    drones = []\n",
    "    connectedness = []\n",
    "    fitness = 0\n",
    "    battery_life = 0 # simulates a time limit to search an area\n",
    "    battery_left = 0\n",
    "    \n",
    "    # Initialize the swarm\n",
    "    def __init__(self, drones, map_length, map_width):\n",
    "        global battery_life\n",
    "        self.battery_life = battery_life\n",
    "        self.battery_left = self.battery_life\n",
    "        self.fitness = 0\n",
    "        self.the_map = GeoMap(map_length, map_width) # The map to search\n",
    "        self.drones = drones # the list of drones\n",
    "        global drone_id # Reset the drone id counter for every swarm \n",
    "        drone_id = 0\n",
    "        set_init_drones(self) # Set each drone's initial locations\n",
    "        self.assign_connectedness()\n",
    "        self.assign_drone_connect()\n",
    "        self.rssi_table = []\n",
    "        determine_architecture(self)\n",
    "        determine_neighbors(self)\n",
    "        for drone in self.drones:\n",
    "            drone.neural_init()\n",
    "    \n",
    "    def __repr__(self):\n",
    "        return str(self.fitness)\n",
    "    \n",
    "    def reset(self):\n",
    "        self.battery_left = self.battery_life\n",
    "        self.fitness = 0\n",
    "        self.the_map = GeoMap(map_length, map_width) # The map to search\n",
    "        set_init_drones(self) # Set each drone's initial locations\n",
    "            \n",
    "    # Randomly assign how the drones are connected to each other\n",
    "    def assign_connectedness(self):\n",
    "        #Make the swarm's connectivity matrix\n",
    "        #This matrix is really only used for initial configuration\n",
    "        #~~~~~~~~~~~~~~~~~~~~~~~~~~~~~~~~~~~~~~~~~~~~~~~~~~~~~~~~~~\n",
    "        self.connectedness = np.zeros((len(self.drones),len(self.drones)))\n",
    "\n",
    "        #The upper traingle of a mtrix w/o diagonal is filled in with 1s\n",
    "        #the diagonal would mean drones are connected to themselves\n",
    "        #the lower triangle is just a reflection\n",
    "        #representation of the connections between drones\n",
    "        for i in range(0,len(self.drones)):\n",
    "            for j in range(0, i):\n",
    "                self.connectedness[j][i] = 1\n",
    "\n",
    "        # Ensure that each drone has at least one connection\n",
    "        for i in range(0,len(self.drones)):\n",
    "            possible_values = np.nonzero(self.connectedness[i])[0].tolist()\n",
    "            choice = random.choice(possible_values) if possible_values else -1\n",
    "            if choice != -1:\n",
    "                possible_values.remove(choice)\n",
    "            #Remaining choices have a possibility of not being connections (probability related to the number of drones)\n",
    "            for value in possible_values:\n",
    "                self.connectedness[i][value] = 0 if random.random() > 1.0/float(len(self.drones)) else 1\n",
    "\n",
    "        #reflect over diagonal axis of matrix to make symmetric matrix\n",
    "        for i in range(0,len(self.drones)):\n",
    "            for j in range(0, i):\n",
    "                self.connectedness[i][j] = self.connectedness[j][i]\n",
    "    \n",
    "    # After the swarm's connectedness is determines, each drone is told which drones it is connected to\n",
    "    def assign_drone_connect(self):\n",
    "        #Assign list connectedness in drones\n",
    "        #~~~~~~~~~~~~~~~~~~~~~~~~~~~~~~~~~~~~~~~~~\n",
    "        for i in range(0,len(self.connectedness)):\n",
    "            for j in range(0, len(self.connectedness)):\n",
    "                if self.connectedness[i][j] == 1:\n",
    "                    self.drones[i].connected_to.append(self.drones[j])\n",
    "    \n",
    "    # Determine the fitness of the swarm for purposes of evolution\n",
    "    # Fitness is determined by how much of the map the swarm could cover in its battery life\n",
    "    #def determine_fitness(self):\n",
    "        #num_points_searched = 0\n",
    "        #for x in range(0, len(self.the_map.search_points)):\n",
    "            #for y in range(0, len(self.the_map.search_points[x])):\n",
    "                  #if self.the_map.search_points[x][y]:\n",
    "                    #num_points_searched += 1\n",
    "        #fitness = float(num_points_searched)/float(self.the_map.size)\n",
    "        #return fitness\n",
    "        #return float(num_points_searched)/float(self.the_map.size)\n",
    "    \n",
    "    def search_percentage(self):\n",
    "        return float(self.fitness)/float(self.the_map.get_total_points()) * 100"
   ]
  },
  {
   "cell_type": "code",
   "execution_count": 7,
   "metadata": {},
   "outputs": [],
   "source": [
    "# This map class represents a geographical area that must be searched by a  swarm\n",
    "# search_points - points in the map that will be checked if they have been searched or not. Represented by a matrix of booleans\n",
    "class GeoMap:\n",
    "    search_points = []\n",
    "    #searched_points = set() # NOT CURRENTLY USED\n",
    "    # Was explored as an alternative method to search points. Was just a list of points of where drones have been.\n",
    "    def __init__(self, length, width):\n",
    "        self.length = length\n",
    "        self.width = width\n",
    "        self.search_points = []\n",
    "        self.populate_search_points()\n",
    "    \n",
    "    # Create a visualization of the map border\n",
    "    def draw_map(self):\n",
    "        plt.plot([0, 0,          self.length, self.length, 0], \n",
    "                 [0, self.width, self.width,  0,           0])\n",
    "        self.disp_search_points()\n",
    "        #self.disp_searched_points()\n",
    "    \n",
    "    # Create a visualization of which points in search_points have been searched\n",
    "    def disp_search_points(self):\n",
    "        for x in range(0, len(self.search_points)):\n",
    "            for y in range(0, len(self.search_points[x])):\n",
    "                if self.search_points[x][y][0]:\n",
    "                    plt.plot(x, y, '.', color=self.search_points[x][y][1])\n",
    "    \n",
    "    # NOT CURRENTLY USED\n",
    "    #def disp_searched_points(self):\n",
    "        #for point in self.searched_points:\n",
    "            #plt.plot(point[0], point[1], '.', color='green')\n",
    "    \n",
    "    # Initialize the map of search points\n",
    "    def populate_search_points(self):\n",
    "        for i in range(0, self.length + 2):\n",
    "            row = []\n",
    "            for j in range(0, self.width + 2):\n",
    "                row.append([False, '#00FF00'])\n",
    "            self.search_points.append(row)\n",
    "            \n",
    "    def get_total_points(self):\n",
    "        return self.length * self.width"
   ]
  },
  {
   "cell_type": "code",
   "execution_count": 8,
   "metadata": {},
   "outputs": [],
   "source": [
    "# Determine the architecture of the swarm in terms of which drone relies on which for positioning and communication\n",
    "# Architecture is determined maximize the signal strength read between drones \n",
    "# (drones farther away from each other initially will not attempt to talk to each other directly)\n",
    "def determine_architecture(swarm):\n",
    "    coordinator = None\n",
    "    for drone in swarm.drones:\n",
    "        if coordinator == None:\n",
    "            coordinator = drone\n",
    "            rssi = 0\n",
    "        else:\n",
    "            rssi = drone_sig_strength(drone, coordinator)\n",
    "        init_rssi_table(drone, rssi, swarm.rssi_table)\n",
    "    sort_table_by_rssi(swarm.rssi_table)"
   ]
  },
  {
   "cell_type": "code",
   "execution_count": 9,
   "metadata": {},
   "outputs": [],
   "source": [
    "# Initialize the signal strength table\n",
    "def init_rssi_table(node_check, rssi, rssi_table):\n",
    "    node = {}\n",
    "    node[\"node\"] = node_check\n",
    "    node[\"rssi\"] = rssi\n",
    "    rssi_table.append(node)"
   ]
  },
  {
   "cell_type": "code",
   "execution_count": 10,
   "metadata": {},
   "outputs": [],
   "source": [
    "# Sort the signal strength table\n",
    "def sort_table_by_rssi(rssi_table):\n",
    "    rssi_table.sort(key=lambda val: val[\"rssi\"])"
   ]
  },
  {
   "cell_type": "code",
   "execution_count": 11,
   "metadata": {},
   "outputs": [],
   "source": [
    "# Drones determine who they should rely_on for communication and who they should send_to \n",
    "# This is determined based o nthe ordering of the sorted signal-strength-architecture table\n",
    "def determine_neighbors(swarm):\n",
    "    if len(swarm.rssi_table) > 1:\n",
    "        for index in range(0, len(swarm.rssi_table)):\n",
    "            node = swarm.rssi_table[index]['node']\n",
    "            if index == 0:\n",
    "                node.rely_on = None\n",
    "                node.send_to = swarm.rssi_table[index + 1]['node']\n",
    "            elif index == len(swarm.rssi_table) - 1:\n",
    "                node.rely_on = swarm.rssi_table[index - 1]['node']\n",
    "                node.send_to = None\n",
    "            else:\n",
    "                node.rely_on = swarm.rssi_table[index - 1]['node']\n",
    "                node.send_to = swarm.rssi_table[index + 1]['node']"
   ]
  },
  {
   "cell_type": "code",
   "execution_count": 12,
   "metadata": {},
   "outputs": [],
   "source": [
    "# Create a starting population (generation 1) for the genetic algorithm\n",
    "# size - how many members of the population should be created\n",
    "# map_size - the size of the map of the world that the population should be simulated in\n",
    "def create_starting_population(size, map_length, map_width):\n",
    "    population = []\n",
    "    \n",
    "    global num_nodes\n",
    "    for i in range(0,size):\n",
    "        population.append(create_new_member([], map_length, map_width))\n",
    "        \n",
    "    return population"
   ]
  },
  {
   "cell_type": "code",
   "execution_count": 13,
   "metadata": {},
   "outputs": [],
   "source": [
    "# Creates a new member of a population\n",
    "# drones - list of drones for the population-member (swarm) (if list empty, drones will be created)\n",
    "# map_size - the size of the map of the world that the population should be simulated in\n",
    "def create_new_member(drones, map_length, map_width):\n",
    "    if drones == []:\n",
    "        global num_drones\n",
    "        for i in range(0, num_drones):\n",
    "            drones.append(Drone())\n",
    "    member = Swarm(drones, map_length, map_width)\n",
    "    return member"
   ]
  },
  {
   "cell_type": "code",
   "execution_count": 14,
   "metadata": {},
   "outputs": [],
   "source": [
    "# Display a visualization of a swarm\n",
    "def plot_swarm(swarm):\n",
    "    fig, ax = plt.subplots() # note we must use plt.subplots, not plt.subplot\n",
    "    for drone in swarm.drones:\n",
    "        plt.plot(drone.x, drone.y, 'x', color='black')\n",
    "        #print(drone.x, drone.y)\n",
    "        circle1 = plt.Circle((drone.x, drone.y), drone.coverage, color = 'b', fill=False)        \n",
    "        ax.add_artist(circle1)\n",
    "\n",
    "    #fig.savefig('plotcircles.png')\n",
    "        \n",
    "    # Draws a visualization for the network connections    \n",
    "    for row in range(0, num_drones - 1):\n",
    "        for col in range(row + 1, num_drones):\n",
    "            if swarm.connectedness[row][col] == 1:\n",
    "                plt.plot([swarm.drones[row].x, swarm.drones[col].x], \n",
    "                         [swarm.drones[row].y, swarm.drones[col].y])"
   ]
  },
  {
   "cell_type": "code",
   "execution_count": 15,
   "metadata": {},
   "outputs": [],
   "source": [
    "# Returns all the integer points that are within a given circle\n",
    "# x0, y0 - the center of the circle\n",
    "# radius - the radius of the circle\n",
    "# NOT USED CURRENTLY\n",
    "def points_in_circle(x0, y0, radius):\n",
    "    x_ = np.arange(x0 - radius - 1, x0 + radius + 1, dtype=int)\n",
    "    y_ = np.arange(y0 - radius - 1, y0 + radius + 1, dtype=int)\n",
    "    x, y = np.where((x_[:,np.newaxis] - x0)**2 + (y_ - y0)**2 <= radius**2)\n",
    "    # x, y = np.where((np.hypot((x_-x0)[:,np.newaxis], y_-y0)<= radius)) # alternative implementation\n",
    "    for x, y in zip(x_[x], y_[y]):\n",
    "        yield x, y\n",
    "        plt.plot(x, y, '.', color='blue')"
   ]
  },
  {
   "cell_type": "code",
   "execution_count": 16,
   "metadata": {},
   "outputs": [],
   "source": [
    "# Determine the distance between two drones\n",
    "def drone_distance(drone1, drone2):\n",
    "    return abs(math.hypot(drone2.x - drone1.x, drone2.y - drone1.y))\n",
    "\n",
    "# Determine the signal strength between 2 drones using an RSSI formula\n",
    "def drone_sig_strength(drone1, drone2):\n",
    "    #return 20*math.log10(1/math.pow(drone_distance(drone1, drone2),2))\n",
    "    #return 1/math.pow(drone_distance(drone1, drone2),2)\n",
    "    dist = drone_distance(drone1, drone2)\n",
    "    #print(dist)\n",
    "    try:\n",
    "        return  10*2*math.log10(dist) + 1\n",
    "    except ValueError:\n",
    "        return 0\n",
    "\n",
    "# Determine the signal strength between all drones of an entire swarm\n",
    "def swarm_sig_strength(swarm):\n",
    "    swarm_strength = []\n",
    "    \n",
    "    for i in range(0, num_drones):\n",
    "        for j in range(0, i):\n",
    "            if swarm.connectedness[i][j] == 1:\n",
    "                #print('Signal strength between drone ', i, ' and drone ', j, ': ', end='')\n",
    "                #print(drone_sig_strength(swarm.drones[i], swarm.drones[j]))\n",
    "                dist = drone_distance(swarm.drones[i], swarm.drones[j])\n",
    "                sig_strength = drone_sig_strength(swarm.drones[i], swarm.drones[j])\n",
    "                swarm_strength.append([[j, i], dist , sig_strength])\n",
    "    return swarm_strength"
   ]
  },
  {
   "cell_type": "code",
   "execution_count": 17,
   "metadata": {},
   "outputs": [],
   "source": [
    "# Check how many points in GeoMap's search_points have been searched\n",
    "def check_drone_coverage(swarm):\n",
    "    #Only check the points that are within the area that drones have been\n",
    "    min_x = swarm.the_map.length + 1\n",
    "    max_x = 0\n",
    "    min_y = swarm.the_map.width + 1\n",
    "    max_y = 0\n",
    "    for drone in swarm.drones:\n",
    "        if drone.x < min_x:\n",
    "            min_x = drone.x\n",
    "        if drone.x > max_x:\n",
    "            max_x = drone.x\n",
    "        if drone.y < min_y:\n",
    "            min_y = drone.y\n",
    "        if drone.y > max_y:\n",
    "            max_y = drone.y\n",
    "    \n",
    "        #for circle_point in points_in_circle(drone.x, drone.y, drone.coverage):\n",
    "            #the_map.searched_points.add(circle_point)\n",
    "    \n",
    "    #Check if points are within drone coverage\n",
    "    for x in range(int(min_x - drone.coverage), int(max_x + drone.coverage) + 1):\n",
    "        for y in range(int(min_y - drone.coverage), int(max_y + drone.coverage) + 1):\n",
    "            for drone in swarm.drones:\n",
    "                dist = math.sqrt(math.pow(x-drone.x, 2) + math.pow(y-drone.y, 2))\n",
    "                if dist <= drone.coverage:\n",
    "                    if x >= 0 and x <= swarm.the_map.length and y >= 0 and y <= swarm.the_map.width:\n",
    "                        if not swarm.the_map.search_points[x][y][0]:\n",
    "                            swarm.fitness += 1\n",
    "                        swarm.the_map.search_points[x][y][0] = True\n",
    "                        color = math.floor((swarm.battery_left/swarm.battery_life) * 255)\n",
    "                        if color < 16:\n",
    "                            swarm.the_map.search_points[x][y][1] = '#000' + str(hex(color))[2:] + '00'\n",
    "                        else:\n",
    "                            swarm.the_map.search_points[x][y][1] = '#00' + str(hex(color))[2:] + '00'\n",
    "\n",
    "    #print(swarm_sig_strength(swarm))\n",
    "    #print(the_map.search_points)\n",
    "        "
   ]
  },
  {
   "cell_type": "code",
   "execution_count": 18,
   "metadata": {},
   "outputs": [],
   "source": [
    "def search_area_limits(swarm):\n",
    "    #Only check the points that are within the area that drones have been\n",
    "    min_x = swarm.the_map.size + 1\n",
    "    max_x = 0\n",
    "    min_y = swarm.the_map.size + 1\n",
    "    max_y = 0\n",
    "    for drone in swarm.drones:\n",
    "        if drone.x < min_x:\n",
    "            min_x = drone.x\n",
    "        if drone.x > max_x:\n",
    "            max_x = drone.x\n",
    "        if drone.y < min_y:\n",
    "            min_y = drone.y\n",
    "        if drone.y > max_y:\n",
    "            max_y = drone.y\n",
    "    return min_x, max_x, min_y, max_y"
   ]
  },
  {
   "cell_type": "code",
   "execution_count": 19,
   "metadata": {},
   "outputs": [],
   "source": [
    "def check_coverage_population():\n",
    "    for swarm in population:\n",
    "        check_drone_coverage(swarm)"
   ]
  },
  {
   "cell_type": "code",
   "execution_count": 20,
   "metadata": {},
   "outputs": [],
   "source": [
    "# Create a visualization of a swarm and the map it has searched\n",
    "# swarm - the swarm to display\n",
    "def draw_scene(swarm):\n",
    "    plot_swarm(swarm)\n",
    "    swarm.the_map.draw_map()\n",
    "    print(swarm.search_percentage(), '%')"
   ]
  },
  {
   "cell_type": "code",
   "execution_count": 21,
   "metadata": {},
   "outputs": [],
   "source": [
    "def plot_population():\n",
    "    for swarm in population:\n",
    "        draw_scene(swarm)\n",
    "        #print(sorted(the_map.searched_points))\n",
    "        #print(swarm_sig_strength(swarm))\n",
    "        #print(swarm.fitness)\n",
    "        #print(swarm.determine_fitness())"
   ]
  },
  {
   "cell_type": "code",
   "execution_count": 22,
   "metadata": {},
   "outputs": [],
   "source": [
    "# Initialization of the main program\n",
    "def init():\n",
    "    global population\n",
    "    global map_length\n",
    "    global map_width\n",
    "    global members_per_generation\n",
    "    population = create_starting_population(members_per_generation, map_length, map_width)\n",
    "    check_coverage_population()\n",
    "    #plot_population()\n",
    "    #for swarm in population:\n",
    "        #determine_architecture(swarm)\n",
    "        #determine_neighbors(swarm)"
   ]
  },
  {
   "cell_type": "code",
   "execution_count": 23,
   "metadata": {},
   "outputs": [],
   "source": [
    "# Drones randomly move around with no intelligence to attempt to search an area\n",
    "def scatter():\n",
    "    for swarm in population:\n",
    "        while swarm.battery_left > 0:\n",
    "            for drone in swarm.drones:\n",
    "                if drone.is_alive:\n",
    "                    x_adj = 0\n",
    "                    y_adj = 0\n",
    "                    x_adj += random.randint(-1, 1)\n",
    "                    y_adj += random.randint(-1, 1)\n",
    "                    #for circle_point in points_in_circle(drone.x, drone.y, drone.coverage):\n",
    "                        #print(circle_point)\n",
    "                        #the_map.searched_points.add(circle_point)\n",
    "                   \n",
    "                    #if drone.x < 0 or drone.x > swarm.the_map.size or drone.y < 0 or drone.y > swarm.the_map.size:\n",
    "                        #drone.is_alive = False\n",
    "                        \n",
    "                    # Move the drone based on the nn results\n",
    "                    if drone.x + x_adj >= 0 and drone.x + x_adj <= swarm.the_map.length:\n",
    "                        drone.x += x_adj\n",
    "                    if drone.y + y_adj >= 0 and drone.y + y_adj <= swarm.the_map.width:\n",
    "                        drone.y += y_adj\n",
    "\n",
    "                    check_drone_coverage(swarm)\n",
    "                    \n",
    "                    # If the drone strayed too far away from it's neighbor's, the drone is dead\n",
    "                    if drone.rely_on != None and drone_sig_strength(drone, drone.rely_on) > 30:\n",
    "                        drone.is_alive = False\n",
    "\n",
    "                    if drone.send_to != None and drone_sig_strength(drone, drone.send_to) > 30:\n",
    "                        drone.is_alive = False\n",
    "                        \n",
    "                    #for neighbor in drone.connected_to:\n",
    "                        #if drone_sig_strength(drone, neighbor) > 30:\n",
    "                            #drone.is_alive = False\n",
    "            swarm.battery_left -= 1 "
   ]
  },
  {
   "cell_type": "code",
   "execution_count": 24,
   "metadata": {},
   "outputs": [],
   "source": [
    "# Drones move around via neural network results to attempt to search an area\n",
    "def smart_scatter():\n",
    "    for swarm in population:\n",
    "        while swarm.battery_left > 0:\n",
    "            for drone in swarm.drones: \n",
    "                if drone.is_alive:\n",
    "                    # Interpret neural network results\n",
    "                    if drone.x_move < 0.33:\n",
    "                        x_adj = -1\n",
    "                    elif drone.x_move >= 0.33 and drone.x_move < .66:\n",
    "                        x_adj = 0\n",
    "                    elif drone.x_move >= .66:\n",
    "                        x_adj = 1\n",
    "\n",
    "                    if drone.y_move < 0.33:\n",
    "                        y_adj = -1\n",
    "                    elif drone.y_move >= 0.33 and drone.y_move < .66:\n",
    "                        y_adj = 0\n",
    "                    elif drone.y_move >= .66:\n",
    "                        y_adj = 1\n",
    "\n",
    "                    # Move the drone based on the nn results\n",
    "                    if drone.x + x_adj >= 0 and drone.x + x_adj <= swarm.the_map.length:\n",
    "                        drone.x += x_adj\n",
    "                    if drone.y + y_adj >= 0 and drone.y + y_adj <= swarm.the_map.width:\n",
    "                        drone.y += y_adj\n",
    "                    \n",
    "                    # Update the search_points to see if any more have been searched\n",
    "                    check_drone_coverage(swarm)\n",
    "                    #for circle_point in points_in_circle(drone.x, drone.y, drone.coverage):\n",
    "                        #print(circle_point)\n",
    "                        #the_map.searched_points.add(circle_point)\n",
    "\n",
    "                    # If the drone left the map, drone is dead\n",
    "                    #if drone.x < 0 or drone.x > swarm.the_map.size or drone.y < 0 or drone.y > swarm.the_map.size:\n",
    "                        #drone.is_alive = False\n",
    "\n",
    "                    # If the drone strayed too far away from it's neighbor's, the drone is dead\n",
    "                    if drone.rely_on != None and drone_sig_strength(drone, drone.rely_on) > 30:\n",
    "                        drone.is_alive = False\n",
    "\n",
    "                    if drone.send_to != None and drone_sig_strength(drone, drone.send_to) > 30:\n",
    "                        drone.is_alive = False\n",
    "                        \n",
    "                    #for neighbor in drone.connected_to:\n",
    "                        #if drone_sig_strength(drone, neighbor) > 30:\n",
    "                            #drone.is_alive = False\n",
    "\n",
    "                    drone.neural_net_feedforward(drone.get_input_layer())\n",
    "            swarm.battery_left -= 1 "
   ]
  },
  {
   "cell_type": "code",
   "execution_count": 25,
   "metadata": {},
   "outputs": [],
   "source": [
    "def hard_coded_search():\n",
    "    for swarm in population:\n",
    "            for drone in swarm.drones:\n",
    "                d = 1\n",
    "                batteryyy = map_length * map_width\n",
    "                while (batteryyy > 0):\n",
    "                    batteryyy -= 1\n",
    "                    if d == 1 and drone.x < map_length:\n",
    "                        drone.x += 1\n",
    "                    if d == 1 and drone.x == map_length:\n",
    "                        drone.y += 1\n",
    "                        d = -1\n",
    "                    if d == -1 and drone.y > 0:\n",
    "                        drone.x -= 1\n",
    "                    if d == -1 and drone.x == 0:\n",
    "                        drone.y += 1\n",
    "                        d = 1\n",
    "                    check_drone_coverage(swarm)\n",
    "\n",
    "            "
   ]
  },
  {
   "cell_type": "code",
   "execution_count": 26,
   "metadata": {},
   "outputs": [],
   "source": [
    "def kill_off_the_weak():\n",
    "    for unfortunate_soul in range(math.floor(len(population)/2), len(population)):\n",
    "        population.pop()"
   ]
  },
  {
   "cell_type": "code",
   "execution_count": 27,
   "metadata": {},
   "outputs": [],
   "source": [
    "def check_for_fittest():\n",
    "    global fittest_swarm\n",
    "    if fittest_swarm == None or population[0].fitness > fittest_swarm.fitness:\n",
    "        fittest_swarm = copy.deepcopy(population[0])\n",
    "        check_drone_coverage(fittest_swarm)\n",
    "        draw_scene(fittest_swarm)\n",
    "    #print(\"Fittest's fitness\", fittest_swarm.fitness)\n",
    "    \n",
    "        print(datetime.datetime.now() - start_time)"
   ]
  },
  {
   "cell_type": "code",
   "execution_count": 28,
   "metadata": {},
   "outputs": [],
   "source": [
    "# GA function to mate/breed organisms of the population together\n",
    "# Done so by swapping drones with each other\n",
    "def mingle_the_genes():\n",
    "    global population\n",
    "    \n",
    "    # Assigning metaphorical sex. M/F assignment only metaphorical for separating groups\n",
    "    males = []\n",
    "    females = []\n",
    "    \n",
    "    random.shuffle(population)\n",
    "    for i in range(0, len(population), 2):\n",
    "        males.append(population[i])\n",
    "    for i in range(1, len(population), 2):\n",
    "        females.append(population[i])\n",
    "\n",
    "    if len(females) == 0:\n",
    "        asexually_reproduce()\n",
    "        \n",
    "    else:\n",
    "        for i in range(0, len(females)): #because females list will be shorter\n",
    "\n",
    "            splice_site = random.randint(1, len(females[i].drones))\n",
    "\n",
    "            males_front = males[i].drones[:splice_site]\n",
    "            males_end   = males[i].drones[splice_site:]\n",
    "            females_front = females[i].drones[:splice_site]\n",
    "            females_end   = females[i].drones[splice_site:]\n",
    "\n",
    "            offspring0_drones = copy.deepcopy(females_front + males_end)\n",
    "            offspring1_drones = copy.deepcopy(males_front + females_end)\n",
    "\n",
    "            population.append(create_new_member(offspring0_drones, map_length, map_width))\n",
    "            population.append(create_new_member(offspring1_drones, map_length, map_width))\n",
    "        "
   ]
  },
  {
   "cell_type": "code",
   "execution_count": 29,
   "metadata": {},
   "outputs": [],
   "source": [
    "#Reset swarm population\n",
    "def reset_population():\n",
    "    for swarm in population:\n",
    "        swarm.reset()"
   ]
  },
  {
   "cell_type": "code",
   "execution_count": 30,
   "metadata": {},
   "outputs": [],
   "source": [
    "def mutate_population():\n",
    "    global population\n",
    "    for swarm in population:\n",
    "        for drone in swarm.drones:\n",
    "            for layer in drone.nn.weights:\n",
    "                for node in layer:\n",
    "                    for weight in range(0, len(node)):\n",
    "                        chance = np.random.rand()\n",
    "                        if chance > 0.9:\n",
    "                            (node[weight]) += np.random.rand() * random.randint(-1, 1)\n",
    "                        #print(node[weight])\n",
    "                        #if weight < 0.5:\n",
    "                            #weight *= 0.5"
   ]
  },
  {
   "cell_type": "code",
   "execution_count": 31,
   "metadata": {},
   "outputs": [],
   "source": [
    "# DOES NOT WORK RIGHT NOW\n",
    "def asexually_reproduce():\n",
    "    for swarm in range(0, len(population)):\n",
    "        swarm_copy = copy.deepcopy(population[swarm])\n",
    "        population.append(swarm_copy)"
   ]
  },
  {
   "cell_type": "code",
   "execution_count": 32,
   "metadata": {
    "scrolled": true
   },
   "outputs": [],
   "source": [
    "init()"
   ]
  },
  {
   "cell_type": "code",
   "execution_count": 33,
   "metadata": {},
   "outputs": [],
   "source": [
    "start_time = datetime.datetime.now()"
   ]
  },
  {
   "cell_type": "code",
   "execution_count": 34,
   "metadata": {},
   "outputs": [],
   "source": [
    "smart_scatter()\n",
    "#hard_coded_search()"
   ]
  },
  {
   "cell_type": "code",
   "execution_count": 35,
   "metadata": {},
   "outputs": [
    {
     "name": "stdout",
     "output_type": "stream",
     "text": [
      "0.4 %\n",
      "7.1499999999999995 %\n",
      "0.44 %\n",
      "4.31 %\n",
      "0.44 %\n"
     ]
    },
    {
     "data": {
      "image/png": "[encoded data removed]",
      "text/plain": [
       "<Figure size 432x288 with 1 Axes>"
      ]
     },
     "metadata": {
      "needs_background": "light"
     },
     "output_type": "display_data"
    },
    {
     "data": {
      "image/png": "[encoded data removed]",
      "text/plain": [
       "<Figure size 432x288 with 1 Axes>"
      ]
     },
     "metadata": {
      "needs_background": "light"
     },
     "output_type": "display_data"
    },
    {
     "data": {
      "image/png": "[encoded data removed]",
      "text/plain": [
       "<Figure size 432x288 with 1 Axes>"
      ]
     },
     "metadata": {
      "needs_background": "light"
     },
     "output_type": "display_data"
    },
    {
     "data": {
      "image/png": "[encoded data removed]",
      "text/plain": [
       "<Figure size 432x288 with 1 Axes>"
      ]
     },
     "metadata": {
      "needs_background": "light"
     },
     "output_type": "display_data"
    },
    {
     "data": {
      "image/png": "[encoded data removed]",
      "text/plain": [
       "<Figure size 432x288 with 1 Axes>"
      ]
     },
     "metadata": {
      "needs_background": "light"
     },
     "output_type": "display_data"
    }
   ],
   "source": [
    "plot_population()"
   ]
  },
  {
   "cell_type": "code",
   "execution_count": 36,
   "metadata": {},
   "outputs": [
    {
     "name": "stdout",
     "output_type": "stream",
     "text": [
      "7.1499999999999995 %\n",
      "0:00:07.547405\n"
     ]
    },
    {
     "data": {
      "image/png": "[encoded data removed]",
      "text/plain": [
       "<Figure size 432x288 with 1 Axes>"
      ]
     },
     "metadata": {
      "needs_background": "light"
     },
     "output_type": "display_data"
    }
   ],
   "source": [
    "population.sort(key=lambda x: x.fitness, reverse=True)\n",
    "kill_off_the_weak()\n",
    "check_for_fittest()"
   ]
  },
  {
   "cell_type": "code",
   "execution_count": 37,
   "metadata": {},
   "outputs": [],
   "source": [
    "reset_population()\n",
    "#mingle_the_genes()\n",
    "asexually_reproduce()"
   ]
  },
  {
   "cell_type": "code",
   "execution_count": 38,
   "metadata": {},
   "outputs": [],
   "source": [
    "mutate_population()"
   ]
  },
  {
   "cell_type": "code",
   "execution_count": 39,
   "metadata": {},
   "outputs": [],
   "source": [
    "#check_coverage_population()"
   ]
  },
  {
   "cell_type": "code",
   "execution_count": null,
   "metadata": {},
   "outputs": [
    {
     "name": "stdout",
     "output_type": "stream",
     "text": [
      "0 [724, 717, 715, 432, 422]\n",
      "7.24 %\n",
      "0:00:25.600361\n",
      "1 [880, 724, 724, 714, 711]\n",
      "8.799999999999999 %\n",
      "0:00:29.753181\n",
      "2 "
     ]
    }
   ],
   "source": [
    "for i in range(0, generations):\n",
    "    print(i, end=\" \")\n",
    "    smart_scatter()\n",
    "    #hard_coded_search()\n",
    "    population.append(copy.deepcopy(fittest_swarm))\n",
    "    population.sort(key=lambda x: x.fitness, reverse=True)\n",
    "    print(population)\n",
    "    kill_off_the_weak()\n",
    "    check_for_fittest()\n",
    "    reset_population()\n",
    "    #mingle_the_genes()\n",
    "    asexually_reproduce()\n",
    "    mutate_population()\n",
    "    check_coverage_population()"
   ]
  },
  {
   "cell_type": "code",
   "execution_count": null,
   "metadata": {},
   "outputs": [],
   "source": [
    "print(datetime.datetime.now() - start_time)"
   ]
  },
  {
   "cell_type": "code",
   "execution_count": null,
   "metadata": {},
   "outputs": [],
   "source": [
    "#check_drone_coverage(fittest_swarm)\n",
    "draw_scene(fittest_swarm)"
   ]
  },
  {
   "cell_type": "code",
   "execution_count": null,
   "metadata": {},
   "outputs": [],
   "source": []
  },
  {
   "cell_type": "code",
   "execution_count": null,
   "metadata": {},
   "outputs": [],
   "source": []
  },
  {
   "cell_type": "code",
   "execution_count": null,
   "metadata": {},
   "outputs": [],
   "source": []
  }
 ],
 "metadata": {
  "kernelspec": {
   "display_name": "Python 3",
   "language": "python",
   "name": "python3"
  },
  "language_info": {
   "codemirror_mode": {
    "name": "ipython",
    "version": 3
   },
   "file_extension": ".py",
   "mimetype": "text/x-python",
   "name": "python",
   "nbconvert_exporter": "python",
   "pygments_lexer": "ipython3",
   "version": "3.7.3"
  }
 },
 "nbformat": 4,
 "nbformat_minor": 2
}
