{
 "cells": [
  {
   "cell_type": "code",
   "execution_count": 1,
   "metadata": {},
   "outputs": [],
   "source": [
    "import numpy as np\n",
    "import random\n",
    "import copy\n",
    "import math\n",
    "\n",
    "%matplotlib inline\n",
    "import matplotlib.pyplot as plt\n",
    "plt.style.use('seaborn-whitegrid')\n",
    "\n",
    "num_drones = 8\n",
    "drone_id = 0\n",
    "population = []\n",
    "\n",
    "class Drone:\n",
    "    id = 0\n",
    "    x = 0\n",
    "    y = 0\n",
    "    rely_on = []\n",
    "    def __init__(self):\n",
    "        global drone_id\n",
    "        self.id = drone_id\n",
    "        drone_id += 1\n",
    "        self.rely_on = []\n",
    "        \n",
    "\n",
    "def vertices_of_regpoly(n, r):\n",
    "    vertices = []\n",
    "    x = []\n",
    "    y = []\n",
    "    for i in range(0, n):\n",
    "        x.append(r * math.cos(2 * math.pi * i / n))\n",
    "        y.append(r * math.sin(2 * math.pi * i / n))\n",
    "    vertices.append(x)\n",
    "    vertices.append(y)\n",
    "    return vertices\n",
    "\n",
    "\n",
    "def set_init_drones(swarm):\n",
    "    xy = vertices_of_regpoly(num_drones, 1)\n",
    "    for i in range(0, len(swarm.drones)):\n",
    "        swarm.drones[i].x = xy[0][i]\n",
    "        swarm.drones[i].y = xy[1][i]\n",
    "\n",
    "class Swarm:\n",
    "    drones = []\n",
    "    connectedness = []\n",
    "    def __init__(self, drones):\n",
    "        self.drones = drones\n",
    "        self.connectedness = assign_connectedness(drones)\n",
    "        global drone_id\n",
    "        drone_id = 0\n",
    "        set_init_drones(self)\n",
    "        \n",
    "        \n",
    "def assign_connectedness(drones):\n",
    "    connectedness = np.zeros((len(drones),len(drones)))\n",
    "    \n",
    "    #The upper traingle of a mtrix w/o diagonal is filled in with 1s\n",
    "    #the diagonal would mean drones are connected to themselves\n",
    "    #the lower triangle is just a reflection\n",
    "    #representation of the connections between drones\n",
    "    for i in range(0,len(drones)):\n",
    "        for j in range(0, i):\n",
    "            connectedness[j][i] = 1 #if random.random() > 0.5 else 0\n",
    "            #connectedness[i][j] = connectedness[j][i]\n",
    "           \n",
    "    # Ensure that each drone has at least one connection\n",
    "    for i in range(0,len(drones)):\n",
    "        possible_values = np.nonzero(connectedness[i])[0].tolist()\n",
    "        choice = random.choice(possible_values) if possible_values else -1\n",
    "        if choice != -1:\n",
    "            possible_values.remove(choice)\n",
    "        #Remaining choices have a possibility of not being connections (probability related to the number of drones)\n",
    "        for value in possible_values:\n",
    "            connectedness[i][value] = 0 if random.random() > 1.0/float(len(drones)) else 1\n",
    "\n",
    "    #reflect over diagonal axis of matrix to make symmetric matrix\n",
    "    for i in range(0,len(drones)):\n",
    "        for j in range(0, i):\n",
    "            connectedness[i][j] = connectedness[j][i]\n",
    "    \n",
    "    for i in range(0,len(drones)):\n",
    "        for j in range(0, len(drones)):\n",
    "            if connectedness[i][j] == 1:\n",
    "                drones[i].rely_on.append(j)\n",
    "            \n",
    "    return connectedness\n",
    "            \n",
    "\n",
    "def create_starting_population(size):\n",
    "    population = []\n",
    "    \n",
    "    global num_nodes\n",
    "    for i in range(0,size):\n",
    "        population.append(create_new_member(num_drones))\n",
    "        \n",
    "    return population\n",
    "\n",
    "def create_new_member(num_drones):\n",
    "    drones = []\n",
    "    for i in range(0, num_drones):\n",
    "        drones.append(Drone())\n",
    "    member = Swarm(drones)\n",
    "    return member\n",
    "\n",
    "def plot_swarm(swarm):\n",
    "    fig, ax = plt.subplots() # note we must use plt.subplots, not plt.subplot\n",
    "    for drone in swarm.drones:\n",
    "        plt.plot(drone.x, drone.y, 'x', color='black')\n",
    "        \n",
    "        circle1 = plt.Circle((drone.x, drone.y), 10, color = 'b', fill=False)        \n",
    "        ax.add_artist(circle1)\n",
    "\n",
    "    #fig.savefig('plotcircles.png')\n",
    "        \n",
    "    for row in range(0, num_drones - 1):\n",
    "        for col in range(row + 1, num_drones):\n",
    "            if swarm.connectedness[row][col] == 1:\n",
    "                plt.plot([swarm.drones[row].x, swarm.drones[col].x], \n",
    "                         [swarm.drones[row].y, swarm.drones[col].y])\n",
    "    set_map(100)\n",
    "    \n",
    "def set_map(map_size):\n",
    "    map_size /=2\n",
    "    plt.plot([-map_size,-map_size, map_size, map_size, -map_size], \n",
    "             [-map_size, map_size, map_size,-map_size, -map_size])\n",
    "\n",
    "def drone_distance(drone1, drone2):\n",
    "    return math.hypot(drone2.x - drone1.x, drone2.y - drone1.y)\n",
    "\n",
    "def drone_sig_strength(drone_dist):\n",
    "    return 1/math.pow(drone_dist,2)\n",
    "\n",
    "def swarm_sig_strength(swarm):\n",
    "    swarm_strength = []\n",
    "    \n",
    "    for i in range(0, num_drones):\n",
    "        for j in range(0, i):\n",
    "            if swarm.connectedness[i][j] == 1:\n",
    "                #print('Signal strength between drone ', i, ' and drone ', j, ': ', end='')\n",
    "                #print(drone_sig_strength(swarm.drones[i], swarm.drones[j]))\n",
    "                dist = drone_distance(swarm.drones[i], swarm.drones[j])\n",
    "                swarm_strength.append([[j, i], dist , drone_sig_strength(dist)])\n",
    "    return swarm_strength"
   ]
  },
  {
   "cell_type": "code",
   "execution_count": 32,
   "metadata": {},
   "outputs": [],
   "source": [
    "#https://towardsdatascience.com/how-to-build-your-own-neural-network-from-scratch-in-python-68998a08e4f6 \n",
    "def sigmoid(x):\n",
    "    return 2*((1.0/(1+ np.exp(-1*x)))-0.5)\n",
    "\n",
    "class NeuralNetwork:\n",
    "    def __init__(self, x, y):\n",
    "        self.input      = x\n",
    "        print(self.input)\n",
    "        self.weights1   = np.random.rand(self.input.shape[1], 3)\n",
    "        print(self.weights1)\n",
    "        self.weights2   = np.random.rand(3, 2)  \n",
    "        print(self.weights2)\n",
    "        \n",
    "        self.output = np.zeros(y.shape)\n",
    "        \n",
    "    def feedforward(self):\n",
    "        #For simplicity, biases are assumed to be zero\n",
    "        self.layer1 = sigmoid(np.dot(self.input, self.weights1))\n",
    "        print(self.layer1)\n",
    "        self.output = sigmoid(np.dot(self.layer1, self.weights2))\n",
    "        print(self.output)"
   ]
  },
  {
   "cell_type": "code",
   "execution_count": 33,
   "metadata": {},
   "outputs": [],
   "source": [
    "def init():\n",
    "    global population\n",
    "    population = create_starting_population(1)\n",
    "    for swarm in population:\n",
    "        plot_swarm(swarm)\n",
    "\n",
    "        print(swarm_sig_strength(swarm))\n",
    "        "
   ]
  },
  {
   "cell_type": "code",
   "execution_count": 34,
   "metadata": {},
   "outputs": [],
   "source": [
    "def scatter():\n",
    "    for swarm in population:\n",
    "        for drone in swarm.drones:\n",
    "            for i in range(0, 3000):\n",
    "                drone.x += random.random() - .5\n",
    "                drone.y += random.random() - .5\n",
    "        plot_swarm(swarm)\n",
    "\n",
    "        print(swarm_sig_strength(swarm))"
   ]
  },
  {
   "cell_type": "code",
   "execution_count": 35,
   "metadata": {
    "scrolled": true
   },
   "outputs": [],
   "source": [
    "#init()"
   ]
  },
  {
   "cell_type": "code",
   "execution_count": 36,
   "metadata": {},
   "outputs": [],
   "source": [
    "#scatter()"
   ]
  },
  {
   "cell_type": "code",
   "execution_count": 57,
   "metadata": {},
   "outputs": [
    {
     "name": "stdout",
     "output_type": "stream",
     "text": [
      "[[-1  4 -2]]\n",
      "[[0.49470241 0.44617567 0.32521503]\n",
      " [0.78821234 0.77474358 0.20536531]\n",
      " [0.15843472 0.26225723 0.56226338]]\n",
      "[[0.50508647 0.35506264]\n",
      " [0.73738533 0.06655228]\n",
      " [0.38717064 0.18156978]]\n"
     ]
    }
   ],
   "source": [
    "x = [-1 , 4 , -2]\n",
    "y = np.array([[0],[0],[0],[0]])\n",
    "input = np.array([x])\n",
    "nn = NeuralNetwork(input, y)\n"
   ]
  },
  {
   "cell_type": "code",
   "execution_count": 58,
   "metadata": {},
   "outputs": [
    {
     "name": "stdout",
     "output_type": "stream",
     "text": [
      "[[ 0.82447683  0.78724402 -0.30419896]]\n",
      "[[0.41329516 0.14394353]]\n"
     ]
    }
   ],
   "source": [
    "nn.feedforward()"
   ]
  },
  {
   "cell_type": "code",
   "execution_count": null,
   "metadata": {},
   "outputs": [],
   "source": []
  },
  {
   "cell_type": "code",
   "execution_count": null,
   "metadata": {},
   "outputs": [],
   "source": []
  },
  {
   "cell_type": "code",
   "execution_count": null,
   "metadata": {},
   "outputs": [],
   "source": []
  }
 ],
 "metadata": {
  "kernelspec": {
   "display_name": "Python 3",
   "language": "python",
   "name": "python3"
  },
  "language_info": {
   "codemirror_mode": {
    "name": "ipython",
    "version": 3
   },
   "file_extension": ".py",
   "mimetype": "text/x-python",
   "name": "python",
   "nbconvert_exporter": "python",
   "pygments_lexer": "ipython3",
   "version": "3.7.3"
  }
 },
 "nbformat": 4,
 "nbformat_minor": 2
}
