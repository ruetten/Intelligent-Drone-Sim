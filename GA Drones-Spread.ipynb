{
 "cells": [
  {
   "cell_type": "code",
   "execution_count": 1,
   "metadata": {},
   "outputs": [],
   "source": [
    "import numpy as np\n",
    "import random\n",
    "import copy\n",
    "import math\n",
    "import datetime\n",
    "\n",
    "%matplotlib inline\n",
    "import matplotlib.pyplot as plt\n",
    "plt.style.use('seaborn-whitegrid')\n",
    "\n",
    "from scipy.spatial import ConvexHull, convex_hull_plot_2d\n",
    "\n",
    "fittest_swarm = None\n",
    "num_drones = 20\n",
    "drone_id = 0\n",
    "population = []\n",
    "map_length = 150\n",
    "map_width = 150\n",
    "generations = 100\n",
    "battery_life = 2000\n",
    "members_per_generation = 15"
   ]
  },
  {
   "cell_type": "code",
   "execution_count": 2,
   "metadata": {},
   "outputs": [],
   "source": [
    "# Class to represent a drone.\n",
    "# id - drone's numerical ID\n",
    "# x, y - coordinates of where the drone is\n",
    "# x_move, y_move - the outputs of the neural network that control the direction the drones move\n",
    "# coverage - the radius of the circular search area that the drone covers\n",
    "# rely_on - the drone that self relies on for positioning. If the signal with this drone is too weak, self \"dies\"\n",
    "# send_to - the drone that relies on self for positioning\n",
    "# connected_to - list of drones that self is connected to\n",
    "# is_alive - \"alive\" (True) when self is close enough to rely_on for signal, \"dead\" (False) otherwise\n",
    "# nn - the neural network of this drone\n",
    "class Drone:\n",
    "    id = 0\n",
    "    x = 0\n",
    "    y = 0\n",
    "    x_move = 0\n",
    "    y_move = 0\n",
    "    unsearched_N = 0\n",
    "    unsearched_S = 0\n",
    "    unsearched_W = 0\n",
    "    unsearched_E = 0\n",
    "    coverage = 10\n",
    "    rely_on = None\n",
    "    send_to = None\n",
    "    connected_to = []\n",
    "    is_alive = True\n",
    "    nn = None\n",
    "    swarm = None # drone knows what swarm it belongs to\n",
    "    \n",
    "    # Initialize self variables\n",
    "    def __init__(self):\n",
    "        # Assign self id\n",
    "        global drone_id\n",
    "        self.id = drone_id\n",
    "        drone_id += 1\n",
    "        \n",
    "        # Instantiate other self vars\n",
    "        self.connected_to = []\n",
    "        self.rely_on = None\n",
    "        self.send_to = None\n",
    "        self.nn = None\n",
    "        self.swarm = None\n",
    "        \n",
    "        self.unsearched_N = 1\n",
    "        self.unsearched_S = 1\n",
    "        self.unsearched_W = 1\n",
    "        self.unsearched_E = 1\n",
    "        \n",
    "    # When printing drone object, it prints the drone's numerical id\n",
    "    def __repr__(self):\n",
    "        return str(self.id)\n",
    "    \n",
    "    # Create and initialize the neural network\n",
    "    def neural_init(self):\n",
    "        self.nn = NeuralNetwork(self.get_input_layer())\n",
    "    \n",
    "    # Interprets what the input layer for the neural network should be at the time the func is called\n",
    "    def get_input_layer(self):\n",
    "        # Gets the signal strength between important drone connections. -1 if connection doesn't exist\n",
    "        rely_on_sig = -1\n",
    "        #print(self, \"relies on\", self.rely_on)\n",
    "        if self.rely_on != None:\n",
    "            rely_on_sig = drone_sig_strength(self, self.rely_on)\n",
    "        \n",
    "        #print(self, \"sends to\", self.send_to)\n",
    "        send_to_sig = -1\n",
    "        if self.send_to != None:\n",
    "            send_to_sig = drone_sig_strength(self, self.send_to)\n",
    "        \n",
    "        #self.sense_surroundings()\n",
    "        \n",
    "        # Assembles the input layer using variables.\n",
    "        #in_layer = [self.x, self.y, rely_on_sig, send_to_sig, self.x_move, self.y_move, self.unsearched_N*50, self.unsearched_S*50, self.unsearched_E*50, self.unsearched_W*50]\n",
    "        in_layer = [self.x, self.y, rely_on_sig, send_to_sig, self.x_move, self.y_move]\n",
    "        #in_layer = [sigmoid(self.x*5), sigmoid(self.y*5), sigmoid(rely_on_sig), sigmoid(send_to_sig), self.x_move, self.y_move]\n",
    "        #out_layer_form = np.array([[0],[0],[0],[0]])\n",
    "        in_layer = np.array([in_layer])\n",
    "        #self.nn = NeuralNetwork(in_layer, out_layer_form)\n",
    "        return in_layer\n",
    "    \n",
    "    # Feedforward the neural network. aka Find the output layer given an input_layer\n",
    "    # Get input layer from get_input_layer()\n",
    "    def neural_net_feedforward(self, input_layer):\n",
    "        #print(input_layer)\n",
    "        movement = self.nn.feedforward(input_layer)\n",
    "        #print(self, movement)\n",
    "        self.x_move = movement[0][0]\n",
    "        self.y_move = movement[0][1]\n",
    "        \n",
    "    def sense_surroundings(self):\n",
    "        sense = self.coverage + 1\n",
    "        if int(self.x) + sense <= self.swarm.the_map.length and not self.swarm.the_map.search_points[int(self.x) + sense][int(self.y)][0]:\n",
    "            self.unsearched_E = 1\n",
    "        else:\n",
    "            self.unsearched_E = 0\n",
    "            \n",
    "        if int(self.x) - sense >= 0 and not self.swarm.the_map.search_points[int(self.x) - sense][int(self.y)][0]:\n",
    "            self.unsearched_W = 1\n",
    "        else:\n",
    "            self.unsearched_W = 0\n",
    "            \n",
    "        if int(self.y) + sense <= self.swarm.the_map.width and not self.swarm.the_map.search_points[int(self.x)][int(self.y) + sense][0]:\n",
    "            self.unsearched_N = 1\n",
    "        else:\n",
    "            self.unsearched_N = 0\n",
    "            \n",
    "        if int(self.y) - sense >= 0 and not self.swarm.the_map.search_points[int(self.x)][int(self.y) - sense][0]:\n",
    "            self.unsearched_S = 1\n",
    "        else:\n",
    "            self.unsearched_S = 0"
   ]
  },
  {
   "cell_type": "code",
   "execution_count": 3,
   "metadata": {},
   "outputs": [],
   "source": [
    "# Function to turn any number into a number between 0 and 1\n",
    "# Use a sine function because other functions didn't have enough variation in the output\n",
    "# https://towardsdatascience.com/how-to-build-your-own-neural-network-from-scratch-in-python-68998a08e4f6 \n",
    "def sigmoid(x):\n",
    "    #print(x, '\\n')\n",
    "    #return 2*((1.0/(1+ np.exp(-0.5*(x-1)))-0.5))\n",
    "    #return (np.sin(x)+1)*.5\n",
    "    #return np.sin(math.pi * x - math.pi/2.0)\n",
    "    return np.sin(math.pi * x - math.pi/2.0) * .5 +.5\n",
    "    #return ((np.tanh(.05*(x-50))+1)*.5)\n",
    "\n",
    "# Neural network class\n",
    "class NeuralNetwork:\n",
    "    # Weights between layers are randomly created\n",
    "    def __init__(self, x):\n",
    "        self.input      = x\n",
    "        # 4 layers, 6 -> 4 -> 8 -> 2\n",
    "        self.weights = [None] * 3\n",
    "        self.weights[0]   = np.random.rand(self.input.shape[1], 4)\n",
    "        self.weights[1]   = np.random.rand(4, 7)  \n",
    "        self.weights[2]   = np.random.rand(7, 2)  \n",
    "        \n",
    "        #self.output = np.zeros(y.shape)\n",
    "    \n",
    "    # Input layer is fedforward through the nn and output layer is calculated\n",
    "    def feedforward(self, input_layer):\n",
    "        self.hidden_layers = [None] * 2\n",
    "        #For simplicity, biases are assumed to be zero\n",
    "        self.hidden_layers[0] = sigmoid(np.dot(input_layer, self.weights[0]))\n",
    "        self.hidden_layers[1] = sigmoid(np.dot(self.hidden_layers[0], self.weights[1]))\n",
    "        self.output = sigmoid(np.dot(self.hidden_layers[1], self.weights[2]))\n",
    "        #print(self.output)\n",
    "        return self.output"
   ]
  },
  {
   "cell_type": "code",
   "execution_count": 4,
   "metadata": {},
   "outputs": [],
   "source": [
    "# used to get starting points for drones.\n",
    "# n - number of drones/points\n",
    "# r - radius of polygon/how far spread out they should be\n",
    "# map_size - the size of the map the points will be plotted on (to put tha points in the center)\n",
    "# returns - vertices, which is a 2 element long array. \n",
    "#    Element [0] is an array of all the x-component of points\n",
    "#    Element [1] is an array of all the y-component of points\n",
    "#    The same indices in each x and y list represent different components of the same point\n",
    "#    Example: point 2's x value is at x[2] and the y value is at y[2]\n",
    "def vertices_of_regpoly(n, r, map_length, map_width):\n",
    "    vertices = []\n",
    "    x = []\n",
    "    y = []\n",
    "    for i in range(0, n):\n",
    "        x.append(( map_length / 2) + r * math.cos(2 * math.pi * i / n))\n",
    "        y.append(( map_width /  2) + r * math.sin(2 * math.pi * i / n))\n",
    "    vertices.append(x)\n",
    "    vertices.append(y)\n",
    "    return vertices"
   ]
  },
  {
   "cell_type": "code",
   "execution_count": 5,
   "metadata": {},
   "outputs": [],
   "source": [
    "# Set each drone's initial locations to the drone's self.x and self.y values\n",
    "def set_init_drones(swarm):\n",
    "    xy = vertices_of_regpoly(num_drones, 2, swarm.the_map.length, swarm.the_map.width)\n",
    "    for i in range(0, len(swarm.drones)):\n",
    "        swarm.drones[i].x = xy[0][i]\n",
    "        swarm.drones[i].y = xy[1][i]\n",
    "        swarm.drones[i].x_move = 0\n",
    "        swarm.drones[i].y_move = 0\n",
    "        swarm.drones[i].is_alive = True\n",
    "        swarm.drones[i].swarm = swarm"
   ]
  },
  {
   "cell_type": "code",
   "execution_count": 6,
   "metadata": {},
   "outputs": [],
   "source": [
    "# The swarm class is a collection of drones\n",
    "# It is also the \"organism\" unit of the population list, used in the Genetic Algorithm component of the program\n",
    "# drones - list of drones in the population\n",
    "# connectedness - matrix representing how the drones are connected to each other\n",
    "class Swarm:\n",
    "    drones = []\n",
    "    connectedness = []\n",
    "    fitness = 0\n",
    "    battery_life = 0 # simulates a time limit to search an area\n",
    "    battery_left = 0\n",
    "    \n",
    "    # Initialize the swarm\n",
    "    def __init__(self, drones, map_length, map_width):\n",
    "        global battery_life\n",
    "        self.battery_life = battery_life\n",
    "        self.battery_left = self.battery_life\n",
    "        self.fitness = 0\n",
    "        self.the_map = GeoMap(map_length, map_width) # The map to search\n",
    "        self.drones = drones # the list of drones\n",
    "        global drone_id # Reset the drone id counter for every swarm \n",
    "        drone_id = 0\n",
    "        set_init_drones(self) # Set each drone's initial locations\n",
    "        self.assign_connectedness()\n",
    "        self.assign_drone_connect()\n",
    "        self.rssi_table = []\n",
    "        determine_architecture(self)\n",
    "        determine_neighbors(self)\n",
    "        for drone in self.drones:\n",
    "            drone.neural_init()\n",
    "    \n",
    "    def __repr__(self):\n",
    "        return str(self.fitness)\n",
    "    \n",
    "    def reset(self):\n",
    "        self.battery_left = self.battery_life\n",
    "        self.fitness = 0\n",
    "        self.the_map = GeoMap(map_length, map_width) # The map to search\n",
    "        set_init_drones(self) # Set each drone's initial locations\n",
    "            \n",
    "    # Randomly assign how the drones are connected to each other\n",
    "    def assign_connectedness(self):\n",
    "        #Make the swarm's connectivity matrix\n",
    "        #This matrix is really only used for initial configuration\n",
    "        #~~~~~~~~~~~~~~~~~~~~~~~~~~~~~~~~~~~~~~~~~~~~~~~~~~~~~~~~~~\n",
    "        self.connectedness = np.zeros((len(self.drones),len(self.drones)))\n",
    "\n",
    "        #The upper traingle of a mtrix w/o diagonal is filled in with 1s\n",
    "        #the diagonal would mean drones are connected to themselves\n",
    "        #the lower triangle is just a reflection\n",
    "        #representation of the connections between drones\n",
    "        for i in range(0,len(self.drones)):\n",
    "            for j in range(0, i):\n",
    "                self.connectedness[j][i] = 1\n",
    "\n",
    "        # Ensure that each drone has at least one connection\n",
    "        for i in range(0,len(self.drones)):\n",
    "            possible_values = np.nonzero(self.connectedness[i])[0].tolist()\n",
    "            choice = random.choice(possible_values) if possible_values else -1\n",
    "            if choice != -1:\n",
    "                possible_values.remove(choice)\n",
    "            #Remaining choices have a possibility of not being connections (probability related to the number of drones)\n",
    "            for value in possible_values:\n",
    "                self.connectedness[i][value] = 0 if random.random() > 1.0/float(len(self.drones)) else 1\n",
    "\n",
    "        #reflect over diagonal axis of matrix to make symmetric matrix\n",
    "        for i in range(0,len(self.drones)):\n",
    "            for j in range(0, i):\n",
    "                self.connectedness[i][j] = self.connectedness[j][i]\n",
    "    \n",
    "    # After the swarm's connectedness is determines, each drone is told which drones it is connected to\n",
    "    def assign_drone_connect(self):\n",
    "        #Assign list connectedness in drones\n",
    "        #~~~~~~~~~~~~~~~~~~~~~~~~~~~~~~~~~~~~~~~~~\n",
    "        for i in range(0,len(self.connectedness)):\n",
    "            for j in range(0, len(self.connectedness)):\n",
    "                if self.connectedness[i][j] == 1:\n",
    "                    self.drones[i].connected_to.append(self.drones[j])\n",
    "    \n",
    "    # Determine the fitness of the swarm for purposes of evolution \n",
    "    # Fitness function takes all of these factors into account for spread:\n",
    "    # Calculated area from vertices, each drone's distance from the center, drones' signal strength to each other,\n",
    "    # search points when stationary, search points searched when traveling\n",
    "    def determine_fitness(self):\n",
    "        x = []\n",
    "        y = []\n",
    "        for drone in self.drones:\n",
    "            x.append(drone.x)\n",
    "            y.append(drone.y)\n",
    "        self.fitness += PolyArea(x,y)\n",
    "        #self.fitness += max_width_of_swarm_polygon(self.drones) * 10\n",
    "#         for drone in self.drones:\n",
    "#             for neighbor in drone.connected_to:\n",
    "#                 self.fitness += drone_sig_strength(drone, neighbor)\n",
    "        for i in range(0, len(self.drones)):\n",
    "            for j in range(i + 1, len(self.drones)):\n",
    "                self.fitness += drone_sig_strength(self.drones[i], self.drones[j])\n",
    "                \n",
    "    \n",
    "    def search_percentage(self):\n",
    "        return float(self.fitness)/float(self.the_map.get_total_points()) * 100"
   ]
  },
  {
   "cell_type": "code",
   "execution_count": 7,
   "metadata": {},
   "outputs": [],
   "source": [
    "def PolyArea(x,y):\n",
    "    return 0.5*np.abs(np.dot(x,np.roll(y,1))-np.dot(y,np.roll(x,1)))"
   ]
  },
  {
   "cell_type": "code",
   "execution_count": 8,
   "metadata": {},
   "outputs": [],
   "source": [
    "def max_width_of_swarm_polygon(drones):\n",
    "#     points = np.zeros(shape=(len(drones),2))\n",
    "#     for i in range(0,len(drones)):\n",
    "#         points[i][0] = drones[i].x\n",
    "#         points[i][1] = drones[i].y\n",
    "#     hull = ConvexHull(points)\n",
    "    \n",
    "#     plt.plot(points[:,0], points[:,1], 'o')\n",
    "#     plt.plot(points[hull.vertices,0], points[hull.vertices,1], 'r--', lw=2)\n",
    "#     plt.plot(points[hull.vertices[0],0], points[hull.vertices[0],1], 'ro')\n",
    "#     plt.show()\n",
    "\n",
    "#     max_diag = 0\n",
    "#     for i in range(0, len(hull.vertices)):\n",
    "#         for j in range(i + 1, len(hull.vertices)):\n",
    "#             drone1x = points[hull.vertices[i],0]\n",
    "#             drone1y = points[hull.vertices[i],1]\n",
    "#             drone2x = points[hull.vertices[j],0]\n",
    "#             drone2y = points[hull.vertices[j],1]\n",
    "#             diagonal = abs(math.hypot(drone2x - drone1x, drone2y - drone1y))\n",
    "#             if diagonal > max_diag:\n",
    "#                 max_diag = diagonal\n",
    "#     return max_diag\n",
    "\n",
    "    max_diag = 0\n",
    "    for i in range(0, len(drones)):\n",
    "        for j in range(i + 1, len(drones)):\n",
    "            diagonal = abs(math.hypot(drones[j].x - drones[i].x, drones[j].y - drones[i].y))\n",
    "            if diagonal > max_diag:\n",
    "                max_diag = diagonal\n",
    "    return max_diag"
   ]
  },
  {
   "cell_type": "code",
   "execution_count": 9,
   "metadata": {},
   "outputs": [],
   "source": [
    "# This map class represents a geographical area that must be searched by a  swarm\n",
    "# search_points - points in the map that will be checked if they have been searched or not. Represented by a matrix of booleans\n",
    "class GeoMap:\n",
    "    search_points = []\n",
    "    #searched_points = set() # NOT CURRENTLY USED\n",
    "    # Was explored as an alternative method to search points. Was just a list of points of where drones have been.\n",
    "    def __init__(self, length, width):\n",
    "        self.length = length\n",
    "        self.width = width\n",
    "        self.search_points = []\n",
    "        self.populate_search_points()\n",
    "    \n",
    "    # Create a visualization of the map border\n",
    "    def draw_map(self):\n",
    "        plt.plot([0, 0,          self.length, self.length, 0], \n",
    "                 [0, self.width, self.width,  0,           0])\n",
    "        self.disp_search_points()\n",
    "        #self.disp_searched_points()\n",
    "    \n",
    "    # Create a visualization of which points in search_points have been searched\n",
    "    def disp_search_points(self):\n",
    "        for x in range(0, len(self.search_points)):\n",
    "            for y in range(0, len(self.search_points[x])):\n",
    "                if self.search_points[x][y][0]:\n",
    "                    plt.plot(x, y, '.', color=self.search_points[x][y][1])\n",
    "    \n",
    "    # NOT CURRENTLY USED\n",
    "    #def disp_searched_points(self):\n",
    "        #for point in self.searched_points:\n",
    "            #plt.plot(point[0], point[1], '.', color='green')\n",
    "    \n",
    "    # Initialize the map of search points\n",
    "    def populate_search_points(self):\n",
    "        for i in range(0, self.length + 2):\n",
    "            row = []\n",
    "            for j in range(0, self.width + 2):\n",
    "                row.append([False, '#00FF00'])\n",
    "            self.search_points.append(row)\n",
    "            \n",
    "    def get_total_points(self):\n",
    "        return self.length * self.width"
   ]
  },
  {
   "cell_type": "code",
   "execution_count": 10,
   "metadata": {},
   "outputs": [],
   "source": [
    "# Determine the architecture of the swarm in terms of which drone relies on which for positioning and communication\n",
    "# Architecture is determined maximize the signal strength read between drones \n",
    "# (drones farther away from each other initially will not attempt to talk to each other directly)\n",
    "def determine_architecture(swarm):\n",
    "    coordinator = None\n",
    "    for drone in swarm.drones:\n",
    "        if coordinator == None:\n",
    "            coordinator = drone\n",
    "            rssi = 0\n",
    "        else:\n",
    "            rssi = drone_sig_strength(drone, coordinator)\n",
    "        init_rssi_table(drone, rssi, swarm.rssi_table)\n",
    "    sort_table_by_rssi(swarm.rssi_table)"
   ]
  },
  {
   "cell_type": "code",
   "execution_count": 11,
   "metadata": {},
   "outputs": [],
   "source": [
    "# Initialize the signal strength table\n",
    "def init_rssi_table(node_check, rssi, rssi_table):\n",
    "    node = {}\n",
    "    node[\"node\"] = node_check\n",
    "    node[\"rssi\"] = rssi\n",
    "    rssi_table.append(node)"
   ]
  },
  {
   "cell_type": "code",
   "execution_count": 12,
   "metadata": {},
   "outputs": [],
   "source": [
    "# Sort the signal strength table\n",
    "def sort_table_by_rssi(rssi_table):\n",
    "    rssi_table.sort(key=lambda val: val[\"rssi\"])"
   ]
  },
  {
   "cell_type": "code",
   "execution_count": 13,
   "metadata": {},
   "outputs": [],
   "source": [
    "# Drones determine who they should rely_on for communication and who they should send_to \n",
    "# This is determined based o nthe ordering of the sorted signal-strength-architecture table\n",
    "def determine_neighbors(swarm):\n",
    "    if len(swarm.rssi_table) > 1:\n",
    "        for index in range(0, len(swarm.rssi_table)):\n",
    "            node = swarm.rssi_table[index]['node']\n",
    "            if index == 0:\n",
    "                node.rely_on = None\n",
    "                node.send_to = swarm.rssi_table[index + 1]['node']\n",
    "            elif index == len(swarm.rssi_table) - 1:\n",
    "                node.rely_on = swarm.rssi_table[index - 1]['node']\n",
    "                node.send_to = None\n",
    "            else:\n",
    "                node.rely_on = swarm.rssi_table[index - 1]['node']\n",
    "                node.send_to = swarm.rssi_table[index + 1]['node']"
   ]
  },
  {
   "cell_type": "code",
   "execution_count": 14,
   "metadata": {},
   "outputs": [],
   "source": [
    "# Create a starting population (generation 1) for the genetic algorithm\n",
    "# size - how many members of the population should be created\n",
    "# map_size - the size of the map of the world that the population should be simulated in\n",
    "def create_starting_population(size, map_length, map_width):\n",
    "    population = []\n",
    "    \n",
    "    global num_nodes\n",
    "    for i in range(0,size):\n",
    "        population.append(create_new_member([], map_length, map_width))\n",
    "        \n",
    "    return population"
   ]
  },
  {
   "cell_type": "code",
   "execution_count": 15,
   "metadata": {},
   "outputs": [],
   "source": [
    "# Creates a new member of a population\n",
    "# drones - list of drones for the population-member (swarm) (if list empty, drones will be created)\n",
    "# map_size - the size of the map of the world that the population should be simulated in\n",
    "def create_new_member(drones, map_length, map_width):\n",
    "    if drones == []:\n",
    "        global num_drones\n",
    "        for i in range(0, num_drones):\n",
    "            drones.append(Drone())\n",
    "    member = Swarm(drones, map_length, map_width)\n",
    "    return member"
   ]
  },
  {
   "cell_type": "code",
   "execution_count": 16,
   "metadata": {},
   "outputs": [],
   "source": [
    "# Display a visualization of a swarm\n",
    "def plot_swarm(swarm):\n",
    "    fig, ax = plt.subplots() # note we must use plt.subplots, not plt.subplot\n",
    "    for drone in swarm.drones:\n",
    "        plt.plot(drone.x, drone.y, 'x', color='black')\n",
    "        #print(drone.x, drone.y)\n",
    "        #circle1 = plt.Circle((drone.x, drone.y), drone.coverage, color = 'b', fill=False)        \n",
    "        #ax.add_artist(circle1)\n",
    "\n",
    "    #fig.savefig('plotcircles.png')\n",
    "        \n",
    "    # Draws a visualization for the network connections    \n",
    "    for row in range(0, num_drones - 1):\n",
    "        for col in range(row + 1, num_drones):\n",
    "            if swarm.connectedness[row][col] == 1:\n",
    "                plt.plot([swarm.drones[row].x, swarm.drones[col].x], \n",
    "                         [swarm.drones[row].y, swarm.drones[col].y])"
   ]
  },
  {
   "cell_type": "code",
   "execution_count": 17,
   "metadata": {},
   "outputs": [],
   "source": [
    "# Returns all the integer points that are within a given circle\n",
    "# x0, y0 - the center of the circle\n",
    "# radius - the radius of the circle\n",
    "# NOT USED CURRENTLY\n",
    "def points_in_circle(x0, y0, radius):\n",
    "    x_ = np.arange(x0 - radius - 1, x0 + radius + 1, dtype=int)\n",
    "    y_ = np.arange(y0 - radius - 1, y0 + radius + 1, dtype=int)\n",
    "    x, y = np.where((x_[:,np.newaxis] - x0)**2 + (y_ - y0)**2 <= radius**2)\n",
    "    # x, y = np.where((np.hypot((x_-x0)[:,np.newaxis], y_-y0)<= radius)) # alternative implementation\n",
    "    for x, y in zip(x_[x], y_[y]):\n",
    "        yield x, y\n",
    "        plt.plot(x, y, '.', color='blue')"
   ]
  },
  {
   "cell_type": "code",
   "execution_count": 18,
   "metadata": {},
   "outputs": [],
   "source": [
    "# Determine the distance between two drones\n",
    "def drone_distance(drone1, drone2):\n",
    "    return abs(math.hypot(drone2.x - drone1.x, drone2.y - drone1.y))\n",
    "\n",
    "# Determine the signal strength between 2 drones using an RSSI formula\n",
    "def drone_sig_strength(drone1, drone2):\n",
    "    #return 20*math.log10(1/math.pow(drone_distance(drone1, drone2),2))\n",
    "    #return 1/math.pow(drone_distance(drone1, drone2),2)\n",
    "    dist = drone_distance(drone1, drone2)\n",
    "    #print(dist)\n",
    "    try:\n",
    "        return  10*2*math.log10(dist) + 1\n",
    "    except ValueError:\n",
    "        return 0\n",
    "\n",
    "# Determine the signal strength between all drones of an entire swarm\n",
    "def swarm_sig_strength(swarm):\n",
    "    swarm_strength = []\n",
    "    \n",
    "    for i in range(0, num_drones):\n",
    "        for j in range(0, i):\n",
    "            if swarm.connectedness[i][j] == 1:\n",
    "                #print('Signal strength between drone ', i, ' and drone ', j, ': ', end='')\n",
    "                #print(drone_sig_strength(swarm.drones[i], swarm.drones[j]))\n",
    "                dist = drone_distance(swarm.drones[i], swarm.drones[j])\n",
    "                sig_strength = drone_sig_strength(swarm.drones[i], swarm.drones[j])\n",
    "                swarm_strength.append([[j, i], dist , sig_strength])\n",
    "    return swarm_strength"
   ]
  },
  {
   "cell_type": "code",
   "execution_count": 19,
   "metadata": {},
   "outputs": [],
   "source": [
    "# Check how many points in GeoMap's search_points have been searched\n",
    "def check_drone_coverage(swarm):\n",
    "    #Only check the points that are within the area that drones have been\n",
    "    min_x = swarm.the_map.length + 1\n",
    "    max_x = 0\n",
    "    min_y = swarm.the_map.width + 1\n",
    "    max_y = 0\n",
    "    for drone in swarm.drones:\n",
    "        if drone.x < min_x:\n",
    "            min_x = drone.x\n",
    "        if drone.x > max_x:\n",
    "            max_x = drone.x\n",
    "        if drone.y < min_y:\n",
    "            min_y = drone.y\n",
    "        if drone.y > max_y:\n",
    "            max_y = drone.y\n",
    "    \n",
    "        #for circle_point in points_in_circle(drone.x, drone.y, drone.coverage):\n",
    "            #the_map.searched_points.add(circle_point)\n",
    "\n",
    "    #Check if points are within drone coverage\n",
    "    for x in range(int(min_x - drone.coverage), int(max_x + drone.coverage) + 1):\n",
    "        for y in range(int(min_y - drone.coverage), int(max_y + drone.coverage) + 1):\n",
    "            for drone in swarm.drones:\n",
    "                dist = math.sqrt(math.pow(x-drone.x, 2) + math.pow(y-drone.y, 2))\n",
    "                if dist <= drone.coverage:\n",
    "                    if x >= 0 and x <= swarm.the_map.length and y >= 0 and y <= swarm.the_map.width:\n",
    "                        if not swarm.the_map.search_points[x][y][0]:\n",
    "                            swarm.fitness += 1\n",
    "                            swarm.the_map.search_points[x][y][0] = True\n",
    "                        color = math.floor((swarm.battery_left/swarm.battery_life) * 255)\n",
    "                        if color < 16:\n",
    "                            swarm.the_map.search_points[x][y][1] = '#000' + str(hex(color))[2:] + '00'\n",
    "                        else:\n",
    "                            swarm.the_map.search_points[x][y][1] = '#00'  + str(hex(color))[2:] + '00'\n",
    "\n",
    "    #print(swarm_sig_strength(swarm))\n",
    "    #print(the_map.search_points)       "
   ]
  },
  {
   "cell_type": "code",
   "execution_count": 20,
   "metadata": {},
   "outputs": [],
   "source": [
    "def search_area_limits(swarm):\n",
    "    #Only check the points that are within the area that drones have been\n",
    "    min_x = swarm.the_map.size + 1\n",
    "    max_x = 0\n",
    "    min_y = swarm.the_map.size + 1\n",
    "    max_y = 0\n",
    "    for drone in swarm.drones:\n",
    "        if drone.x < min_x:\n",
    "            min_x = drone.x\n",
    "        if drone.x > max_x:\n",
    "            max_x = drone.x\n",
    "        if drone.y < min_y:\n",
    "            min_y = drone.y\n",
    "        if drone.y > max_y:\n",
    "            max_y = drone.y\n",
    "    return min_x, max_x, min_y, max_y"
   ]
  },
  {
   "cell_type": "code",
   "execution_count": 21,
   "metadata": {},
   "outputs": [],
   "source": [
    "def check_coverage_population():\n",
    "    for swarm in population:\n",
    "        check_drone_coverage(swarm)"
   ]
  },
  {
   "cell_type": "code",
   "execution_count": 22,
   "metadata": {},
   "outputs": [],
   "source": [
    "def set_map_size(w,h, ax=None):\n",
    "    \"\"\" w, h: width, height in inches \"\"\"\n",
    "    if not ax: ax=plt.gca()\n",
    "    l = ax.figure.subplotpars.left\n",
    "    r = ax.figure.subplotpars.right\n",
    "    t = ax.figure.subplotpars.top\n",
    "    b = ax.figure.subplotpars.bottom\n",
    "    figw = float(w)/(r-l)\n",
    "    figh = float(h)/(t-b)\n",
    "    ax.figure.set_size_inches(figw, figh)"
   ]
  },
  {
   "cell_type": "code",
   "execution_count": 23,
   "metadata": {},
   "outputs": [],
   "source": [
    "# Create a visualization of a swarm and the map it has searched\n",
    "# swarm - the swarm to display\n",
    "def draw_scene(swarm):\n",
    "    plot_swarm(swarm)\n",
    "    set_map_size(3*(map_length/map_width),3*(map_width/map_length))\n",
    "    swarm.the_map.draw_map()\n",
    "    #print(swarm.search_percentage(), '%')\n",
    "    print(swarm.fitness)"
   ]
  },
  {
   "cell_type": "code",
   "execution_count": 24,
   "metadata": {},
   "outputs": [],
   "source": [
    "def plot_population():\n",
    "    for swarm in population:\n",
    "        draw_scene(swarm)\n",
    "        #print(sorted(the_map.searched_points))\n",
    "        #print(swarm_sig_strength(swarm))\n",
    "        #print(swarm.fitness)\n",
    "        #print(swarm.determine_fitness())"
   ]
  },
  {
   "cell_type": "code",
   "execution_count": 25,
   "metadata": {},
   "outputs": [],
   "source": [
    "# Initialization of the main program\n",
    "def init():\n",
    "    global population\n",
    "    global map_length\n",
    "    global map_width\n",
    "    global members_per_generation\n",
    "    population = create_starting_population(members_per_generation, map_length, map_width)\n",
    "    #check_coverage_population()\n",
    "    #plot_population()\n",
    "    #for swarm in population:\n",
    "        #determine_architecture(swarm)\n",
    "        #determine_neighbors(swarm)"
   ]
  },
  {
   "cell_type": "code",
   "execution_count": 26,
   "metadata": {},
   "outputs": [],
   "source": [
    "# Drones randomly move around with no intelligence to attempt to search an area\n",
    "def scatter():\n",
    "    for swarm in population:\n",
    "        while swarm.battery_left > 0:\n",
    "            for drone in swarm.drones:\n",
    "                if drone.is_alive:\n",
    "                    x_adj = 0\n",
    "                    y_adj = 0\n",
    "                    x_adj += random.randint(-1, 1)\n",
    "                    y_adj += random.randint(-1, 1)\n",
    "                    #for circle_point in points_in_circle(drone.x, drone.y, drone.coverage):\n",
    "                        #print(circle_point)\n",
    "                        #the_map.searched_points.add(circle_point)\n",
    "                   \n",
    "                    #if drone.x < 0 or drone.x > swarm.the_map.size or drone.y < 0 or drone.y > swarm.the_map.size:\n",
    "                        #drone.is_alive = False\n",
    "                        \n",
    "                    # Move the drone based on the nn results\n",
    "                    if drone.x + x_adj >= 0 and drone.x + x_adj <= swarm.the_map.length:\n",
    "                        drone.x += x_adj\n",
    "                    if drone.y + y_adj >= 0 and drone.y + y_adj <= swarm.the_map.width:\n",
    "                        drone.y += y_adj\n",
    "\n",
    "                    check_drone_coverage(swarm)\n",
    "                    \n",
    "                    # If the drone strayed too far away from it's neighbor's, the drone is dead\n",
    "                    if drone.rely_on != None and drone_sig_strength(drone, drone.rely_on) > 30:\n",
    "                        drone.is_alive = False\n",
    "\n",
    "                    if drone.send_to != None and drone_sig_strength(drone, drone.send_to) > 30:\n",
    "                        drone.is_alive = False\n",
    "                        \n",
    "                    #for neighbor in drone.connected_to:\n",
    "                        #if drone_sig_strength(drone, neighbor) > 30:\n",
    "                            #drone.is_alive = False\n",
    "            swarm.battery_left -= 1 "
   ]
  },
  {
   "cell_type": "code",
   "execution_count": 27,
   "metadata": {},
   "outputs": [],
   "source": [
    "# Drones move around via neural network results to attempt to search an area\n",
    "def smart_scatter():\n",
    "    for swarm in population:\n",
    "        while swarm.battery_left > 0:\n",
    "            for drone in swarm.drones: \n",
    "                if drone.is_alive:\n",
    "                    # Interpret neural network results\n",
    "                    if drone.x_move < 0.33:\n",
    "                        x_adj = -1\n",
    "                    elif drone.x_move >= 0.33 and drone.x_move < .66:\n",
    "                        x_adj = 0\n",
    "                    elif drone.x_move >= .66:\n",
    "                        x_adj = 1\n",
    "\n",
    "                    if drone.y_move < 0.33:\n",
    "                        y_adj = -1\n",
    "                    elif drone.y_move >= 0.33 and drone.y_move < .66:\n",
    "                        y_adj = 0\n",
    "                    elif drone.y_move >= .66:\n",
    "                        y_adj = 1\n",
    "\n",
    "#                     # Move the drone based on the nn results\n",
    "#                     if drone.x + x_adj >= 0 and drone.x + x_adj <= swarm.the_map.length:\n",
    "                    drone.x += x_adj\n",
    "#                     if drone.y + y_adj >= 0 and drone.y + y_adj <= swarm.the_map.width:\n",
    "                    drone.y += y_adj\n",
    "                    \n",
    "                    # Update the search_points to see if any more have been searched\n",
    "                    #check_drone_coverage(swarm)\n",
    "                    #for circle_point in points_in_circle(drone.x, drone.y, drone.coverage):\n",
    "                        #print(circle_point)\n",
    "                        #the_map.searched_points.add(circle_point)\n",
    "\n",
    "                    # If the drone left the map, drone is dead\n",
    "                    #if drone.x < 0 or drone.x > swarm.the_map.size or drone.y < 0 or drone.y > swarm.the_map.size:\n",
    "                        #drone.is_alive = False\n",
    "\n",
    "                    # If the drone strayed too far away from it's neighbor's, the drone is dead\n",
    "#                     if drone.rely_on != None and drone_sig_strength(drone, drone.rely_on) > 30:\n",
    "#                         drone.is_alive = False\n",
    "\n",
    "#                     if drone.send_to != None and drone_sig_strength(drone, drone.send_to) > 30:\n",
    "#                         drone.is_alive = False\n",
    "                        \n",
    "                    for neighbor in drone.connected_to:\n",
    "                        if drone_sig_strength(drone, neighbor) > 30:\n",
    "                            drone.is_alive = False\n",
    "\n",
    "                    drone.neural_net_feedforward(drone.get_input_layer())\n",
    "            swarm.battery_left -= 1 \n",
    "        #check_drone_coverage(swarm)\n",
    "        swarm.determine_fitness()"
   ]
  },
  {
   "cell_type": "code",
   "execution_count": 28,
   "metadata": {},
   "outputs": [],
   "source": [
    "def hard_coded_search():\n",
    "    for swarm in population:\n",
    "            for drone in swarm.drones:\n",
    "                d = 1\n",
    "                batteryyy = map_length * map_width\n",
    "                while (batteryyy > 0):\n",
    "                    batteryyy -= 1\n",
    "                    if d == 1 and drone.x < map_length:\n",
    "                        drone.x += 1\n",
    "                    if d == 1 and drone.x == map_length:\n",
    "                        drone.y += 1\n",
    "                        d = -1\n",
    "                    if d == -1 and drone.y > 0:\n",
    "                        drone.x -= 1\n",
    "                    if d == -1 and drone.x == 0:\n",
    "                        drone.y += 1\n",
    "                        d = 1\n",
    "                    check_drone_coverage(swarm)\n",
    "\n",
    "            "
   ]
  },
  {
   "cell_type": "code",
   "execution_count": 29,
   "metadata": {},
   "outputs": [],
   "source": [
    "def kill_off_the_weak():\n",
    "    for unfortunate_soul in range(math.floor(len(population)/2), len(population)):\n",
    "        population.pop()"
   ]
  },
  {
   "cell_type": "code",
   "execution_count": 30,
   "metadata": {},
   "outputs": [],
   "source": [
    "def check_for_fittest():\n",
    "    global fittest_swarm\n",
    "    if fittest_swarm == None or population[0].fitness > fittest_swarm.fitness:\n",
    "        fittest_swarm = copy.deepcopy(population[0])\n",
    "        #check_drone_coverage(fittest_swarm)\n",
    "        draw_scene(fittest_swarm)\n",
    "    \n",
    "        print(datetime.datetime.now() - start_time)\n",
    "        return True\n",
    "    else:\n",
    "        if len(population) == 1:\n",
    "            population[0] = copy.deepcopy(fittest_swarm)\n",
    "        return False"
   ]
  },
  {
   "cell_type": "code",
   "execution_count": 31,
   "metadata": {},
   "outputs": [],
   "source": [
    "# GA function to mate/breed organisms of the population together\n",
    "# Done so by swapping drones with each other\n",
    "def mingle_the_genes():\n",
    "    global population\n",
    "    \n",
    "    # Assigning metaphorical sex. M/F assignment only metaphorical for separating groups\n",
    "    males = []\n",
    "    females = []\n",
    "    \n",
    "    random.shuffle(population)\n",
    "    for i in range(0, len(population), 2):\n",
    "        males.append(population[i])\n",
    "    for i in range(1, len(population), 2):\n",
    "        females.append(population[i])\n",
    "\n",
    "    if len(females) == 0:\n",
    "        asexually_reproduce()\n",
    "        \n",
    "    else:\n",
    "        for i in range(0, len(females)): #because females list will be shorter\n",
    "\n",
    "            splice_site = random.randint(1, len(females[i].drones))\n",
    "\n",
    "            males_front = males[i].drones[:splice_site]\n",
    "            males_end   = males[i].drones[splice_site:]\n",
    "            females_front = females[i].drones[:splice_site]\n",
    "            females_end   = females[i].drones[splice_site:]\n",
    "\n",
    "            offspring0_drones = copy.deepcopy(females_front + males_end)\n",
    "            offspring1_drones = copy.deepcopy(males_front + females_end)\n",
    "\n",
    "            population.append(create_new_member(offspring0_drones, map_length, map_width))\n",
    "            population.append(create_new_member(offspring1_drones, map_length, map_width))\n",
    "        "
   ]
  },
  {
   "cell_type": "code",
   "execution_count": 32,
   "metadata": {},
   "outputs": [],
   "source": [
    "#Reset swarm population\n",
    "def reset_population():\n",
    "    for swarm in population:\n",
    "        swarm.reset()"
   ]
  },
  {
   "cell_type": "code",
   "execution_count": 33,
   "metadata": {},
   "outputs": [],
   "source": [
    "def mutate_population():\n",
    "    global population\n",
    "    for swarm in population:\n",
    "        for drone in swarm.drones:\n",
    "            for layer in drone.nn.weights:\n",
    "                for node in layer:\n",
    "                    for weight in range(0, len(node)):\n",
    "                        chance = np.random.rand()\n",
    "                        if chance > 0.9:\n",
    "                            (node[weight]) += np.random.rand() * random.randint(-1, 1)\n",
    "                        #print(node[weight])\n",
    "                        #if weight < 0.5:\n",
    "                            #weight *= 0.5"
   ]
  },
  {
   "cell_type": "code",
   "execution_count": 34,
   "metadata": {},
   "outputs": [],
   "source": [
    "# Reproduces/refills population asexually\n",
    "def asexually_reproduce():\n",
    "    for swarm in range(0, len(population)):\n",
    "        swarm_copy = copy.deepcopy(population[swarm])\n",
    "        population.append(swarm_copy)"
   ]
  },
  {
   "cell_type": "code",
   "execution_count": 35,
   "metadata": {
    "scrolled": true
   },
   "outputs": [],
   "source": [
    "init()"
   ]
  },
  {
   "cell_type": "code",
   "execution_count": 36,
   "metadata": {},
   "outputs": [],
   "source": [
    "start_time = datetime.datetime.now()"
   ]
  },
  {
   "cell_type": "code",
   "execution_count": 37,
   "metadata": {},
   "outputs": [],
   "source": [
    "smart_scatter()\n",
    "#hard_coded_search()"
   ]
  },
  {
   "cell_type": "code",
   "execution_count": 38,
   "metadata": {},
   "outputs": [
    {
     "name": "stdout",
     "output_type": "stream",
     "text": [
      "5891.340852674999\n",
      "5429.345511264574\n",
      "7292.071100848147\n",
      "5264.325402831508\n",
      "5309.133049609732\n",
      "5348.934182133698\n",
      "5912.669599397041\n",
      "5548.121020341201\n",
      "5545.773754895732\n",
      "5327.77348763017\n",
      "5450.502521845729\n",
      "5669.052206564995\n",
      "5824.6526651939\n",
      "5628.721808573476\n",
      "5279.798526239583\n"
     ]
    },
    {
     "data": {
      "image/png": "[encoded data removed]",
      "text/plain": [
       "<Figure size 278.71x286.093 with 1 Axes>"
      ]
     },
     "metadata": {
      "needs_background": "light"
     },
     "output_type": "display_data"
    },
    {
     "data": {
      "image/png": "[encoded data removed]",
      "text/plain": [
       "<Figure size 278.71x286.093 with 1 Axes>"
      ]
     },
     "metadata": {
      "needs_background": "light"
     },
     "output_type": "display_data"
    },
    {
     "data": {
      "image/png": "[encoded data removed]",
      "text/plain": [
       "<Figure size 278.71x286.093 with 1 Axes>"
      ]
     },
     "metadata": {
      "needs_background": "light"
     },
     "output_type": "display_data"
    },
    {
     "data": {
      "image/png": "[encoded data removed]",
      "text/plain": [
       "<Figure size 278.71x286.093 with 1 Axes>"
      ]
     },
     "metadata": {
      "needs_background": "light"
     },
     "output_type": "display_data"
    },
    {
     "data": {
      "image/png": "[encoded data removed]",
      "text/plain": [
       "<Figure size 278.71x286.093 with 1 Axes>"
      ]
     },
     "metadata": {
      "needs_background": "light"
     },
     "output_type": "display_data"
    },
    {
     "data": {
      "image/png": "[encoded data removed]",
      "text/plain": [
       "<Figure size 278.71x286.093 with 1 Axes>"
      ]
     },
     "metadata": {
      "needs_background": "light"
     },
     "output_type": "display_data"
    },
    {
     "data": {
      "image/png": "[encoded data removed]",
      "text/plain": [
       "<Figure size 278.71x286.093 with 1 Axes>"
      ]
     },
     "metadata": {
      "needs_background": "light"
     },
     "output_type": "display_data"
    },
    {
     "data": {
      "image/png": "[encoded data removed]",
      "text/plain": [
       "<Figure size 278.71x286.093 with 1 Axes>"
      ]
     },
     "metadata": {
      "needs_background": "light"
     },
     "output_type": "display_data"
    },
    {
     "data": {
      "image/png": "[encoded data removed]",
      "text/plain": [
       "<Figure size 278.71x286.093 with 1 Axes>"
      ]
     },
     "metadata": {
      "needs_background": "light"
     },
     "output_type": "display_data"
    },
    {
     "data": {
      "image/png": "[encoded data removed]",
      "text/plain": [
       "<Figure size 278.71x286.093 with 1 Axes>"
      ]
     },
     "metadata": {
      "needs_background": "light"
     },
     "output_type": "display_data"
    },
    {
     "data": {
      "image/png": "[encoded data removed]",
      "text/plain": [
       "<Figure size 278.71x286.093 with 1 Axes>"
      ]
     },
     "metadata": {
      "needs_background": "light"
     },
     "output_type": "display_data"
    },
    {
     "data": {
      "image/png": "[encoded data removed]",
      "text/plain": [
       "<Figure size 278.71x286.093 with 1 Axes>"
      ]
     },
     "metadata": {
      "needs_background": "light"
     },
     "output_type": "display_data"
    },
    {
     "data": {
      "image/png": "[encoded data removed]",
      "text/plain": [
       "<Figure size 278.71x286.093 with 1 Axes>"
      ]
     },
     "metadata": {
      "needs_background": "light"
     },
     "output_type": "display_data"
    },
    {
     "data": {
      "image/png": "[encoded data removed]",
      "text/plain": [
       "<Figure size 278.71x286.093 with 1 Axes>"
      ]
     },
     "metadata": {
      "needs_background": "light"
     },
     "output_type": "display_data"
    },
    {
     "data": {
      "image/png": "[encoded data removed]",
      "text/plain": [
       "<Figure size 278.71x286.093 with 1 Axes>"
      ]
     },
     "metadata": {
      "needs_background": "light"
     },
     "output_type": "display_data"
    }
   ],
   "source": [
    "plot_population()"
   ]
  },
  {
   "cell_type": "code",
   "execution_count": 39,
   "metadata": {},
   "outputs": [
    {
     "name": "stdout",
     "output_type": "stream",
     "text": [
      "7292.071100848147\n",
      "0:00:04.052643\n"
     ]
    },
    {
     "data": {
      "text/plain": [
       "True"
      ]
     },
     "execution_count": 39,
     "metadata": {},
     "output_type": "execute_result"
    },
    {
     "data": {
      "image/png": "[encoded data removed]",
      "text/plain": [
       "<Figure size 278.71x286.093 with 1 Axes>"
      ]
     },
     "metadata": {
      "needs_background": "light"
     },
     "output_type": "display_data"
    }
   ],
   "source": [
    "population.sort(key=lambda x: x.fitness, reverse=True)\n",
    "if members_per_generation > 1:\n",
    "    kill_off_the_weak()\n",
    "check_for_fittest()"
   ]
  },
  {
   "cell_type": "code",
   "execution_count": 40,
   "metadata": {},
   "outputs": [],
   "source": [
    "reset_population()\n",
    "if members_per_generation > 1:   \n",
    "    #mingle_the_genes()\n",
    "    asexually_reproduce()"
   ]
  },
  {
   "cell_type": "code",
   "execution_count": 41,
   "metadata": {},
   "outputs": [],
   "source": [
    "mutate_population()"
   ]
  },
  {
   "cell_type": "code",
   "execution_count": 42,
   "metadata": {},
   "outputs": [],
   "source": [
    "#check_coverage_population()"
   ]
  },
  {
   "cell_type": "code",
   "execution_count": null,
   "metadata": {},
   "outputs": [
    {
     "name": "stdout",
     "output_type": "stream",
     "text": [
      "0 [6917.165066643588, 6482.60839787978, 6443.707445700538, 6324.5456441549, 6207.778875461304, 6124.938289020111, 6101.400413970857, 5972.725313103238, 5927.929960851087, 5905.686781833366, 5903.8086634494, 5467.347158643133, 5390.638613226785, 5304.900664747175, 5294.24181971703]\n",
      "1 [6460.606542481641, 6410.422640070834, 6286.791648147914, 6026.1896911486665, 5970.347114715718, 5860.674985101147, 5717.03113292005, 5706.630589164976, 5653.800446719221, 5517.543331827189, 5499.917807809191, 5355.018825975507, 5352.442340558935, 5346.489551723782, 5237.409768376225]\n",
      "2 [7708.1527531429565, 6277.201773176522, 6249.327882545264, 6218.449226743792, 6180.5750154479665, 6127.987570445532, 5933.870789886374, 5817.061152857245, 5755.029524968645, 5747.428812208661, 5703.6335293208185, 5633.008817966441, 5456.5393624264625, 5389.0046170448295, 5336.23373297463]\n",
      "3 [7704.079238260525, 6876.359911238017, 6533.356672119506, 6453.655793448187, 6219.362242936124, 6102.341177356106, 6040.018572169141, 6022.338720748393, 5951.51618295712, 5734.9220212041455, 5535.899463262188, 5535.612052293198, 5325.790757521412, 5293.611221882599, 5181.572963196907]\n",
      "4 [7160.665807429509, 7157.767806522815, 7069.323863144178, 6953.852326700716, 6517.2419514813755, 6260.859947306517, 5780.025049450865, 5769.069759450066, 5721.462698357536, 5681.5749495234595, 5553.060676034513, 5488.202235022112, 5471.390700324778, 5439.715397262749, 5419.087740821364]\n",
      "5 [7329.272178628749, 6617.741416896666, 6605.531616491672, 6089.746871940324, 5967.2140873664475, 5951.450577217265, 5920.8434442535745, 5856.580755209103, 5729.090356120075, 5679.969699176236, 5664.068038785695, 5618.035152798292, 5550.34100837917, 5398.925117794168, 5292.581936429989]\n",
      "6 [7462.788948547978, 6613.356596109635, 6376.810450518659, 6249.019792481156, 6224.108094193262, 6070.859560914445, 6023.772005348888, 5828.379545052891, 5700.928146513217, 5641.840689316322, 5579.192312540245, 5525.759443506946, 5453.954673631444, 5399.335708189983, 5226.775760865198]\n",
      "7 [6431.004613764026, 6173.150947541661, 6140.97535622298, 5820.818474653455, 5781.270437247545, 5727.142640654058, 5645.435954620441, 5621.077791821759, 5607.132344988985, 5582.045054668615, 5575.0439083994115, 5574.432533405243, 5364.153446084037, 5233.40564578955, 5070.334701045114]\n",
      "8 [6884.3248637903735, 6548.795445572933, 5934.519782346526, 5920.371320253903, 5780.38208582522, 5738.977435945886, 5700.9081197728865, 5660.869480671497, 5605.621743448534, 5601.084273395568, 5441.2159131256585, 5414.648243998173, 5400.368193542697, 5281.5653393784405, 5239.8748511790045]\n",
      "9 [7071.132105460693, 6254.255272619017, 6238.539836076248, 5959.533519093505, 5950.355858216924, 5945.946990403521, 5873.372961305877, 5754.484936698419, 5607.988381211932, 5575.42217586281, 5507.447557457609, 5500.736983749254, 5482.872907502326, 5404.37097677922, 5197.991535532971]\n",
      "10 [6937.755930653519, 6789.0955046082445, 6595.7508595741865, 6488.372457673206, 6181.010209773806, 6056.3222076022985, 6052.973540615901, 5995.352802041251, 5649.565805288689, 5611.453483129253, 5582.690719166421, 5535.276318184848, 5376.261154708053, 5304.885292877356, 5278.679135504252]\n",
      "11 [8007.808219759252, 6413.394889649264, 6394.874999981948, 6268.736663052644, 6000.877203014266, 5808.346176053631, 5644.551425223762, 5627.106097117878, 5592.066461926516, 5555.066715845066, 5543.018471961057, 5535.669513400232, 5535.319632839932, 5398.851034305408, 5380.461944285504]\n",
      "12 [7123.203756267859, 6549.117466775959, 6363.297022852742, 6164.962986149611, 6032.661693670274, 6000.696341090954, 5939.82027215521, 5923.70308055493, 5861.9275988925365, 5793.436584451732, 5751.4498839681655, 5708.807485772621, 5617.4417392576315, 5420.242740627627, 5208.565814447595]\n",
      "13 [6972.197254359485, 6951.27728617882, 6316.31515640202, 6250.733052557015, 5992.963012751931, 5978.960936387627, 5932.663020195586, 5929.508228750824, 5922.128626469031, 5884.206861640512, 5872.902939757554, 5777.862441702711, 5774.202852295351, 5686.901514566934, 5511.842101892186]\n",
      "14 [7255.398053800252, 6420.047456542742, 6185.328203351263, 6149.318708525725, 6084.4947516080165, 6045.2590593860405, 5963.887643426113, 5957.252460510709, 5903.705980588366, 5849.096615201428, 5768.169706042641, 5717.946889707381, 5419.363271733494, 5334.741105274606, 5293.50274433718]\n",
      "15 [7472.024277699018, 6912.667748265075, 6766.51541682127, 6620.116891674314, 6412.508836285011, 6387.575111319916, 6368.34456689225, 6085.479025663648, 6005.991139362647, 5961.5334691521075, 5889.191335238439, 5653.816547714451, 5629.348461379091, 5434.538010917378, 5330.1381799108185]\n",
      "16 [7031.188463941252, 6495.455164126836, 6494.308962185944, 6416.988732535349, 6290.65875879256, 6140.55921582218, 6079.389643960369, 5745.024093249249, 5742.002123820507, 5728.5659169883775, 5699.254698528792, 5651.962522808153, 5603.996009311475, 5593.453956972701, 5388.02270494591]\n",
      "17 [6942.610603799296, 6754.50381218291, 6386.693805250458, 6033.144470992009, 5880.445143008233, 5875.788501514505, 5798.55350863932, 5742.403937607769, 5727.362570500235, 5724.070837070876, 5707.755070041955, 5572.7595785551175, 5569.752989279274, 5472.777402226282, 5164.457274655943]\n",
      "18 [7116.011046306202, 6407.093487179461, 6277.280739247524, 6272.583616464068, 5932.244102584442, 5920.608224699059, 5874.919007053961, 5798.642740334797, 5642.626268968439, 5593.114416008003, 5484.500096508412, 5432.841613095024, 5329.934891155959, 5296.37692131316, 5197.263412490181]\n",
      "19 [7462.54333984135, 6933.4895641290705, 6079.098252171163, 5996.291010174232, 5963.218671831234, 5936.296342642933, 5918.797675547236, 5685.637712423756, 5637.132051714353, 5554.288782284795, 5467.281370990238, 5414.162198453273, 5351.663736009195, 5207.6160038725275, 5160.874195389174]\n",
      "20 [6647.830510748669, 6462.981128235035, 6394.297190262248, 6184.604088186077, 6027.425651935303, 5947.49610730211, 5922.471297881104, 5790.520577250591, 5782.101584143358, 5702.702565253514, 5621.339513511348, 5434.216173059815, 5418.355512250139, 5310.618505041234, 5098.448977818219]\n",
      "21 [7203.922099145368, 6725.291847293872, 6218.133094565051, 6174.70521408764, 6074.1688606848375, 5966.839462704264, 5924.294435937816, 5874.499012195708, 5828.202567940595, 5560.1878683592895, 5540.4585930213225, 5497.720352317484, 5470.777341305853, 5465.43419562931, 5298.761795478916]\n",
      "22 "
     ]
    }
   ],
   "source": [
    "if members_per_generation > 1:\n",
    "    for i in range(0, generations):\n",
    "        print(i, end=\" \")\n",
    "        smart_scatter()\n",
    "        #hard_coded_search()\n",
    "        population.sort(key=lambda x: x.fitness, reverse=True)\n",
    "        print(population)\n",
    "        kill_off_the_weak()\n",
    "        is_new_fittest = check_for_fittest()\n",
    "        #mingle_the_genes()\n",
    "        asexually_reproduce()\n",
    "        if not is_new_fittest:\n",
    "            population.append(copy.deepcopy(fittest_swarm))\n",
    "        reset_population()\n",
    "        mutate_population()\n",
    "else:\n",
    "    for i in range(0, generations):\n",
    "        print(i, end=\" \")\n",
    "        smart_scatter()\n",
    "        #hard_coded_search()\n",
    "        population.sort(key=lambda x: x.fitness, reverse=True)\n",
    "        print(population)\n",
    "        check_for_fittest()\n",
    "        reset_population()\n",
    "        mutate_population()"
   ]
  },
  {
   "cell_type": "code",
   "execution_count": null,
   "metadata": {},
   "outputs": [],
   "source": [
    "print(datetime.datetime.now() - start_time)"
   ]
  },
  {
   "cell_type": "code",
   "execution_count": null,
   "metadata": {},
   "outputs": [],
   "source": [
    "#check_drone_coverage(fittest_swarm)\n",
    "draw_scene(fittest_swarm)"
   ]
  },
  {
   "cell_type": "code",
   "execution_count": null,
   "metadata": {},
   "outputs": [],
   "source": []
  },
  {
   "cell_type": "code",
   "execution_count": null,
   "metadata": {},
   "outputs": [],
   "source": []
  }
 ],
 "metadata": {
  "kernelspec": {
   "display_name": "Python 3",
   "language": "python",
   "name": "python3"
  },
  "language_info": {
   "codemirror_mode": {
    "name": "ipython",
    "version": 3
   },
   "file_extension": ".py",
   "mimetype": "text/x-python",
   "name": "python",
   "nbconvert_exporter": "python",
   "pygments_lexer": "ipython3",
   "version": "3.7.3"
  }
 },
 "nbformat": 4,
 "nbformat_minor": 2
}
